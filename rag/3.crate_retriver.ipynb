{
 "cells": [
  {
   "cell_type": "code",
   "outputs": [
    {
     "name": "stdout",
     "output_type": "stream",
     "text": [
      "Note: you may need to restart the kernel to use updated packages.\n",
      "Note: you may need to restart the kernel to use updated packages.\n",
      "Note: you may need to restart the kernel to use updated packages.\n"
     ]
    }
   ],
   "source": [
    "%pip install --upgrade --quiet pip setuptools wheel\n",
    "%pip install --upgrade --quiet  langchain langchain-openai faiss-cpu tiktoken crate 'crate[sqlalchemy]' pandas jq \n",
    "%pip install --use-pep517 --quiet python-dotenv"
   ],
   "metadata": {
    "collapsed": false,
    "ExecuteTime": {
     "end_time": "2024-04-06T13:08:13.645755Z",
     "start_time": "2024-04-06T13:08:09.755232Z"
    }
   },
   "id": "initial_id",
   "execution_count": 1
  },
  {
   "cell_type": "markdown",
   "source": [
    "# Use CrateDB as fulltext search retriver and Mistral-7B as language model"
   ],
   "metadata": {
    "collapsed": false
   },
   "id": "dc24a7253f30ab45"
  },
  {
   "cell_type": "markdown",
   "source": [
    "## Setup environment variables"
   ],
   "metadata": {
    "collapsed": false
   },
   "id": "b175df042b6daa6c"
  },
  {
   "cell_type": "code",
   "outputs": [
    {
     "data": {
      "text/plain": "True"
     },
     "execution_count": 2,
     "metadata": {},
     "output_type": "execute_result"
    }
   ],
   "source": [
    "import os\n",
    "\n",
    "from dotenv import load_dotenv\n",
    "\n",
    "load_dotenv()"
   ],
   "metadata": {
    "collapsed": false,
    "ExecuteTime": {
     "end_time": "2024-04-06T13:08:13.653029Z",
     "start_time": "2024-04-06T13:08:13.646809Z"
    }
   },
   "id": "748584363db94776",
   "execution_count": 2
  },
  {
   "cell_type": "markdown",
   "source": [
    "## setup embeddings"
   ],
   "metadata": {
    "collapsed": false
   },
   "id": "d55a23d79479bbe0"
  },
  {
   "cell_type": "code",
   "outputs": [
    {
     "data": {
      "text/plain": "1536"
     },
     "execution_count": 3,
     "metadata": {},
     "output_type": "execute_result"
    }
   ],
   "source": [
    "from langchain_openai import OpenAIEmbeddings\n",
    "\n",
    "embeddings = OpenAIEmbeddings()\n",
    "len(embeddings.embed_query(\"a\"))"
   ],
   "metadata": {
    "collapsed": false,
    "ExecuteTime": {
     "end_time": "2024-04-06T13:08:14.469437Z",
     "start_time": "2024-04-06T13:08:13.653611Z"
    }
   },
   "id": "3310aa17c0d6b9a2",
   "execution_count": 3
  },
  {
   "cell_type": "code",
   "outputs": [
    {
     "data": {
      "text/plain": "'crate://crate:@localhost:4201'"
     },
     "execution_count": 4,
     "metadata": {},
     "output_type": "execute_result"
    }
   ],
   "source": [
    "conn_url = \"crate://{user}:{password}@{server}\".format(\n",
    "    user=os.environ[\"CRATEDB_USER\"],\n",
    "    password=os.environ[\"CRATEDB_PASS\"],\n",
    "    server=os.environ[\"CRATEDB_SERVER\"],\n",
    ")\n",
    "conn_url"
   ],
   "metadata": {
    "collapsed": false,
    "ExecuteTime": {
     "end_time": "2024-04-06T13:08:14.474719Z",
     "start_time": "2024-04-06T13:08:14.471369Z"
    }
   },
   "id": "5411eeb9ad125937",
   "execution_count": 4
  },
  {
   "cell_type": "code",
   "outputs": [],
   "source": [
    "# open file\n",
    "from langchain_community.document_loaders import JSONLoader, DirectoryLoader\n",
    "\n",
    "\n",
    "def metadata_func(record: dict, metadata: dict) -> dict:\n",
    "    metadata[\"source_url\"] = record.get(\"url\")\n",
    "    metadata[\"source_title\"] = record.get(\"title\")\n",
    "\n",
    "    if \"source\" in metadata:\n",
    "        metadata[\"source\"] = metadata[\"source_url\"]\n",
    "\n",
    "    return metadata\n",
    "\n",
    "\n",
    "loader = DirectoryLoader(\n",
    "    './',\n",
    "    glob=\"everything-*.json\",\n",
    "    loader_cls=JSONLoader,\n",
    "    loader_kwargs={\n",
    "        \"jq_schema\": \".[]\",\n",
    "        \"text_content\": False,\n",
    "        \"content_key\": \"html\",\n",
    "        \"metadata_func\": metadata_func,\n",
    "    }\n",
    ")\n",
    "\n",
    "data = loader.load()\n",
    "# data[:1]"
   ],
   "metadata": {
    "collapsed": false,
    "ExecuteTime": {
     "end_time": "2024-04-06T13:08:15.688340Z",
     "start_time": "2024-04-06T13:08:14.475343Z"
    }
   },
   "id": "ea0659ca5e6fb4af",
   "execution_count": 5
  },
  {
   "cell_type": "code",
   "outputs": [],
   "source": [
    "# split documents\n",
    "from langchain_text_splitters import RecursiveCharacterTextSplitter\n",
    "\n",
    "text_splitter = RecursiveCharacterTextSplitter(\n",
    "    separators=[\n",
    "        \"\\n\\n\",\n",
    "        \"\\n\",\n",
    "        \" \",\n",
    "        \".\",\n",
    "        \",\",\n",
    "    ],\n",
    "    chunk_size=500,\n",
    "    chunk_overlap=50,\n",
    "    length_function=len,\n",
    "    is_separator_regex=False,\n",
    ")\n",
    "\n",
    "docs_splits = text_splitter.split_documents(data)\n",
    "# docs_splits[:2]"
   ],
   "metadata": {
    "collapsed": false,
    "ExecuteTime": {
     "end_time": "2024-04-06T13:08:16.291567Z",
     "start_time": "2024-04-06T13:08:15.688972Z"
    }
   },
   "id": "2a88dee98868148f",
   "execution_count": 6
  },
  {
   "cell_type": "markdown",
   "source": [
    "## RAG search, indexing pipeline"
   ],
   "metadata": {
    "collapsed": false
   },
   "id": "eaad0fd23f459d41"
  },
  {
   "cell_type": "code",
   "outputs": [],
   "source": [
    "from langchain_core.output_parsers import StrOutputParser\n",
    "from langchain_core.prompts import ChatPromptTemplate\n",
    "from langchain_core.runnables import RunnablePassthrough\n",
    "from langchain_openai import ChatOpenAI"
   ],
   "metadata": {
    "collapsed": false,
    "ExecuteTime": {
     "end_time": "2024-04-06T13:08:16.308959Z",
     "start_time": "2024-04-06T13:08:16.292235Z"
    }
   },
   "id": "6aac71ef0f6c8ac",
   "execution_count": 7
  },
  {
   "cell_type": "code",
   "outputs": [
    {
     "data": {
      "text/plain": "<rag.vectorstore.crate.CrateVectorStore at 0x10b831550>"
     },
     "execution_count": 8,
     "metadata": {},
     "output_type": "execute_result"
    }
   ],
   "source": [
    "from langchain_community.utilities.sql_database import SQLDatabase\n",
    "from rag.vectorstore.crate import CrateVectorStore\n",
    "\n",
    "# vectorstore = CrateVectorStore(\n",
    "#     embeddings=embeddings,\n",
    "#     db=SQLDatabase.from_uri(conn_url),\n",
    "#     drop_if_exists=True,\n",
    "# )\n",
    "vectorstore = CrateVectorStore.from_documents(\n",
    "    # documents=[],\n",
    "    documents=docs_splits,\n",
    "    embedding=embeddings,\n",
    "    database_kwargs={\n",
    "        \"database_uri\": conn_url,\n",
    "    },\n",
    "    vectorstore_kwargs={\n",
    "       \"drop_if_exists\" : True,\n",
    "    },\n",
    ")\n",
    "vectorstore"
   ],
   "metadata": {
    "collapsed": false,
    "ExecuteTime": {
     "end_time": "2024-04-06T13:08:16.768026Z",
     "start_time": "2024-04-06T13:08:16.309640Z"
    }
   },
   "id": "7ef204c60490189",
   "execution_count": 8
  },
  {
   "cell_type": "code",
   "outputs": [],
   "source": [
    "retriever = vectorstore.as_retriever(\n",
    "    search_kwargs={'k': 10, 'fetch_k': 100, \"algorith\": \"knn\"}\n",
    ")"
   ],
   "metadata": {
    "collapsed": false,
    "ExecuteTime": {
     "end_time": "2024-04-06T13:08:16.770659Z",
     "start_time": "2024-04-06T13:08:16.768820Z"
    }
   },
   "id": "9008cfc6727133a9",
   "execution_count": 9
  },
  {
   "cell_type": "code",
   "outputs": [],
   "source": [
    "import json"
   ],
   "metadata": {
    "collapsed": false,
    "ExecuteTime": {
     "end_time": "2024-04-06T13:08:16.774501Z",
     "start_time": "2024-04-06T13:08:16.772977Z"
    }
   },
   "id": "3f36ec393120ea67",
   "execution_count": 10
  },
  {
   "cell_type": "code",
   "outputs": [
    {
     "data": {
      "text/plain": "'To use blobs in Crate, you first need to create a blob table. This can be done by issuing a SQL statement using the Crate Shell, CraSh. Here is an example command to create a blob table:\\n\\n```sh\\ncrash -c \"create blob table myblobs clustered into 3 shards with (number_of_replicas=1)\"\\n```\\n\\nAfter creating the blob table, you can upload a blob by issuing a PUT request. Here is an example command to upload a blob:\\n\\n```sh\\ncurl -isSX PUT \\'127.0.0.1:4200/_blobs/myblobs/4a756ca07e9487f482465a99e8286abc86ba4dc7\\' -d \\'contents\\'\\n```\\n\\nAdditionally, you can retrieve, delete, and manage blobs using different commands like SELECT for querying, DELETE for deleting, and ALTER for altering the blob table. You can find more information about using blobs in CrateDB from the [official documentation](https://cratedb.com/docs/crate/reference/en/3.3/general/blobs.html).'"
     },
     "execution_count": 11,
     "metadata": {},
     "output_type": "execute_result"
    }
   ],
   "source": [
    "template = \"\"\"Answer the question based only on the following context, if possible use links inside answer to reference the source, use markdown:\n",
    "\n",
    "today date is 2024 April 3rd\n",
    "\n",
    "{context}\n",
    "\n",
    "Question: {question}\n",
    "\"\"\"\n",
    "prompt = ChatPromptTemplate.from_template(template)\n",
    "model = ChatOpenAI()\n",
    "\n",
    "\n",
    "def format_docs(docs):\n",
    "    breakpoint()\n",
    "    return json.dumps([{\"text\": d.page_content, \"source\": d.metadata.get('source')} for d in docs])\n",
    "\n",
    "\n",
    "chain = (\n",
    "        {\"context\": retriever | format_docs,\n",
    "         \"question\": RunnablePassthrough()}\n",
    "        | prompt\n",
    "        | model\n",
    "        | StrOutputParser()\n",
    ")\n",
    "\n",
    "# result = chain.invoke(\"How to limit permissions?\")\n",
    "# result = chain.invoke(\" How AWS marketplace works, and why I cannot see deployment in my account?\")\n",
    "# result = chain.invoke(\"What are edge regions and how to use them?\")\n",
    "result = chain.invoke(\"Write me example of using blobs?\")\n",
    "# result = chain.invoke(\"How to use BLOB store in CrateDB? and what are the benefits?\")\n",
    "result\n"
   ],
   "metadata": {
    "collapsed": false,
    "ExecuteTime": {
     "end_time": "2024-04-06T13:08:20.177314Z",
     "start_time": "2024-04-06T13:08:16.775024Z"
    }
   },
   "id": "8e28d490652fe3ff",
   "execution_count": 11
  },
  {
   "cell_type": "code",
   "outputs": [
    {
     "data": {
      "text/plain": "<IPython.core.display.Markdown object>",
      "text/markdown": "To use blobs in Crate, you first need to create a blob table. This can be done by issuing a SQL statement using the Crate Shell, CraSh. Here is an example command to create a blob table:\n\n```sh\ncrash -c \"create blob table myblobs clustered into 3 shards with (number_of_replicas=1)\"\n```\n\nAfter creating the blob table, you can upload a blob by issuing a PUT request. Here is an example command to upload a blob:\n\n```sh\ncurl -isSX PUT '127.0.0.1:4200/_blobs/myblobs/4a756ca07e9487f482465a99e8286abc86ba4dc7' -d 'contents'\n```\n\nAdditionally, you can retrieve, delete, and manage blobs using different commands like SELECT for querying, DELETE for deleting, and ALTER for altering the blob table. You can find more information about using blobs in CrateDB from the [official documentation](https://cratedb.com/docs/crate/reference/en/3.3/general/blobs.html)."
     },
     "metadata": {},
     "output_type": "display_data"
    }
   ],
   "source": [
    "from IPython.display import display, Markdown\n",
    "\n",
    "display(Markdown(result))"
   ],
   "metadata": {
    "collapsed": false,
    "ExecuteTime": {
     "end_time": "2024-04-06T13:08:20.181075Z",
     "start_time": "2024-04-06T13:08:20.178092Z"
    }
   },
   "id": "4f13e0a365536776",
   "execution_count": 12
  },
  {
   "cell_type": "code",
   "outputs": [
    {
     "data": {
      "text/plain": "<IPython.core.display.Markdown object>",
      "text/markdown": "Edge regions are components of a deployed Edge Region that are not updated automatically. To continue getting new features, bugfixes, and security updates, users should update their Edge Regions regularly. If a region is outdated, users will see an \"Upgrade this Edge region\" button next to the region. Clicking on this button will show a command that updates the Edge Region, which can be pasted into the environment where the Edge cluster is deployed to upgrade it. \n\nAdditionally, users can create custom regions in the CrateDB Cloud Console by going to the Regions tab and clicking on \"Create Edge region.\" This is useful for hosting a cluster locally without relying on existing cloud providers.\n\nSources:\n- [CrateDB Documentation - Upgrade the Edge Region](https://cratedb.com/docs/cloud/en/latest/tutorials/edge/introduction.html#edge-disclaimer)\n- [CrateDB Documentation - Create a custom region](https://cratedb.com/docs/cloud/en/latest/tutorials/edge/introduction.html#edge-disclaimer)"
     },
     "metadata": {},
     "output_type": "display_data"
    }
   ],
   "source": [
    "display(Markdown(chain.invoke(\"What are edge regions and how to use them?\")))"
   ],
   "metadata": {
    "collapsed": false,
    "ExecuteTime": {
     "end_time": "2024-04-06T13:08:23.426421Z",
     "start_time": "2024-04-06T13:08:20.181732Z"
    }
   },
   "id": "b0f11d9a603e7889",
   "execution_count": 13
  },
  {
   "cell_type": "code",
   "outputs": [
    {
     "data": {
      "text/plain": "<IPython.core.display.Markdown object>",
      "text/markdown": "To deploy a cluster on CrateDB Cloud via AWS Marketplace, you first need to sign up via AWS Marketplace and have an AWS Marketplace account. Your hourly usage will be billed directly by Amazon, not by Crate.io. After subscribing to the CrateDB Cloud offer on AWS Marketplace, it can take up to 10 minutes for the subscription to be confirmed and usable in the CrateDB Cloud console. If you cannot see the deployment in your account, you may need to unsubscribe from the AWS Marketplace offer by logging in to the AWS Marketplace website with the account used for the subscription and following the steps to unsubscribe.\n\nFor more information on how AWS Marketplace works and how to subscribe to CrateDB Cloud's offering on AWS Marketplace, you can refer to the official documentation [here](https://cratedb.com/docs/cloud/en/latest/tutorials/deploy/marketplace/subscribe-aws.html)."
     },
     "metadata": {},
     "output_type": "display_data"
    }
   ],
   "source": [
    "display(Markdown(chain.invoke(\"How AWS marketplace works, and why I cannot see deployment in my account?\")))"
   ],
   "metadata": {
    "collapsed": false,
    "ExecuteTime": {
     "end_time": "2024-04-06T13:08:26.215987Z",
     "start_time": "2024-04-06T13:08:23.428039Z"
    }
   },
   "id": "888399f130295d26",
   "execution_count": 14
  },
  {
   "cell_type": "code",
   "outputs": [
    {
     "data": {
      "text/plain": "<IPython.core.display.Markdown object>",
      "text/markdown": "Recent blog posts about CrateDB include:\n\n1. [Distributed query execution in CrateDB: What you need to know](https://cratedb.com/blog/distributed-query-execution-in-cratedb-what-you-need-to-know)\n2. [Ingesting with CrateDB](https://cratedb.com/blog/cratedb-v4-6-is-now-stable-and-ready-to-use)\n3. [Exciting news and tutorials for data lovers](https://cratedb.com/blog/exciting-news-and-tutorials-for-datalovers)\n4. [Indexing and Storage in CrateDB](https://cratedb.com/product/features/indexing-columnar-storage-aggregations)"
     },
     "metadata": {},
     "output_type": "display_data"
    }
   ],
   "source": [
    "display(Markdown(chain.invoke(\"What are recent blog posts about CrateDB?\")))"
   ],
   "metadata": {
    "collapsed": false,
    "ExecuteTime": {
     "end_time": "2024-04-06T13:08:29.043837Z",
     "start_time": "2024-04-06T13:08:26.216843Z"
    }
   },
   "id": "bedae49045683aab",
   "execution_count": 15
  },
  {
   "cell_type": "code",
   "outputs": [
    {
     "data": {
      "text/plain": "<IPython.core.display.Markdown object>",
      "text/markdown": "To use CrateDB in Python, you can refer to the official CrateDB Python driver documentation [here](https://cratedb.com/connect/python). Additionally, you can explore different examples on how to use the CrateDB Python client [here](https://cratedb.com/docs/python/en/latest/by-example/index.html#by-example).\n\nHere is an example of Python code using CrateDB:\n\n```python\nimport crate\nfrom crate import client\n\n# Establish a connection to CrateDB\nconnection = client.connect('http://localhost:4200', username='your_username', password='your_password')\n\n# Create a cursor object\ncursor = connection.cursor()\n\n# Execute a SQL query\ncursor.execute(\"SELECT * FROM your_table\")\n\n# Fetch the results\nresults = cursor.fetchall()\n\n# Print the results\nfor result in results:\n    print(result)\n\n# Close the cursor and connection\ncursor.close()\nconnection.close()\n```\n\nThis is a basic example of how to connect to CrateDB, execute a query, fetch results, and print them using the CrateDB Python driver. You can find more examples and detailed documentation on how to interact with CrateDB using Python on the official website."
     },
     "metadata": {},
     "output_type": "display_data"
    }
   ],
   "source": [
    "display(Markdown(chain.invoke(\"Write me example python code to use CrateDB?\")))"
   ],
   "metadata": {
    "collapsed": false,
    "ExecuteTime": {
     "end_time": "2024-04-06T13:08:32.909089Z",
     "start_time": "2024-04-06T13:08:29.044434Z"
    }
   },
   "id": "ec0e108567d9641a",
   "execution_count": 16
  },
  {
   "cell_type": "code",
   "outputs": [
    {
     "data": {
      "text/plain": "<IPython.core.display.Markdown object>",
      "text/markdown": "To connect to CrateDB using Go, you can utilize the pgx driver. Below is an example of how to use pgx to connect to CrateDB:\n\n```go\npackage main\n\nimport (\n    \"context\"\n    \"fmt\"\n    \"os\"\n\n    \"github.com/jackc/pgx/v5\"\n)\n\nfunc main() {\n    // Define the connection string\n    connString := \"postgresql://localhost:5432/cratedb\"\n\n    // Establish a connection to CrateDB\n    conn, err := pgx.Connect(context.Background(), connString)\n    if err != nil {\n        fmt.Fprintf(os.Stderr, \"Unable to connect to database: %v\\n\", err)\n        os.Exit(1)\n    }\n    defer conn.Close(context.Background())\n\n    // Query the database\n    rows, err := conn.Query(context.Background(), \"SELECT * FROM your_table\")\n    if err != nil {\n        fmt.Fprintf(os.Stderr, \"Query failed: %v\\n\", err)\n        os.Exit(1)\n    }\n    defer rows.Close()\n\n    // Process the results\n    for rows.Next() {\n        var id int\n        var name string\n        err := rows.Scan(&id, &name)\n        if err != nil {\n            fmt.Fprintf(os.Stderr, \"Scan failed: %v\\n\", err)\n            os.Exit(1)\n        }\n        fmt.Printf(\"ID: %d, Name: %s\\n\", id, name)\n    }\n}\n```\n\nThis code snippet demonstrates how to establish a connection to CrateDB using the pgx driver and execute a simple query. For more information on using CrateDB with Go, you can refer to the [official documentation](https://cratedb.com/connect/go)."
     },
     "metadata": {},
     "output_type": "display_data"
    }
   ],
   "source": [
    "display(Markdown(chain.invoke(\"Write me example golang code to use CrateDB?\")))"
   ],
   "metadata": {
    "collapsed": false,
    "ExecuteTime": {
     "end_time": "2024-04-06T13:08:37.965621Z",
     "start_time": "2024-04-06T13:08:32.910221Z"
    }
   },
   "id": "78ca6aea3a80b38a",
   "execution_count": 17
  },
  {
   "cell_type": "code",
   "outputs": [
    {
     "data": {
      "text/plain": "<IPython.core.display.Markdown object>",
      "text/markdown": "To create a Retrieval Augmented Generation (RAG) search with CrateDB and OpenAI, you can follow the steps outlined in the blog post titled \"Leverage Vector Search to Use Embeddings and Generative AI: Retrieval Augmented Generation (RAG) with CrateDB.\" This post introduces the RAG approach based on CrateDB as a vector store and the OpenAI embedding model. It explains the role of the vector store and vector similarity search in the RAG workflow with CrateDB.\n\nYou can find more details and the complete guide on how to leverage CrateDB and OpenAI for RAG search by visiting the following source link: [Leverage Vector Search to Use Embeddings and Generative AI: Retrieval Augmented Generation (RAG) with CrateDB](https://cratedb.com/blog/leverage-vector-search-to-use-embeddings-and-generative-ai-retrieval-augmented-generation-rag-with-cratedb).\n\nAdditionally, the blog post provides a high-level overview of the RAG workflow with CrateDB, detailing the key steps involved in building a knowledge-based index, optimizing information retrieval, and fetching relevant documents from the vector store using a search algorithm. This information can be crucial in setting up a successful RAG search system with CrateDB and OpenAI.\n\nFor further insights and examples on using CrateDB for efficient data storage and implementing RAG systems, you can refer to the related blog posts and resources available on the CrateDB website."
     },
     "metadata": {},
     "output_type": "display_data"
    }
   ],
   "source": [
    "display(Markdown(chain.invoke(\"create RAG search with CrateDB and OpenAI?\")))"
   ],
   "metadata": {
    "collapsed": false,
    "ExecuteTime": {
     "end_time": "2024-04-06T13:08:42.716563Z",
     "start_time": "2024-04-06T13:08:37.966893Z"
    }
   },
   "id": "3fb4c53c61d1d4a6",
   "execution_count": 18
  },
  {
   "cell_type": "code",
   "outputs": [
    {
     "data": {
      "text/plain": "<IPython.core.display.Markdown object>",
      "text/markdown": "To alter a table and add a fulltext index, you can use the following syntax in CrateDB:\n\n```sql\nALTER TABLE table_name ADD INDEX index_name USING fulltext(column_name) WITH (analyzer = 'english');\n```\n\nReplace `table_name` with the name of your table, `index_name` with the desired name for your index, and `column_name` with the column you want to create the fulltext index on. Make sure to specify the analyzer you want to use, in this case, 'english'.\n\nYou can refer to the [CrateDB documentation on fulltext indices](https://cratedb.com/docs/crate/reference/en/master/general/ddl/fulltext-indices.html) for more information on this topic."
     },
     "metadata": {},
     "output_type": "display_data"
    }
   ],
   "source": [
    "display(Markdown(chain.invoke(\"how to alter table and add fulltext index?\")))"
   ],
   "metadata": {
    "collapsed": false,
    "ExecuteTime": {
     "end_time": "2024-04-06T13:08:45.247217Z",
     "start_time": "2024-04-06T13:08:42.717297Z"
    }
   },
   "id": "fc18f3aecbc06573",
   "execution_count": 19
  },
  {
   "cell_type": "code",
   "outputs": [
    {
     "data": {
      "text/plain": "<IPython.core.display.Markdown object>",
      "text/markdown": "To alter a table and add a vector type field that allows for KNN search in CrateDB, you can follow the steps below:\n\n1. Create a table with the desired fields, including the vector type field:\n   ```sql\n   CREATE TABLE my_data (\n     xs FLOAT_VECTOR(2)\n   );\n   ```\n\n2. Insert data into the table:\n   ```sql\n   INSERT INTO my_data VALUES ([1.6,2.7]), ([4.6, 7.8]);\n   ```\n\n3. With CrateDB version 5.5, you can now leverage vector support and KNN search. This allows you to store dense vectors of float values and perform approximate nearest neighbor search queries against them. The current dimension limit for a float_vector data type can be configured for is 2048. \n\nYou can find more information about vector data type and vector store functionality in CrateDB in this [source](https://cratedb.com/blog/cratedb-v5.5-vector-store).\n\nBy following these steps, you can alter a table and add a vector type field that enables KNN search functionality in CrateDB."
     },
     "metadata": {},
     "output_type": "display_data"
    }
   ],
   "source": [
    "display(Markdown(chain.invoke(\"how to alter table and add vector type field that allows for KNN search?\")))"
   ],
   "metadata": {
    "collapsed": false,
    "ExecuteTime": {
     "end_time": "2024-04-06T13:08:48.992395Z",
     "start_time": "2024-04-06T13:08:45.247975Z"
    }
   },
   "id": "977d9dc3062ded68",
   "execution_count": 20
  },
  {
   "cell_type": "code",
   "outputs": [
    {
     "data": {
      "text/plain": "<IPython.core.display.Markdown object>",
      "text/markdown": "To create a table with fields ID, name, vector, and index the vector field for KNN search in CrateDB, you can use the following SQL query:\n\n```sql\nCREATE TABLE my_table (\n  ID INTEGER PRIMARY KEY,\n  name TEXT,\n  vector FLOAT_VECTOR(2),\n  INDEX vector_index USING KNN WITH (dimension = 2)\n);\n```\n\nThis query creates a table named `my_table` with fields ID (as the primary key), name, vector (containing the float vector data), and an index on the vector field using KNN for efficient nearest neighbor search.\n\nYou can learn more about KNN search and vector support in CrateDB from [CrateDB Documentation](https://cratedb.com/docs/crate/reference/en/master/general/ddl/data-types.html) and [CrateDB Blog](https://cratedb.com/blog/unlocking-the-power-of-vector-support-and-knn-search-in-cratedb)."
     },
     "metadata": {},
     "output_type": "display_data"
    }
   ],
   "source": [
    "display(Markdown(chain.invoke(\"create table with fields ID, name, vector, and index vector field for KNN search?\")))"
   ],
   "metadata": {
    "collapsed": false,
    "ExecuteTime": {
     "end_time": "2024-04-06T13:08:51.716900Z",
     "start_time": "2024-04-06T13:08:48.993258Z"
    }
   },
   "id": "7c0bcabd6f3afc7b",
   "execution_count": 21
  },
  {
   "cell_type": "code",
   "outputs": [
    {
     "data": {
      "text/plain": "<IPython.core.display.Markdown object>",
      "text/markdown": "The limitations of CrateDB include the fact that the single-node CRFEE plan does not offer capabilities such as high speed, scalability, and high availability that you would get from a standard CrateDB distributed cluster. However, you can easily create a new cluster with another plan from within the Cloud Console. \n\nSource: [CrateDB Limitations](https://cratedb.com/lp-crfree)"
     },
     "metadata": {},
     "output_type": "display_data"
    }
   ],
   "source": [
    "display(Markdown(chain.invoke(\"What are limits and limitations of CrateDB?\")))"
   ],
   "metadata": {
    "collapsed": false,
    "ExecuteTime": {
     "end_time": "2024-04-06T13:08:53.408015Z",
     "start_time": "2024-04-06T13:08:51.717520Z"
    }
   },
   "id": "7e0231f91aa3881a",
   "execution_count": 22
  },
  {
   "cell_type": "code",
   "outputs": [
    {
     "data": {
      "text/plain": "<IPython.core.display.Markdown object>",
      "text/markdown": "The benefits of using CrateDB include:\n- Horizontal scalability, allowing users to add nodes as needed\n- Support for structured, semi-structured, and unstructured schemas\n- Multi-platform support, enabling CrateDB to run anywhere\n- Simplified data infrastructure and overcoming challenges of complexity and technical debt\n- Native SQL query language for data querying and manipulation, reducing the learning curve\n- Efficient management of extensive concurrent reads and writes in a distributed system\n- High performance, scalability, and flexibility, reducing total cost of ownership (TCO)\n- Fully distributed query engine and columnar storage for immediate data availability, ad-hoc queries, hyper-fast aggregations, and in-memory SQL query performance\n- Query response time in milliseconds for efficient data analysis\n- Support for dynamic schemas, queryable objects, time-series data, and real-time full-text search\n- Powerful REST API for managing and accessing CrateDB programmatically\n\nSources:\n- [CrateDB Customers](https://cratedb.com/customers/)\n- [CrateDB Blog](https://cratedb.com/blog/)\n- [CrateDB Solutions](https://cratedb.com/solutions/database-consolidation)\n- [CrateDB Features](https://cratedb.com/product/features/)"
     },
     "metadata": {},
     "output_type": "display_data"
    }
   ],
   "source": [
    "display(Markdown(chain.invoke(\"What are the benefits of using CrateDB?\")))"
   ],
   "metadata": {
    "collapsed": false,
    "ExecuteTime": {
     "end_time": "2024-04-06T13:08:56.514165Z",
     "start_time": "2024-04-06T13:08:53.409105Z"
    }
   },
   "id": "1c43ba2f2d639f2d",
   "execution_count": 23
  },
  {
   "cell_type": "code",
   "outputs": [
    {
     "data": {
      "text/plain": "<IPython.core.display.Markdown object>",
      "text/markdown": "Technical limitations include the size and complexity of machine-generated data, diverse architecture of machine data pipelines, dated or proprietary communication protocols used by historians, the constraints of strong consistency in relational databases, and the scalability limits and high costs associated with traditional data solutions in industrial environments. These limitations can hinder real-time analytics, integration with other systems and tools, and efficient database performance. \n\nSources:\n- [Restrictions](https://cratedb.com/subscription-agreement)\n- [IIoT data challenges](https://cratedb.com/blog/new-partner-on-board-welcome-roosi)\n- [Historians limitations](https://cratedb.com/blog/time-series-databases-operational-historians)\n- [Strong consistency constraints](https://cratedb.com/blog/myths-relational-databases-operational-historians)\n- [Industrial data challenges](https://cratedb.com/blog/digital-transformation-factory-floor)"
     },
     "metadata": {},
     "output_type": "display_data"
    }
   ],
   "source": [
    "display(Markdown(chain.invoke(\"What are technical limitations?\")))"
   ],
   "metadata": {
    "collapsed": false,
    "ExecuteTime": {
     "end_time": "2024-04-06T13:08:59.709095Z",
     "start_time": "2024-04-06T13:08:56.515726Z"
    }
   },
   "id": "cf70df429d8d5462",
   "execution_count": 24
  },
  {
   "cell_type": "code",
   "outputs": [
    {
     "data": {
      "text/plain": "<IPython.core.display.Markdown object>",
      "text/markdown": "Yes, index creation can block write operations if the `write.wait_for_active_shards` setting is configured to wait for a certain number of replica shards to be fully replicated. This can cause write operations to block until the replica shards are fully replicated again or until a timeout occurs if replication is not fast enough. You can find more information about this in the CrateDB documentation on [index creation](https://cratedb.com/docs/crate/reference/en/5.6/sql/statements/create-table.html)."
     },
     "metadata": {},
     "output_type": "display_data"
    }
   ],
   "source": [
    "display(Markdown(chain.invoke(\"Does index creation block write operations?\")))"
   ],
   "metadata": {
    "collapsed": false,
    "ExecuteTime": {
     "end_time": "2024-04-06T13:09:01.725902Z",
     "start_time": "2024-04-06T13:08:59.710774Z"
    }
   },
   "id": "eaf84e086725de7c",
   "execution_count": 25
  },
  {
   "cell_type": "code",
   "outputs": [
    {
     "data": {
      "text/plain": "<IPython.core.display.Markdown object>",
      "text/markdown": "Yes, CrateDB supports automatic indexing for all attributes regardless of their depth, enabling rapid search capabilities for stored objects and facilitating efficient updates. This indexing strategy is based on a Lucene index and automatically generates indexes, including strategies like Inverted Index for text values, Block k-d trees for numeric, date, and geospatial values, and Hierarchical Navigable Small World (HNSW) graphs for high dimensional vectors. You can find more information about CrateDB's indexing capabilities [here](https://cratedb.com/product/features/data-storage)."
     },
     "metadata": {},
     "output_type": "display_data"
    }
   ],
   "source": [
    "display(Markdown(chain.invoke(\"Does crate supports conditional indices\")))"
   ],
   "metadata": {
    "collapsed": false,
    "ExecuteTime": {
     "end_time": "2024-04-06T13:09:04.225417Z",
     "start_time": "2024-04-06T13:09:01.726772Z"
    }
   },
   "id": "1e51b14f0898070",
   "execution_count": 26
  },
  {
   "cell_type": "code",
   "outputs": [
    {
     "data": {
      "text/plain": "<IPython.core.display.Markdown object>",
      "text/markdown": "Based on the provided context, it seems that in CrateDB, primary keys cannot be auto-generated. Instead, you would need to specify the primary key when inserting data. If you want a field that is autoincremented, you would need to handle the autoincrement logic in the application code that interacts with the database.\n\nYou can refer to the official CrateDB documentation on primary keys for more information:\n- [CrateDB Primary Keys Documentation](https://cratedb.com/docs/guide/performance/inserts/tuning.html)"
     },
     "metadata": {},
     "output_type": "display_data"
    }
   ],
   "source": [
    "display(Markdown(chain.invoke(\"How to create ID field that is autoincremented?\")))"
   ],
   "metadata": {
    "collapsed": false,
    "ExecuteTime": {
     "end_time": "2024-04-06T13:09:06.144195Z",
     "start_time": "2024-04-06T13:09:04.226831Z"
    }
   },
   "id": "6c8ad4ce31c410db",
   "execution_count": 27
  },
  {
   "cell_type": "code",
   "outputs": [
    {
     "data": {
      "text/plain": "<IPython.core.display.Markdown object>",
      "text/markdown": "To create analyzers for fulltext search, you can use language-specific analyzers, tokenizers, and token-filters to achieve proper search results for data provided in a certain language. For example, you can refer to the documentation on CrateDB which provides information on how to define a fulltext index with an analyzer. \n\nYou can also create custom analyzers or extend built-in analyzers according to your requirements. For detailed steps and examples, you can check out the Fulltext Indices section in the CrateDB documentation [here](https://cratedb.com/docs/crate/reference/en/4.8/general/ddl/fulltext-indices.html). Additionally, you can refer to the Create a Custom Analyzer section for guidance on creating a custom analyzer and the CREATE ANALYZER section for syntax reference [here](https://cratedb.com/docs/crate/reference/en/3.3/general/ddl/analyzers.html)."
     },
     "metadata": {},
     "output_type": "display_data"
    }
   ],
   "source": [
    "display(Markdown(chain.invoke(\"how to create analysers for fulltext search?\")))"
   ],
   "metadata": {
    "collapsed": false,
    "ExecuteTime": {
     "end_time": "2024-04-06T13:09:09.250625Z",
     "start_time": "2024-04-06T13:09:06.150598Z"
    }
   },
   "id": "a5493db9b74c0f36",
   "execution_count": 28
  },
  {
   "cell_type": "code",
   "outputs": [
    {
     "data": {
      "text/plain": "<IPython.core.display.Markdown object>",
      "text/markdown": "Based on the provided context, information about passwords and admin access in CrateDB can be found in the following sources:\n\n1. Password authentication is used in CrateDB to control access via the CrateDB Admin UI and other interfaces. When the password authentication method is used, the client has to provide a password in addition to the username. This is important for securing access to the cluster and its data. Source: [CrateDB Documentation](https://cratedb.com/docs/crate/reference/en/5.6/admin/auth/methods.html)\n\n2. Credentials for accessing the Admin UI of the cluster consist of a username (which is always 'admin') and a password. The password can be changed for security reasons. This information is crucial for managing access to the administrative functions of the cluster. Source: [CrateDB Cloud Documentation](https://cratedb.com/docs/cloud/en/latest/reference/overview.html#import)\n\nThese sources provide insights into how passwords are used for authentication purposes and how they are related to accessing the Admin UI in CrateDB."
     },
     "metadata": {},
     "output_type": "display_data"
    }
   ],
   "source": [
    "display(Markdown(chain.invoke(\"give me information about password and admin\")))"
   ],
   "metadata": {
    "collapsed": false,
    "ExecuteTime": {
     "end_time": "2024-04-06T13:09:12.659393Z",
     "start_time": "2024-04-06T13:09:09.252377Z"
    }
   },
   "id": "d0ff879f8faea476",
   "execution_count": 29
  },
  {
   "cell_type": "code",
   "outputs": [
    {
     "data": {
      "text/plain": "<IPython.core.display.Markdown object>",
      "text/markdown": "The shared file system implementation of the BlobStoreRepository in CrateDB allows for defining a custom directory path for storing blob data, which can be different from the normal data path. This can be useful for scenarios where normal data is stored on a fast SSD and blob data is stored on a large, cheap spinning disk. This approach simplifies administration work by applying the same replication and sharding rules to both blob data and other types of data in the datastore. \n\nFor more information, you can refer to the official documentation on Blob Storage in CrateDB: [CrateDB Blob Storage Documentation](https://cratedb.com/docs/crate/reference/en/master/general/blobs.html)"
     },
     "metadata": {},
     "output_type": "display_data"
    }
   ],
   "source": [
    "display(Markdown(chain.invoke(\"Shared file system implementation of the BlobStoreRepository\")))"
   ],
   "metadata": {
    "collapsed": false,
    "ExecuteTime": {
     "end_time": "2024-04-06T13:09:14.870458Z",
     "start_time": "2024-04-06T13:09:12.660976Z"
    }
   },
   "id": "6ee39cf1942c7708",
   "execution_count": 30
  },
  {
   "cell_type": "code",
   "outputs": [
    {
     "data": {
      "text/plain": "<IPython.core.display.Markdown object>",
      "text/markdown": "Based on the provided context, the Cloud UI is not open source. The blog post mentions that the company has shifted towards fully managed SaaS solutions and acknowledges that they have not been optimally serving open-source users. Additionally, the company made a decision to split organization management and cluster management into two distinct contexts as part of a foundational improvement to how users interact with the platform, indicating a focus on proprietary features rather than open-source components. \n\nSource: [CrateDB Blog](https://cratedb.com/blog/farewell-to-the-cratedb-enterprise-license-faq)"
     },
     "metadata": {},
     "output_type": "display_data"
    }
   ],
   "source": [
    "display(Markdown(chain.invoke(\"Is Cloud UI opensource?\")))"
   ],
   "metadata": {
    "collapsed": false,
    "ExecuteTime": {
     "end_time": "2024-04-06T13:09:17.013419Z",
     "start_time": "2024-04-06T13:09:14.871629Z"
    }
   },
   "id": "770c08e36defac56",
   "execution_count": 31
  },
  {
   "cell_type": "code",
   "outputs": [
    {
     "data": {
      "text/plain": "<IPython.core.display.Markdown object>",
      "text/markdown": "To perform fusion search and connect vector search with full-text search, one can leverage the advanced search capabilities offered by CrateDB. CrateDB allows users to combine vector, full-text, and keyword searches for improved semantic similarity and keyword matching, enhancing search precision and relevance. By integrating vector search with full-text search, users can achieve a more comprehensive search experience that enhances semantic similarity and keyword matching, thus improving search precision and relevance.\n\nSource: [CrateDB - Solutions: Vector Database](https://cratedb.com/solutions/vector-database)"
     },
     "metadata": {},
     "output_type": "display_data"
    }
   ],
   "source": [
    "display(Markdown(chain.invoke(\"How to do fusion search and connect vector search with fulltext search\")))"
   ],
   "metadata": {
    "collapsed": false,
    "ExecuteTime": {
     "end_time": "2024-04-06T13:09:19.378999Z",
     "start_time": "2024-04-06T13:09:17.015285Z"
    }
   },
   "id": "38267f655cdf9f98",
   "execution_count": 32
  },
  {
   "cell_type": "code",
   "outputs": [
    {
     "data": {
      "text/plain": "<IPython.core.display.Markdown object>",
      "text/markdown": "To perform a full-text search in a database, you need to create a full-text index with an analyzer for the specific column you want to search. You can learn how to set up your database for full-text search, create the relevant indices, and query your text data efficiently by following the guidelines provided in the documentation on the CrateDB website. \n\nFor example, you can refer to the documentation on full-text search in the Netflix Catalog [here](https://cratedb.com/docs/guide/domain/search/index.html#fts) to understand the process better. Additionally, you can start with a basic SELECT statement on all columns and limit the output to display only a few records to explore the data quickly, as shown in this [tutorial](https://cratedb.com/docs/cloud/en/latest/tutorials/full-text.html).\n\nRemember that it's essential to create a full-text index with an analyzer for the column you want to search, as explained in the CrateDB documentation on fulltext indices [here](https://cratedb.com/docs/crate/reference/en/5.6/general/dql/fulltext.html). Keep in mind that querying multiple index columns with different index types within the same MATCH predicate is not possible, as mentioned in the documentation."
     },
     "metadata": {},
     "output_type": "display_data"
    }
   ],
   "source": [
    "display(Markdown(chain.invoke(\"How to MATH fulltext \")))"
   ],
   "metadata": {
    "collapsed": false,
    "ExecuteTime": {
     "end_time": "2024-04-06T13:09:23.100620Z",
     "start_time": "2024-04-06T13:09:19.380819Z"
    }
   },
   "id": "5a02a60b242d49ef",
   "execution_count": 33
  },
  {
   "cell_type": "code",
   "outputs": [],
   "source": [],
   "metadata": {
    "collapsed": false,
    "ExecuteTime": {
     "end_time": "2024-04-06T13:09:23.106180Z",
     "start_time": "2024-04-06T13:09:23.102541Z"
    }
   },
   "id": "856682d3eea6ea37",
   "execution_count": 33
  }
 ],
 "metadata": {
  "kernelspec": {
   "display_name": "Python 3",
   "language": "python",
   "name": "python3"
  },
  "language_info": {
   "codemirror_mode": {
    "name": "ipython",
    "version": 2
   },
   "file_extension": ".py",
   "mimetype": "text/x-python",
   "name": "python",
   "nbconvert_exporter": "python",
   "pygments_lexer": "ipython2",
   "version": "2.7.6"
  }
 },
 "nbformat": 4,
 "nbformat_minor": 5
}
