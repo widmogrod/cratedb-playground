{
 "cells": [
  {
   "cell_type": "code",
   "outputs": [
    {
     "name": "stdout",
     "output_type": "stream",
     "text": [
      "Note: you may need to restart the kernel to use updated packages.\n",
      "Note: you may need to restart the kernel to use updated packages.\n",
      "Note: you may need to restart the kernel to use updated packages.\n"
     ]
    }
   ],
   "source": [
    "%pip install --upgrade --quiet pip setuptools wheel matplotlib seaborn\n",
    "%pip install --upgrade --quiet  langchain langchain-openai faiss-cpu tiktoken crate 'crate[sqlalchemy]' pandas jq \n",
    "%pip install --use-pep517 --quiet python-dotenv"
   ],
   "metadata": {
    "collapsed": false,
    "ExecuteTime": {
     "end_time": "2024-04-13T17:02:49.783767Z",
     "start_time": "2024-04-13T17:02:40.938152Z"
    }
   },
   "id": "initial_id",
   "execution_count": 78
  },
  {
   "cell_type": "markdown",
   "source": [
    "# Evaluate RAG search with CrateDB vector, fulltext, fusion and OpenAI"
   ],
   "metadata": {
    "collapsed": false
   },
   "id": "dc24a7253f30ab45"
  },
  {
   "cell_type": "markdown",
   "source": [
    "## Setup environment variables"
   ],
   "metadata": {
    "collapsed": false
   },
   "id": "b175df042b6daa6c"
  },
  {
   "cell_type": "code",
   "outputs": [
    {
     "data": {
      "text/plain": "True"
     },
     "execution_count": 1,
     "metadata": {},
     "output_type": "execute_result"
    }
   ],
   "source": [
    "import os\n",
    "\n",
    "from dotenv import load_dotenv\n",
    "\n",
    "load_dotenv()"
   ],
   "metadata": {
    "collapsed": false,
    "ExecuteTime": {
     "end_time": "2024-04-12T20:34:10.474810Z",
     "start_time": "2024-04-12T20:34:10.466013Z"
    }
   },
   "id": "748584363db94776",
   "execution_count": 1
  },
  {
   "cell_type": "markdown",
   "source": [
    "## setup embeddings"
   ],
   "metadata": {
    "collapsed": false
   },
   "id": "d55a23d79479bbe0"
  },
  {
   "cell_type": "code",
   "outputs": [
    {
     "data": {
      "text/plain": "1536"
     },
     "execution_count": 2,
     "metadata": {},
     "output_type": "execute_result"
    }
   ],
   "source": [
    "from langchain_openai import OpenAIEmbeddings\n",
    "\n",
    "embeddings = OpenAIEmbeddings()\n",
    "len(embeddings.embed_query(\"a\"))"
   ],
   "metadata": {
    "collapsed": false,
    "ExecuteTime": {
     "end_time": "2024-04-12T20:34:12.977648Z",
     "start_time": "2024-04-12T20:34:12.247410Z"
    }
   },
   "id": "3310aa17c0d6b9a2",
   "execution_count": 2
  },
  {
   "cell_type": "code",
   "outputs": [
    {
     "data": {
      "text/plain": "'crate://crate:@localhost:4200'"
     },
     "execution_count": 3,
     "metadata": {},
     "output_type": "execute_result"
    }
   ],
   "source": [
    "conn_url = \"crate://{user}:{password}@{server}\".format(\n",
    "    user=os.environ[\"CRATEDB_USER\"],\n",
    "    password=os.environ[\"CRATEDB_PASS\"],\n",
    "    server=os.environ[\"CRATEDB_SERVER\"],\n",
    ")\n",
    "conn_url"
   ],
   "metadata": {
    "collapsed": false,
    "ExecuteTime": {
     "end_time": "2024-04-12T20:34:14.234902Z",
     "start_time": "2024-04-12T20:34:14.221034Z"
    }
   },
   "id": "5411eeb9ad125937",
   "execution_count": 3
  },
  {
   "cell_type": "code",
   "outputs": [],
   "source": [
    "# open file\n",
    "from langchain_community.document_loaders import JSONLoader, DirectoryLoader\n",
    "\n",
    "\n",
    "def metadata_func(record: dict, metadata: dict) -> dict:\n",
    "    metadata[\"source_url\"] = record.get(\"url\")\n",
    "    metadata[\"source_title\"] = record.get(\"title\")\n",
    "\n",
    "    if \"source\" in metadata:\n",
    "        metadata[\"source\"] = metadata[\"source_url\"]\n",
    "\n",
    "    return metadata\n",
    "\n",
    "\n",
    "loader = DirectoryLoader(\n",
    "    './',\n",
    "    glob=\"everything-*.json\",\n",
    "    loader_cls=JSONLoader,\n",
    "    loader_kwargs={\n",
    "        \"jq_schema\": \".[]\",\n",
    "        \"text_content\": False,\n",
    "        \"content_key\": \"html\",\n",
    "        \"metadata_func\": metadata_func,\n",
    "    }\n",
    ")\n",
    "\n",
    "data = loader.load()\n",
    "# data[:1]"
   ],
   "metadata": {
    "collapsed": false,
    "ExecuteTime": {
     "end_time": "2024-04-12T20:34:16.459955Z",
     "start_time": "2024-04-12T20:34:15.188563Z"
    }
   },
   "id": "ea0659ca5e6fb4af",
   "execution_count": 4
  },
  {
   "cell_type": "code",
   "outputs": [],
   "source": [
    "# split documents\n",
    "from langchain_text_splitters import RecursiveCharacterTextSplitter\n",
    "\n",
    "text_splitter = RecursiveCharacterTextSplitter(\n",
    "    separators=[\n",
    "        \"\\n\\n\",\n",
    "        \"\\n\",\n",
    "        \" \",\n",
    "        \".\",\n",
    "        \",\",\n",
    "    ],\n",
    "    chunk_size=500,\n",
    "    chunk_overlap=50,\n",
    "    length_function=len,\n",
    "    is_separator_regex=False,\n",
    ")\n",
    "\n",
    "docs_splits = text_splitter.split_documents(data)\n",
    "# docs_splits[:2]"
   ],
   "metadata": {
    "collapsed": false,
    "ExecuteTime": {
     "end_time": "2024-04-12T20:34:17.743044Z",
     "start_time": "2024-04-12T20:34:17.111244Z"
    }
   },
   "id": "2a88dee98868148f",
   "execution_count": 5
  },
  {
   "cell_type": "markdown",
   "source": [
    "## RAG search, indexing pipeline"
   ],
   "metadata": {
    "collapsed": false
   },
   "id": "eaad0fd23f459d41"
  },
  {
   "cell_type": "code",
   "outputs": [],
   "source": [
    "from langchain_core.output_parsers import StrOutputParser\n",
    "from langchain_core.prompts import ChatPromptTemplate\n",
    "from langchain_core.runnables import RunnablePassthrough\n",
    "from langchain_openai import ChatOpenAI"
   ],
   "metadata": {
    "collapsed": false,
    "ExecuteTime": {
     "end_time": "2024-04-12T20:34:19.049429Z",
     "start_time": "2024-04-12T20:34:19.028217Z"
    }
   },
   "id": "6aac71ef0f6c8ac",
   "execution_count": 6
  },
  {
   "cell_type": "code",
   "outputs": [
    {
     "data": {
      "text/plain": "<rag.vectorstore.crate.CrateVectorStore at 0x1066a2310>"
     },
     "execution_count": 7,
     "metadata": {},
     "output_type": "execute_result"
    }
   ],
   "source": [
    "from rag.vectorstore.crate import CrateVectorStore\n",
    "\n",
    "vectorstore = CrateVectorStore.from_documents(\n",
    "    # assumes that data was imported already\n",
    "    # allow faster recomputation of notebook, without need of reindexing\n",
    "    # documents=[],\n",
    "    documents=docs_splits,\n",
    "    embedding=embeddings,\n",
    "    database_kwargs={\n",
    "        \"database_uri\": conn_url,\n",
    "    },\n",
    "    # vectorstore_kwargs={\n",
    "    #    \"drop_if_exists\" : True,\n",
    "    # },\n",
    ")\n",
    "vectorstore"
   ],
   "metadata": {
    "collapsed": false,
    "ExecuteTime": {
     "end_time": "2024-04-12T20:40:48.984790Z",
     "start_time": "2024-04-12T20:34:19.912222Z"
    }
   },
   "id": "7ef204c60490189",
   "execution_count": 7
  },
  {
   "cell_type": "code",
   "outputs": [],
   "source": [
    "from langchain.retrievers import EnsembleRetriever\n",
    "\n",
    "retriever_a = vectorstore.as_retriever(\n",
    "    search_kwargs={'k': 10, 'fetch_k': 100, \"algorith\": \"knn\"}\n",
    ")\n",
    "\n",
    "retriever_b = vectorstore.as_retriever(\n",
    "    search_kwargs={'k': 10, 'fetch_k': 100, \"algorith\": \"fulltext\"}\n",
    ")\n",
    "\n",
    "retriever_c = EnsembleRetriever(\n",
    "    retrievers=[\n",
    "        retriever_a,\n",
    "        retriever_b\n",
    "    ],\n",
    "    weights=[0.5, 0.5],\n",
    ")"
   ],
   "metadata": {
    "collapsed": false,
    "ExecuteTime": {
     "end_time": "2024-04-12T20:51:14.817548Z",
     "start_time": "2024-04-12T20:51:14.814406Z"
    }
   },
   "id": "9008cfc6727133a9",
   "execution_count": 13
  },
  {
   "cell_type": "code",
   "outputs": [],
   "source": [
    "import json"
   ],
   "metadata": {
    "collapsed": false,
    "ExecuteTime": {
     "end_time": "2024-04-12T20:51:16.311676Z",
     "start_time": "2024-04-12T20:51:16.308649Z"
    }
   },
   "id": "3f36ec393120ea67",
   "execution_count": 14
  },
  {
   "cell_type": "code",
   "outputs": [
    {
     "data": {
      "text/plain": "'To use blobs in CrateDB, you first need to create a blob table by issuing a SQL statement in the Crate Shell. For example:\\n\\n```sh\\ncrash -c \"create blob table myblobs clustered into 3 shards with (number_of_replicas=1)\"\\n```\\n\\nOnce the blob table is created, you can upload blobs by issuing a PUT request. For example:\\n\\n```sh\\ncurl -isSX PUT \\'127.0.0.1:4200/_blobs/myblobs/4a756ca07e9487f482465a99e8286abc86ba4dc7\\' -d \\'contents\\'\\n```\\n\\nYou can also retrieve, delete, and manage blobs using various API endpoints provided by CrateDB.\\n\\n[source](https://cratedb.com/blog/using-crate-as-a-blobstore)'"
     },
     "execution_count": 66,
     "metadata": {},
     "output_type": "execute_result"
    }
   ],
   "source": [
    "template = \"\"\"Answer the question based only on the context, if possible use links to reference the source, use markdown, avoid answering when the context and question are not related.\n",
    "\n",
    "today date is 2024 April 3rd\n",
    "\n",
    "{context}\n",
    "\n",
    "Question: {question}\n",
    "\"\"\"\n",
    "prompt = ChatPromptTemplate.from_template(template)\n",
    "model = ChatOpenAI()\n",
    "\n",
    "\n",
    "def format_docs(docs):\n",
    "    breakpoint()\n",
    "    return json.dumps([{\"text\": d.page_content, \"source\": d.metadata.get('source')} for d in docs])\n",
    "\n",
    "\n",
    "chain_a = (\n",
    "        {\"context\": retriever_a | format_docs,\n",
    "         \"question\": RunnablePassthrough()}\n",
    "        | prompt\n",
    "        | model\n",
    "        | StrOutputParser()\n",
    ")\n",
    "\n",
    "chain_b = (\n",
    "        {\"context\": retriever_b | format_docs,\n",
    "         \"question\": RunnablePassthrough()}\n",
    "        | prompt\n",
    "        | model\n",
    "        | StrOutputParser()\n",
    ")\n",
    "\n",
    "chain_c = (\n",
    "        {\"context\": retriever_c | format_docs,\n",
    "         \"question\": RunnablePassthrough()}\n",
    "        | prompt\n",
    "        | model\n",
    "        | StrOutputParser()\n",
    ")\n",
    "\n",
    "# result = chain.invoke(\"How to limit permissions?\")\n",
    "# result = chain.invoke(\" How AWS marketplace works, and why I cannot see deployment in my account?\")\n",
    "# result = chain.invoke(\"What are edge regions and how to use them?\")\n",
    "result = chain_a.invoke(\"Write me example of using blobs?\")\n",
    "# result = chain.invoke(\"How to use BLOB store in CrateDB? and what are the benefits?\")\n",
    "result\n"
   ],
   "metadata": {
    "collapsed": false,
    "ExecuteTime": {
     "end_time": "2024-04-13T16:55:58.978599Z",
     "start_time": "2024-04-13T16:55:55.548864Z"
    }
   },
   "id": "8e28d490652fe3ff",
   "execution_count": 66
  },
  {
   "cell_type": "code",
   "outputs": [
    {
     "data": {
      "text/plain": "<IPython.core.display.Markdown object>",
      "text/markdown": "To use blobs in CrateDB, you first need to create a blob table by issuing a SQL statement in the Crate Shell. For example:\n\n```sh\ncrash -c \"create blob table myblobs clustered into 3 shards with (number_of_replicas=1)\"\n```\n\nOnce the blob table is created, you can upload blobs by issuing a PUT request. For example:\n\n```sh\ncurl -isSX PUT '127.0.0.1:4200/_blobs/myblobs/4a756ca07e9487f482465a99e8286abc86ba4dc7' -d 'contents'\n```\n\nYou can also retrieve, delete, and manage blobs using various API endpoints provided by CrateDB.\n\n[source](https://cratedb.com/blog/using-crate-as-a-blobstore)"
     },
     "metadata": {},
     "output_type": "display_data"
    }
   ],
   "source": [
    "from IPython.display import display, Markdown\n",
    "\n",
    "display(Markdown(result))"
   ],
   "metadata": {
    "collapsed": false,
    "ExecuteTime": {
     "end_time": "2024-04-13T16:55:58.981960Z",
     "start_time": "2024-04-13T16:55:58.979539Z"
    }
   },
   "id": "4f13e0a365536776",
   "execution_count": 67
  },
  {
   "cell_type": "markdown",
   "source": [
    "## Evaluation"
   ],
   "metadata": {
    "collapsed": false
   },
   "id": "667c56a3edf0d358"
  },
  {
   "cell_type": "code",
   "outputs": [],
   "source": [
    "questions = [\n",
    "    \"Write me example of using blobs?\",\n",
    "    \"How to use BLOB store in CrateDB? and what are the benefits?\",\n",
    "    \"How to limit permissions?\",\n",
    "    \"How AWS marketplace works, and why I cannot see deployment in my account?\",\n",
    "    \"What are edge regions and how to use them?\",\n",
    "    \"What are recent blog posts about CrateDB?\",\n",
    "    \"Write me example python code to use CrateDB?\",\n",
    "    \"Write me example golang code to use CrateDB?\",\n",
    "    \"create RAG search with CrateDB and OpenAI?\",\n",
    "    \"how to alter table and add fulltext index?\",\n",
    "    \"how to alter table and add vector type field that allows for KNN search?\",\n",
    "    \"create table with fields ID, name, vector, and index vector field for KNN search?\",\n",
    "    \"What are limits and limitations of CrateDB?\",\n",
    "    \"What are the benefits of using CrateDB?\",\n",
    "    \"Does index creation block write operations?\",\n",
    "    \"Does crate supports conditional indices\",\n",
    "    \"How to create ID field that is autoincremented?\",\n",
    "    \"how to create analysers for fulltext search?\",\n",
    "    \"give me information about password and admin\",\n",
    "    \"Shared file system implementation of the BlobStoreRepository\",\n",
    "    \"Is Cloud UI opensource?\",\n",
    "    \"How to do fusion search and connect vector search with fulltext search\",\n",
    "    \"How to MATH fulltext \"\n",
    "    \"Benchmarks of CrateDB\",\n",
    "]"
   ],
   "metadata": {
    "collapsed": false,
    "ExecuteTime": {
     "end_time": "2024-04-13T16:55:58.984858Z",
     "start_time": "2024-04-13T16:55:58.982657Z"
    }
   },
   "id": "7d358c7067a4c7a2",
   "execution_count": 68
  },
  {
   "cell_type": "code",
   "outputs": [],
   "source": [
    "from langchain.evaluation import load_evaluator\n",
    "from langchain.evaluation.criteria import Criteria\n",
    "\n",
    "criteria = [\n",
    "    Criteria.COHERENCE,\n",
    "    Criteria.RELEVANCE,\n",
    "    Criteria.DETAIL,\n",
    "    Criteria.HARMFULNESS,\n",
    "    Criteria.HELPFULNESS,\n",
    "]\n",
    "\n",
    "criteria2 = {\n",
    "    \"runnable\": \"Software engineer who is looking for information can copy and paste the code and it should work\",\n",
    "    \"relevance\": \"The answer is relevant to the question\",\n",
    "    \"grounded\": \"The answer links to the source of the information\",\n",
    "    \"coherence\": \"The answer is coherent and makes sense\",\n",
    "    \"detail\": \"The answer is detailed and provides enough information\",\n",
    "    \"helpfulness\": \"The answer is helpful and provides value\",\n",
    "}\n",
    "\n",
    "evaluator = load_evaluator(\"pairwise_string\", criteria=criteria)"
   ],
   "metadata": {
    "collapsed": false,
    "ExecuteTime": {
     "end_time": "2024-04-13T16:55:59.018667Z",
     "start_time": "2024-04-13T16:55:58.985901Z"
    }
   },
   "id": "d9d3b92b61b97ce1",
   "execution_count": 69
  },
  {
   "cell_type": "code",
   "outputs": [],
   "source": [
    "question = \"Write me example of using blobs?\"\n",
    "prediction = chain_a.invoke(question)\n",
    "prediction_b = chain_b.invoke(question)\n",
    "\n",
    "ev = evaluator.evaluate_string_pairs(\n",
    "    prediction=prediction,\n",
    "    prediction_b=prediction_b,\n",
    "    input=question\n",
    ")"
   ],
   "metadata": {
    "collapsed": false,
    "ExecuteTime": {
     "end_time": "2024-04-13T16:56:11.645047Z",
     "start_time": "2024-04-13T16:55:59.758332Z"
    }
   },
   "id": "1d87e5de90ed79ae",
   "execution_count": 70
  },
  {
   "cell_type": "code",
   "outputs": [
    {
     "data": {
      "text/plain": "{'reasoning': \"Both Assistant A and Assistant B provided coherent, relevant, detailed, and helpful responses. Neither response was harmful, offensive, or inappropriate. Both assistants provided examples of how to use blobs with CrateDB, including creating a blob table, uploading blobs, and deleting blobs. However, Assistant B added an extra piece of information about listing and querying blobs inside a blob table using a SELECT statement, which Assistant A did not mention. Therefore, Assistant B's response is slightly more detailed and informative. \\n\\nFinal Verdict: [[B]]\",\n 'value': 'B',\n 'score': 0}"
     },
     "execution_count": 71,
     "metadata": {},
     "output_type": "execute_result"
    }
   ],
   "source": [
    "ev"
   ],
   "metadata": {
    "collapsed": false,
    "ExecuteTime": {
     "end_time": "2024-04-13T16:56:11.649450Z",
     "start_time": "2024-04-13T16:56:11.646443Z"
    }
   },
   "id": "15909fdeaab75f5c",
   "execution_count": 71
  },
  {
   "cell_type": "code",
   "outputs": [],
   "source": [
    "from random import random\n",
    "\n",
    "def eval(questions, chain_a, chain_b, aname=\"A\", bname=\"B\", cname=None):\n",
    "    evaluation_results = []\n",
    "\n",
    "    for question in questions:\n",
    "        prediction = chain_a.invoke(question)\n",
    "        prediction_b = chain_b.invoke(question)\n",
    "        # prediction_c = chain_c.invoke(question)\n",
    "        \n",
    "        # swap prediction to avoid bias in evaluator\n",
    "\n",
    "        choice = random() > 0.5\n",
    "        if choice:\n",
    "            prediction, prediction_b = prediction_b, prediction\n",
    "\n",
    "        ev = evaluator.evaluate_string_pairs(\n",
    "            prediction=prediction,\n",
    "            prediction_b=prediction_b,\n",
    "            input=question\n",
    "        )\n",
    "        \n",
    "        if choice:\n",
    "            ev = {\n",
    "                \"value\": {aname: bname, bname: aname, cname: cname}[ev[\"value\"]],\n",
    "                \"score\": ev[\"score\"],\n",
    "                \"reasoning\": \"Swapped prediction: {}\".format(ev[\"reasoning\"])\n",
    "            }\n",
    "        \n",
    "        evaluation_results.append({\n",
    "            \"choice\": choice,\n",
    "            \"question\": question,\n",
    "            f\"prediction_{aname}\": prediction if choice else prediction_b,\n",
    "            f\"prediction_{bname}\": prediction_b if choice else prediction,\n",
    "            **ev\n",
    "        })\n",
    "        \n",
    "    return evaluation_results\n"
   ],
   "metadata": {
    "collapsed": false,
    "ExecuteTime": {
     "end_time": "2024-04-21T11:49:19.969964Z",
     "start_time": "2024-04-21T11:49:19.965676Z"
    }
   },
   "id": "ee54b2f37f35e2bd",
   "execution_count": 122
  },
  {
   "cell_type": "code",
   "outputs": [
    {
     "data": {
      "text/plain": "    choice                                           question  \\\n0    False                   Write me example of using blobs?   \n1    False  How to use BLOB store in CrateDB? and what are...   \n2     True                          How to limit permissions?   \n3    False  How AWS marketplace works, and why I cannot se...   \n4     True         What are edge regions and how to use them?   \n5    False          What are recent blog posts about CrateDB?   \n6    False       Write me example python code to use CrateDB?   \n7     True       Write me example golang code to use CrateDB?   \n8     True         create RAG search with CrateDB and OpenAI?   \n9     True         how to alter table and add fulltext index?   \n10    True  how to alter table and add vector type field t...   \n11   False  create table with fields ID, name, vector, and...   \n12    True        What are limits and limitations of CrateDB?   \n13   False            What are the benefits of using CrateDB?   \n14   False        Does index creation block write operations?   \n15    True            Does crate supports conditional indices   \n16   False    How to create ID field that is autoincremented?   \n17   False       how to create analysers for fulltext search?   \n18    True       give me information about password and admin   \n19    True  Shared file system implementation of the BlobS...   \n20   False                            Is Cloud UI opensource?   \n21    True  How to do fusion search and connect vector sea...   \n22    True         How to MATH fulltext Benchmarks of CrateDB   \n\n                                         prediction_A  \\\n0   To use blobs, you can follow the example provi...   \n1   To use BLOB store in CrateDB, you can store bi...   \n2   To limit permissions in CrateDB, it is recomme...   \n3   To deploy a cluster on CrateDB Cloud via AWS M...   \n4   Edge regions are custom regions that can be cr...   \n5   Recent blog posts about CrateDB include topics...   \n6   To use CrateDB with Python, you can refer to t...   \n7   To use CrateDB with Golang, you can follow the...   \n8   To create a RAG (Retrieval Augmented Generatio...   \n9   To alter a table and add a full-text index in ...   \n10  To alter a table and add a vector type field t...   \n11  To create a table with fields ID, name, vector...   \n12  The limitations of CrateDB include the lack of...   \n13  The benefits of using CrateDB include high per...   \n14  Based on the provided information, setting wri...   \n15  Based on the provided context, there is no spe...   \n16  The sources provided do not mention creating a...   \n17  To create analyzers for fulltext search, you c...   \n18  Based on the provided context, the information...   \n19  Based on the context provided, there is no spe...   \n20  No, the Cloud UI mentioned in the context is n...   \n21  To do fusion search and connect vector search ...   \n22  To measure full-text search benchmarks of Crat...   \n\n                                         prediction_B  \\\n0   To use BLOBs, you can create a BLOB table in C...   \n1   To use BLOB storage in CrateDB, you can store ...   \n2   To limit permissions in CrateDB, it is recomme...   \n3   To deploy a cluster on CrateDB Cloud via AWS M...   \n4   Edge regions are custom regions created within...   \n5   Recent blog posts about CrateDB include topics...   \n6   You can find example Python code to use CrateD...   \n7   To use CrateDB with Golang, you can follow the...   \n8   To create RAG search with CrateDB and OpenAI, ...   \n9   To alter a table and add a fulltext index in C...   \n10  To alter a table and add a vector type field t...   \n11  To create a table with fields ID, name, vector...   \n12  The limitations of CrateDB include the lack of...   \n13  The benefits of using CrateDB include high per...   \n14  Based on the context provided, index creation ...   \n15  Based on the provided context, CrateDB automat...   \n16  The provided context does not mention any info...   \n17  To create analyzers for fulltext search, you c...   \n18  The password authentication method is used in ...   \n19  The information provided does not contain deta...   \n20  Based on the context provided, there is no exp...   \n21  To perform fusion search and connect vector se...   \n22  To math full-text benchmarks of CrateDB, you c...   \n\n                                            reasoning value  score  \n0   Both Assistant A and Assistant B provided rele...     A    1.0  \n1   Both Assistant A and Assistant B provided cohe...     B    0.0  \n2   Swapped prediction: Both Assistant A and Assis...  None    0.5  \n3   Both assistants provide coherent, relevant, an...     B    0.0  \n4   Swapped prediction: Both Assistant A and Assis...     B    1.0  \n5   Both Assistant A and Assistant B provided simi...  None    0.5  \n6   Both Assistant A and Assistant B provided rele...  None    0.5  \n7   Swapped prediction: Both Assistant A and Assis...  None    0.5  \n8   Swapped prediction: Both Assistant A and Assis...  None    0.5  \n9   Swapped prediction: Both Assistant A and Assis...  None    0.5  \n10  Swapped prediction: Both Assistant A and Assis...     A    0.0  \n11  Both Assistant A and Assistant B provided accu...     A    1.0  \n12  Swapped prediction: Both Assistant A and Assis...     B    1.0  \n13  Both Assistant A and Assistant B provide compr...     B    0.0  \n14  Both assistants provide coherent, well-structu...     A    1.0  \n15  Swapped prediction: Both assistants provide co...     A    0.0  \n16  Both Assistant A and Assistant B provided simi...  None    0.5  \n17  Both assistants provide relevant and coherent ...     B    0.0  \n18  Swapped prediction: Both assistants provide co...     B    1.0  \n19  Swapped prediction: Both Assistant A and Assis...     B    1.0  \n20  Both Assistant A and Assistant B provided rele...     B    0.0  \n21  Swapped prediction: Both Assistant A and Assis...  None    0.5  \n22  Swapped prediction: Both assistants provide co...     A    0.0  ",
      "text/html": "<div>\n<style scoped>\n    .dataframe tbody tr th:only-of-type {\n        vertical-align: middle;\n    }\n\n    .dataframe tbody tr th {\n        vertical-align: top;\n    }\n\n    .dataframe thead th {\n        text-align: right;\n    }\n</style>\n<table border=\"1\" class=\"dataframe\">\n  <thead>\n    <tr style=\"text-align: right;\">\n      <th></th>\n      <th>choice</th>\n      <th>question</th>\n      <th>prediction_A</th>\n      <th>prediction_B</th>\n      <th>reasoning</th>\n      <th>value</th>\n      <th>score</th>\n    </tr>\n  </thead>\n  <tbody>\n    <tr>\n      <th>0</th>\n      <td>False</td>\n      <td>Write me example of using blobs?</td>\n      <td>To use blobs, you can follow the example provi...</td>\n      <td>To use BLOBs, you can create a BLOB table in C...</td>\n      <td>Both Assistant A and Assistant B provided rele...</td>\n      <td>A</td>\n      <td>1.0</td>\n    </tr>\n    <tr>\n      <th>1</th>\n      <td>False</td>\n      <td>How to use BLOB store in CrateDB? and what are...</td>\n      <td>To use BLOB store in CrateDB, you can store bi...</td>\n      <td>To use BLOB storage in CrateDB, you can store ...</td>\n      <td>Both Assistant A and Assistant B provided cohe...</td>\n      <td>B</td>\n      <td>0.0</td>\n    </tr>\n    <tr>\n      <th>2</th>\n      <td>True</td>\n      <td>How to limit permissions?</td>\n      <td>To limit permissions in CrateDB, it is recomme...</td>\n      <td>To limit permissions in CrateDB, it is recomme...</td>\n      <td>Swapped prediction: Both Assistant A and Assis...</td>\n      <td>None</td>\n      <td>0.5</td>\n    </tr>\n    <tr>\n      <th>3</th>\n      <td>False</td>\n      <td>How AWS marketplace works, and why I cannot se...</td>\n      <td>To deploy a cluster on CrateDB Cloud via AWS M...</td>\n      <td>To deploy a cluster on CrateDB Cloud via AWS M...</td>\n      <td>Both assistants provide coherent, relevant, an...</td>\n      <td>B</td>\n      <td>0.0</td>\n    </tr>\n    <tr>\n      <th>4</th>\n      <td>True</td>\n      <td>What are edge regions and how to use them?</td>\n      <td>Edge regions are custom regions that can be cr...</td>\n      <td>Edge regions are custom regions created within...</td>\n      <td>Swapped prediction: Both Assistant A and Assis...</td>\n      <td>B</td>\n      <td>1.0</td>\n    </tr>\n    <tr>\n      <th>5</th>\n      <td>False</td>\n      <td>What are recent blog posts about CrateDB?</td>\n      <td>Recent blog posts about CrateDB include topics...</td>\n      <td>Recent blog posts about CrateDB include topics...</td>\n      <td>Both Assistant A and Assistant B provided simi...</td>\n      <td>None</td>\n      <td>0.5</td>\n    </tr>\n    <tr>\n      <th>6</th>\n      <td>False</td>\n      <td>Write me example python code to use CrateDB?</td>\n      <td>To use CrateDB with Python, you can refer to t...</td>\n      <td>You can find example Python code to use CrateD...</td>\n      <td>Both Assistant A and Assistant B provided rele...</td>\n      <td>None</td>\n      <td>0.5</td>\n    </tr>\n    <tr>\n      <th>7</th>\n      <td>True</td>\n      <td>Write me example golang code to use CrateDB?</td>\n      <td>To use CrateDB with Golang, you can follow the...</td>\n      <td>To use CrateDB with Golang, you can follow the...</td>\n      <td>Swapped prediction: Both Assistant A and Assis...</td>\n      <td>None</td>\n      <td>0.5</td>\n    </tr>\n    <tr>\n      <th>8</th>\n      <td>True</td>\n      <td>create RAG search with CrateDB and OpenAI?</td>\n      <td>To create a RAG (Retrieval Augmented Generatio...</td>\n      <td>To create RAG search with CrateDB and OpenAI, ...</td>\n      <td>Swapped prediction: Both Assistant A and Assis...</td>\n      <td>None</td>\n      <td>0.5</td>\n    </tr>\n    <tr>\n      <th>9</th>\n      <td>True</td>\n      <td>how to alter table and add fulltext index?</td>\n      <td>To alter a table and add a full-text index in ...</td>\n      <td>To alter a table and add a fulltext index in C...</td>\n      <td>Swapped prediction: Both Assistant A and Assis...</td>\n      <td>None</td>\n      <td>0.5</td>\n    </tr>\n    <tr>\n      <th>10</th>\n      <td>True</td>\n      <td>how to alter table and add vector type field t...</td>\n      <td>To alter a table and add a vector type field t...</td>\n      <td>To alter a table and add a vector type field t...</td>\n      <td>Swapped prediction: Both Assistant A and Assis...</td>\n      <td>A</td>\n      <td>0.0</td>\n    </tr>\n    <tr>\n      <th>11</th>\n      <td>False</td>\n      <td>create table with fields ID, name, vector, and...</td>\n      <td>To create a table with fields ID, name, vector...</td>\n      <td>To create a table with fields ID, name, vector...</td>\n      <td>Both Assistant A and Assistant B provided accu...</td>\n      <td>A</td>\n      <td>1.0</td>\n    </tr>\n    <tr>\n      <th>12</th>\n      <td>True</td>\n      <td>What are limits and limitations of CrateDB?</td>\n      <td>The limitations of CrateDB include the lack of...</td>\n      <td>The limitations of CrateDB include the lack of...</td>\n      <td>Swapped prediction: Both Assistant A and Assis...</td>\n      <td>B</td>\n      <td>1.0</td>\n    </tr>\n    <tr>\n      <th>13</th>\n      <td>False</td>\n      <td>What are the benefits of using CrateDB?</td>\n      <td>The benefits of using CrateDB include high per...</td>\n      <td>The benefits of using CrateDB include high per...</td>\n      <td>Both Assistant A and Assistant B provide compr...</td>\n      <td>B</td>\n      <td>0.0</td>\n    </tr>\n    <tr>\n      <th>14</th>\n      <td>False</td>\n      <td>Does index creation block write operations?</td>\n      <td>Based on the provided information, setting wri...</td>\n      <td>Based on the context provided, index creation ...</td>\n      <td>Both assistants provide coherent, well-structu...</td>\n      <td>A</td>\n      <td>1.0</td>\n    </tr>\n    <tr>\n      <th>15</th>\n      <td>True</td>\n      <td>Does crate supports conditional indices</td>\n      <td>Based on the provided context, there is no spe...</td>\n      <td>Based on the provided context, CrateDB automat...</td>\n      <td>Swapped prediction: Both assistants provide co...</td>\n      <td>A</td>\n      <td>0.0</td>\n    </tr>\n    <tr>\n      <th>16</th>\n      <td>False</td>\n      <td>How to create ID field that is autoincremented?</td>\n      <td>The sources provided do not mention creating a...</td>\n      <td>The provided context does not mention any info...</td>\n      <td>Both Assistant A and Assistant B provided simi...</td>\n      <td>None</td>\n      <td>0.5</td>\n    </tr>\n    <tr>\n      <th>17</th>\n      <td>False</td>\n      <td>how to create analysers for fulltext search?</td>\n      <td>To create analyzers for fulltext search, you c...</td>\n      <td>To create analyzers for fulltext search, you c...</td>\n      <td>Both assistants provide relevant and coherent ...</td>\n      <td>B</td>\n      <td>0.0</td>\n    </tr>\n    <tr>\n      <th>18</th>\n      <td>True</td>\n      <td>give me information about password and admin</td>\n      <td>Based on the provided context, the information...</td>\n      <td>The password authentication method is used in ...</td>\n      <td>Swapped prediction: Both assistants provide co...</td>\n      <td>B</td>\n      <td>1.0</td>\n    </tr>\n    <tr>\n      <th>19</th>\n      <td>True</td>\n      <td>Shared file system implementation of the BlobS...</td>\n      <td>Based on the context provided, there is no spe...</td>\n      <td>The information provided does not contain deta...</td>\n      <td>Swapped prediction: Both Assistant A and Assis...</td>\n      <td>B</td>\n      <td>1.0</td>\n    </tr>\n    <tr>\n      <th>20</th>\n      <td>False</td>\n      <td>Is Cloud UI opensource?</td>\n      <td>No, the Cloud UI mentioned in the context is n...</td>\n      <td>Based on the context provided, there is no exp...</td>\n      <td>Both Assistant A and Assistant B provided rele...</td>\n      <td>B</td>\n      <td>0.0</td>\n    </tr>\n    <tr>\n      <th>21</th>\n      <td>True</td>\n      <td>How to do fusion search and connect vector sea...</td>\n      <td>To do fusion search and connect vector search ...</td>\n      <td>To perform fusion search and connect vector se...</td>\n      <td>Swapped prediction: Both Assistant A and Assis...</td>\n      <td>None</td>\n      <td>0.5</td>\n    </tr>\n    <tr>\n      <th>22</th>\n      <td>True</td>\n      <td>How to MATH fulltext Benchmarks of CrateDB</td>\n      <td>To measure full-text search benchmarks of Crat...</td>\n      <td>To math full-text benchmarks of CrateDB, you c...</td>\n      <td>Swapped prediction: Both assistants provide co...</td>\n      <td>A</td>\n      <td>0.0</td>\n    </tr>\n  </tbody>\n</table>\n</div>"
     },
     "execution_count": 123,
     "metadata": {},
     "output_type": "execute_result"
    }
   ],
   "source": [
    "import pandas as pd\n",
    "evaluation_results_ab_df = pd.DataFrame(eval(questions, chain_a, chain_b))\n",
    "evaluation_results_ab_df"
   ],
   "metadata": {
    "collapsed": false,
    "ExecuteTime": {
     "end_time": "2024-04-21T11:53:28.545631Z",
     "start_time": "2024-04-21T11:49:21.466842Z"
    }
   },
   "id": "a0b18d8d4caee123",
   "execution_count": 123
  },
  {
   "cell_type": "code",
   "outputs": [
    {
     "data": {
      "text/plain": "    choice                                           question  \\\n0     True                   Write me example of using blobs?   \n1    False  How to use BLOB store in CrateDB? and what are...   \n2    False                          How to limit permissions?   \n3     True  How AWS marketplace works, and why I cannot se...   \n4    False         What are edge regions and how to use them?   \n5     True          What are recent blog posts about CrateDB?   \n6     True       Write me example python code to use CrateDB?   \n7     True       Write me example golang code to use CrateDB?   \n8     True         create RAG search with CrateDB and OpenAI?   \n9     True         how to alter table and add fulltext index?   \n10   False  how to alter table and add vector type field t...   \n11    True  create table with fields ID, name, vector, and...   \n12    True        What are limits and limitations of CrateDB?   \n13   False            What are the benefits of using CrateDB?   \n14    True        Does index creation block write operations?   \n15    True            Does crate supports conditional indices   \n16    True    How to create ID field that is autoincremented?   \n17   False       how to create analysers for fulltext search?   \n18   False       give me information about password and admin   \n19    True  Shared file system implementation of the BlobS...   \n20    True                            Is Cloud UI opensource?   \n21   False  How to do fusion search and connect vector sea...   \n22    True         How to MATH fulltext Benchmarks of CrateDB   \n\n                                         prediction_a  \\\n0   To use blobs in CrateDB, you first need to cre...   \n1   To use BLOB store in CrateDB, you can store bi...   \n2   To limit permissions, you can set hard and sof...   \n3   To deploy a cluster on CrateDB Cloud via AWS M...   \n4   Edge regions are custom regions created in the...   \n5   Recent blog posts about CrateDB include settin...   \n6   To write example python code to use CrateDB, y...   \n7   To write example Golang code to use CrateDB, y...   \n8   To create a RAG (Retrieval Augmented Generatio...   \n9   To alter a table and add a fulltext index in C...   \n10  To alter a table and add a vector type field t...   \n11  To create a table with fields ID, name, vector...   \n12  The limitations of CrateDB include that the si...   \n13  The benefits of using CrateDB include high per...   \n14  Yes, index creation can block write operations...   \n15  Based on the provided context, CrateDB automat...   \n16  Based on the provided context, CrateDB does no...   \n17  To create analyzers for fulltext search, you c...   \n18  Based on the provided context, password authen...   \n19  The shared file system implementation of the B...   \n20  Based on the provided context, there is no spe...   \n21  To perform fusion search and connect vector se...   \n22  To check the full-text benchmarks of CrateDB, ...   \n\n                                         prediction_b value  score  \\\n0   To use blobs in CrateDB, you first need to cre...     B    1.0   \n1   To use BLOB storage in CrateDB, you can store ...     A    1.0   \n2   To limit permissions in CrateDB, it is recomme...     B    0.0   \n3   To deploy a cluster on CrateDB Cloud via AWS M...  None    0.5   \n4   Edge regions are custom regions created in the...     A    1.0   \n5   Recent blog posts about CrateDB include topics...     A    0.0   \n6   To use CrateDB with Python, you can refer to t...     A    0.0   \n7   To use CrateDB in a Golang application, you ca...     A    0.0   \n8   To create RAG search with CrateDB and OpenAI, ...     A    0.0   \n9   To alter a table and add a fulltext index in C...     A    0.0   \n10  To alter a table and add a vector type field t...     B    0.0   \n11  To create a table with fields ID, name, vector...     A    0.0   \n12  The limitations of CrateDB include the lack of...  None    0.5   \n13  Some benefits of using CrateDB include:\\n\\n- H...     A    1.0   \n14  Yes, index creation can block write operations...     B    1.0   \n15  Based on the provided context, CrateDB automat...     B    1.0   \n16  The provided context does not mention any info...     B    1.0   \n17  To create analyzers for fulltext search, you c...     A    1.0   \n18  The password authentication method is used in ...     B    0.0   \n19  The context provided does not contain any info...     B    1.0   \n20  Based on the provided context, there is no exp...  None    0.5   \n21  To do fusion search and connect vector search ...  None    0.5   \n22  To benchmark the full-text search capabilities...     A    0.0   \n\n                                            reasoning  \n0   Swapped prediction: Both Assistant A and Assis...  \n1   Both Assistant A and Assistant B provide coher...  \n2   Both assistants provide coherent and well-stru...  \n3   Swapped prediction: Both Assistant A and Assis...  \n4   Both assistants provide coherent, relevant, an...  \n5   Swapped prediction: Both assistants provided r...  \n6   Swapped prediction: Both Assistant A and Assis...  \n7   Swapped prediction: Both Assistant A and Assis...  \n8   Swapped prediction: Both Assistant A and Assis...  \n9   Swapped prediction: Both assistants provided r...  \n10  Both assistants provide coherent, relevant, an...  \n11  Swapped prediction: Both assistants provide co...  \n12  Swapped prediction: Both Assistant A and Assis...  \n13  Both assistants provide relevant and coherent ...  \n14  Swapped prediction: Both Assistant A and Assis...  \n15  Swapped prediction: Both assistants provide re...  \n16  Swapped prediction: Assistant A provides a det...  \n17  Both assistants provide coherent, relevant, an...  \n18  Both assistants provide coherent, well-structu...  \n19  Swapped prediction: Assistant A provides a det...  \n20  Swapped prediction: Both Assistant A and Assis...  \n21  Both Assistant A and Assistant B provided cohe...  \n22  Swapped prediction: Both assistants provide re...  ",
      "text/html": "<div>\n<style scoped>\n    .dataframe tbody tr th:only-of-type {\n        vertical-align: middle;\n    }\n\n    .dataframe tbody tr th {\n        vertical-align: top;\n    }\n\n    .dataframe thead th {\n        text-align: right;\n    }\n</style>\n<table border=\"1\" class=\"dataframe\">\n  <thead>\n    <tr style=\"text-align: right;\">\n      <th></th>\n      <th>choice</th>\n      <th>question</th>\n      <th>prediction_a</th>\n      <th>prediction_b</th>\n      <th>value</th>\n      <th>score</th>\n      <th>reasoning</th>\n    </tr>\n  </thead>\n  <tbody>\n    <tr>\n      <th>0</th>\n      <td>True</td>\n      <td>Write me example of using blobs?</td>\n      <td>To use blobs in CrateDB, you first need to cre...</td>\n      <td>To use blobs in CrateDB, you first need to cre...</td>\n      <td>B</td>\n      <td>1.0</td>\n      <td>Swapped prediction: Both Assistant A and Assis...</td>\n    </tr>\n    <tr>\n      <th>1</th>\n      <td>False</td>\n      <td>How to use BLOB store in CrateDB? and what are...</td>\n      <td>To use BLOB store in CrateDB, you can store bi...</td>\n      <td>To use BLOB storage in CrateDB, you can store ...</td>\n      <td>A</td>\n      <td>1.0</td>\n      <td>Both Assistant A and Assistant B provide coher...</td>\n    </tr>\n    <tr>\n      <th>2</th>\n      <td>False</td>\n      <td>How to limit permissions?</td>\n      <td>To limit permissions, you can set hard and sof...</td>\n      <td>To limit permissions in CrateDB, it is recomme...</td>\n      <td>B</td>\n      <td>0.0</td>\n      <td>Both assistants provide coherent and well-stru...</td>\n    </tr>\n    <tr>\n      <th>3</th>\n      <td>True</td>\n      <td>How AWS marketplace works, and why I cannot se...</td>\n      <td>To deploy a cluster on CrateDB Cloud via AWS M...</td>\n      <td>To deploy a cluster on CrateDB Cloud via AWS M...</td>\n      <td>None</td>\n      <td>0.5</td>\n      <td>Swapped prediction: Both Assistant A and Assis...</td>\n    </tr>\n    <tr>\n      <th>4</th>\n      <td>False</td>\n      <td>What are edge regions and how to use them?</td>\n      <td>Edge regions are custom regions created in the...</td>\n      <td>Edge regions are custom regions created in the...</td>\n      <td>A</td>\n      <td>1.0</td>\n      <td>Both assistants provide coherent, relevant, an...</td>\n    </tr>\n    <tr>\n      <th>5</th>\n      <td>True</td>\n      <td>What are recent blog posts about CrateDB?</td>\n      <td>Recent blog posts about CrateDB include settin...</td>\n      <td>Recent blog posts about CrateDB include topics...</td>\n      <td>A</td>\n      <td>0.0</td>\n      <td>Swapped prediction: Both assistants provided r...</td>\n    </tr>\n    <tr>\n      <th>6</th>\n      <td>True</td>\n      <td>Write me example python code to use CrateDB?</td>\n      <td>To write example python code to use CrateDB, y...</td>\n      <td>To use CrateDB with Python, you can refer to t...</td>\n      <td>A</td>\n      <td>0.0</td>\n      <td>Swapped prediction: Both Assistant A and Assis...</td>\n    </tr>\n    <tr>\n      <th>7</th>\n      <td>True</td>\n      <td>Write me example golang code to use CrateDB?</td>\n      <td>To write example Golang code to use CrateDB, y...</td>\n      <td>To use CrateDB in a Golang application, you ca...</td>\n      <td>A</td>\n      <td>0.0</td>\n      <td>Swapped prediction: Both Assistant A and Assis...</td>\n    </tr>\n    <tr>\n      <th>8</th>\n      <td>True</td>\n      <td>create RAG search with CrateDB and OpenAI?</td>\n      <td>To create a RAG (Retrieval Augmented Generatio...</td>\n      <td>To create RAG search with CrateDB and OpenAI, ...</td>\n      <td>A</td>\n      <td>0.0</td>\n      <td>Swapped prediction: Both Assistant A and Assis...</td>\n    </tr>\n    <tr>\n      <th>9</th>\n      <td>True</td>\n      <td>how to alter table and add fulltext index?</td>\n      <td>To alter a table and add a fulltext index in C...</td>\n      <td>To alter a table and add a fulltext index in C...</td>\n      <td>A</td>\n      <td>0.0</td>\n      <td>Swapped prediction: Both assistants provided r...</td>\n    </tr>\n    <tr>\n      <th>10</th>\n      <td>False</td>\n      <td>how to alter table and add vector type field t...</td>\n      <td>To alter a table and add a vector type field t...</td>\n      <td>To alter a table and add a vector type field t...</td>\n      <td>B</td>\n      <td>0.0</td>\n      <td>Both assistants provide coherent, relevant, an...</td>\n    </tr>\n    <tr>\n      <th>11</th>\n      <td>True</td>\n      <td>create table with fields ID, name, vector, and...</td>\n      <td>To create a table with fields ID, name, vector...</td>\n      <td>To create a table with fields ID, name, vector...</td>\n      <td>A</td>\n      <td>0.0</td>\n      <td>Swapped prediction: Both assistants provide co...</td>\n    </tr>\n    <tr>\n      <th>12</th>\n      <td>True</td>\n      <td>What are limits and limitations of CrateDB?</td>\n      <td>The limitations of CrateDB include that the si...</td>\n      <td>The limitations of CrateDB include the lack of...</td>\n      <td>None</td>\n      <td>0.5</td>\n      <td>Swapped prediction: Both Assistant A and Assis...</td>\n    </tr>\n    <tr>\n      <th>13</th>\n      <td>False</td>\n      <td>What are the benefits of using CrateDB?</td>\n      <td>The benefits of using CrateDB include high per...</td>\n      <td>Some benefits of using CrateDB include:\\n\\n- H...</td>\n      <td>A</td>\n      <td>1.0</td>\n      <td>Both assistants provide relevant and coherent ...</td>\n    </tr>\n    <tr>\n      <th>14</th>\n      <td>True</td>\n      <td>Does index creation block write operations?</td>\n      <td>Yes, index creation can block write operations...</td>\n      <td>Yes, index creation can block write operations...</td>\n      <td>B</td>\n      <td>1.0</td>\n      <td>Swapped prediction: Both Assistant A and Assis...</td>\n    </tr>\n    <tr>\n      <th>15</th>\n      <td>True</td>\n      <td>Does crate supports conditional indices</td>\n      <td>Based on the provided context, CrateDB automat...</td>\n      <td>Based on the provided context, CrateDB automat...</td>\n      <td>B</td>\n      <td>1.0</td>\n      <td>Swapped prediction: Both assistants provide re...</td>\n    </tr>\n    <tr>\n      <th>16</th>\n      <td>True</td>\n      <td>How to create ID field that is autoincremented?</td>\n      <td>Based on the provided context, CrateDB does no...</td>\n      <td>The provided context does not mention any info...</td>\n      <td>B</td>\n      <td>1.0</td>\n      <td>Swapped prediction: Assistant A provides a det...</td>\n    </tr>\n    <tr>\n      <th>17</th>\n      <td>False</td>\n      <td>how to create analysers for fulltext search?</td>\n      <td>To create analyzers for fulltext search, you c...</td>\n      <td>To create analyzers for fulltext search, you c...</td>\n      <td>A</td>\n      <td>1.0</td>\n      <td>Both assistants provide coherent, relevant, an...</td>\n    </tr>\n    <tr>\n      <th>18</th>\n      <td>False</td>\n      <td>give me information about password and admin</td>\n      <td>Based on the provided context, password authen...</td>\n      <td>The password authentication method is used in ...</td>\n      <td>B</td>\n      <td>0.0</td>\n      <td>Both assistants provide coherent, well-structu...</td>\n    </tr>\n    <tr>\n      <th>19</th>\n      <td>True</td>\n      <td>Shared file system implementation of the BlobS...</td>\n      <td>The shared file system implementation of the B...</td>\n      <td>The context provided does not contain any info...</td>\n      <td>B</td>\n      <td>1.0</td>\n      <td>Swapped prediction: Assistant A provides a det...</td>\n    </tr>\n    <tr>\n      <th>20</th>\n      <td>True</td>\n      <td>Is Cloud UI opensource?</td>\n      <td>Based on the provided context, there is no spe...</td>\n      <td>Based on the provided context, there is no exp...</td>\n      <td>None</td>\n      <td>0.5</td>\n      <td>Swapped prediction: Both Assistant A and Assis...</td>\n    </tr>\n    <tr>\n      <th>21</th>\n      <td>False</td>\n      <td>How to do fusion search and connect vector sea...</td>\n      <td>To perform fusion search and connect vector se...</td>\n      <td>To do fusion search and connect vector search ...</td>\n      <td>None</td>\n      <td>0.5</td>\n      <td>Both Assistant A and Assistant B provided cohe...</td>\n    </tr>\n    <tr>\n      <th>22</th>\n      <td>True</td>\n      <td>How to MATH fulltext Benchmarks of CrateDB</td>\n      <td>To check the full-text benchmarks of CrateDB, ...</td>\n      <td>To benchmark the full-text search capabilities...</td>\n      <td>A</td>\n      <td>0.0</td>\n      <td>Swapped prediction: Both assistants provide re...</td>\n    </tr>\n  </tbody>\n</table>\n</div>"
     },
     "execution_count": 112,
     "metadata": {},
     "output_type": "execute_result"
    }
   ],
   "source": [
    "evaluation_results_ac_df = pd.DataFrame(eval(questions, chain_a, chain_c))\n",
    "evaluation_results_ac_df"
   ],
   "metadata": {
    "collapsed": false,
    "ExecuteTime": {
     "end_time": "2024-04-20T11:17:56.611689Z",
     "start_time": "2024-04-20T11:13:37.071684Z"
    }
   },
   "id": "9aaf108ff4d63d71",
   "execution_count": 112
  },
  {
   "cell_type": "code",
   "outputs": [
    {
     "data": {
      "text/plain": "    choice                                           question  \\\n0    False                   Write me example of using blobs?   \n1     True  How to use BLOB store in CrateDB? and what are...   \n2     True                          How to limit permissions?   \n3     True  How AWS marketplace works, and why I cannot se...   \n4    False         What are edge regions and how to use them?   \n5    False          What are recent blog posts about CrateDB?   \n6    False       Write me example python code to use CrateDB?   \n7    False       Write me example golang code to use CrateDB?   \n8    False         create RAG search with CrateDB and OpenAI?   \n9     True         how to alter table and add fulltext index?   \n10    True  how to alter table and add vector type field t...   \n11   False  create table with fields ID, name, vector, and...   \n12    True        What are limits and limitations of CrateDB?   \n13   False            What are the benefits of using CrateDB?   \n14    True        Does index creation block write operations?   \n15   False            Does crate supports conditional indices   \n16    True    How to create ID field that is autoincremented?   \n17    True       how to create analysers for fulltext search?   \n18    True       give me information about password and admin   \n19   False  Shared file system implementation of the BlobS...   \n20    True                            Is Cloud UI opensource?   \n21   False  How to do fusion search and connect vector sea...   \n22   False         How to MATH fulltext Benchmarks of CrateDB   \n\n                                         prediction_a  \\\n0   To use blobs, you can create a blob table in C...   \n1   To use BLOB store in CrateDB, you can store bi...   \n2   To limit permissions, you can set hard and sof...   \n3   To deploy a cluster on CrateDB Cloud via AWS M...   \n4   Edge regions are custom regions created in the...   \n5   Recent blog posts about CrateDB include topics...   \n6   To use CrateDB with Python, you can refer to t...   \n7   To use CrateDB with Golang, you can refer to t...   \n8   To create a RAG search using CrateDB and OpenA...   \n9   To alter a table and add a fulltext index, you...   \n10  To alter a table and add a vector type field t...   \n11  To create a table with fields ID, name, vector...   \n12  The limitations of CrateDB's single-node CRFEE...   \n13  The benefits of using CrateDB include high per...   \n14  Yes, index creation can block write operations...   \n15  Based on the provided context, CrateDB automat...   \n16  Based on the provided context, CrateDB does no...   \n17  To create analyzers for fulltext search in Cra...   \n18  The password authentication method is used in ...   \n19  The shared file system implementation of the B...   \n20  Based on the provided context, the Cloud UI fo...   \n21  To perform fusion search and connect vector se...   \n22  To benchmark the full-text search capabilities...   \n\n                                         prediction_b  \\\n0   To upload a blob, you can issue a PUT request,...   \n1   To use BLOB store in CrateDB, you can store bi...   \n2   To limit permissions on CrateDB, it is recomme...   \n3   To deploy a cluster on CrateDB Cloud via AWS M...   \n4   Edge regions are custom regions created within...   \n5   Recent blog posts about CrateDB include topics...   \n6   To use CrateDB with Python, you can refer to t...   \n7   To use CrateDB with Golang, you can refer to t...   \n8   To create a RAG (Retrieval Augmented Generatio...   \n9   To alter a table and add a fulltext index in C...   \n10  To alter a table and add a vector type field t...   \n11  To create a table with fields ID, name, vector...   \n12  The limitations of CrateDB include the lack of...   \n13  The benefits of using CrateDB include high per...   \n14  Yes, index creation can block write operations...   \n15  CrateDB automatically generates indexes for al...   \n16  The context provided does not mention anything...   \n17  To create analyzers for fulltext search, you c...   \n18  The process of importing the dataset is equiva...   \n19  The information provided does not directly add...   \n20  Based on the provided context, the Cloud UI of...   \n21  To perform fusion search and connect vector se...   \n22  To math full-text benchmarks of CrateDB, you c...   \n\n                                            reasoning value  score  \n0   Both Assistant A and Assistant B provided cohe...     B    0.0  \n1   Swapped prediction: Both Assistant A and Assis...     A    0.0  \n2   Swapped prediction: Assistant A's response is ...     B    1.0  \n3   Swapped prediction: Both Assistant A and Assis...     B    1.0  \n4   Both Assistant A and Assistant B provide coher...     A    1.0  \n5   Both assistants provided coherent, well-struct...     B    0.0  \n6   Both assistants provided relevant and helpful ...     A    1.0  \n7   Both assistants provided relevant and coherent...     A    1.0  \n8   Both assistants provide coherent, relevant, an...     B    0.0  \n9   Swapped prediction: Both assistants provide co...     A    0.0  \n10  Swapped prediction: Both Assistant A and Assis...     A    0.0  \n11  Both Assistant A and Assistant B provided cohe...     B    0.0  \n12  Swapped prediction: Both Assistant A and Assis...  None    0.5  \n13  Both Assistant A and Assistant B provided cohe...     A    1.0  \n14  Swapped prediction: Both Assistant A and Assis...     A    0.0  \n15  Both assistants provide accurate and relevant ...     B    0.0  \n16  Swapped prediction: Assistant A provides a mor...     B    1.0  \n17  Swapped prediction: Both assistants provide co...     A    0.0  \n18  Swapped prediction: Both Assistant A and Assis...     A    0.0  \n19  Assistant A's response is not helpful or detai...     B    0.0  \n20  Swapped prediction: Both Assistant A and Assis...     A    0.0  \n21  Both assistants provided coherent, relevant, d...     B    0.0  \n22  Both assistants provide coherent, well-structu...     A    1.0  ",
      "text/html": "<div>\n<style scoped>\n    .dataframe tbody tr th:only-of-type {\n        vertical-align: middle;\n    }\n\n    .dataframe tbody tr th {\n        vertical-align: top;\n    }\n\n    .dataframe thead th {\n        text-align: right;\n    }\n</style>\n<table border=\"1\" class=\"dataframe\">\n  <thead>\n    <tr style=\"text-align: right;\">\n      <th></th>\n      <th>choice</th>\n      <th>question</th>\n      <th>prediction_a</th>\n      <th>prediction_b</th>\n      <th>reasoning</th>\n      <th>value</th>\n      <th>score</th>\n    </tr>\n  </thead>\n  <tbody>\n    <tr>\n      <th>0</th>\n      <td>False</td>\n      <td>Write me example of using blobs?</td>\n      <td>To use blobs, you can create a blob table in C...</td>\n      <td>To upload a blob, you can issue a PUT request,...</td>\n      <td>Both Assistant A and Assistant B provided cohe...</td>\n      <td>B</td>\n      <td>0.0</td>\n    </tr>\n    <tr>\n      <th>1</th>\n      <td>True</td>\n      <td>How to use BLOB store in CrateDB? and what are...</td>\n      <td>To use BLOB store in CrateDB, you can store bi...</td>\n      <td>To use BLOB store in CrateDB, you can store bi...</td>\n      <td>Swapped prediction: Both Assistant A and Assis...</td>\n      <td>A</td>\n      <td>0.0</td>\n    </tr>\n    <tr>\n      <th>2</th>\n      <td>True</td>\n      <td>How to limit permissions?</td>\n      <td>To limit permissions, you can set hard and sof...</td>\n      <td>To limit permissions on CrateDB, it is recomme...</td>\n      <td>Swapped prediction: Assistant A's response is ...</td>\n      <td>B</td>\n      <td>1.0</td>\n    </tr>\n    <tr>\n      <th>3</th>\n      <td>True</td>\n      <td>How AWS marketplace works, and why I cannot se...</td>\n      <td>To deploy a cluster on CrateDB Cloud via AWS M...</td>\n      <td>To deploy a cluster on CrateDB Cloud via AWS M...</td>\n      <td>Swapped prediction: Both Assistant A and Assis...</td>\n      <td>B</td>\n      <td>1.0</td>\n    </tr>\n    <tr>\n      <th>4</th>\n      <td>False</td>\n      <td>What are edge regions and how to use them?</td>\n      <td>Edge regions are custom regions created in the...</td>\n      <td>Edge regions are custom regions created within...</td>\n      <td>Both Assistant A and Assistant B provide coher...</td>\n      <td>A</td>\n      <td>1.0</td>\n    </tr>\n    <tr>\n      <th>5</th>\n      <td>False</td>\n      <td>What are recent blog posts about CrateDB?</td>\n      <td>Recent blog posts about CrateDB include topics...</td>\n      <td>Recent blog posts about CrateDB include topics...</td>\n      <td>Both assistants provided coherent, well-struct...</td>\n      <td>B</td>\n      <td>0.0</td>\n    </tr>\n    <tr>\n      <th>6</th>\n      <td>False</td>\n      <td>Write me example python code to use CrateDB?</td>\n      <td>To use CrateDB with Python, you can refer to t...</td>\n      <td>To use CrateDB with Python, you can refer to t...</td>\n      <td>Both assistants provided relevant and helpful ...</td>\n      <td>A</td>\n      <td>1.0</td>\n    </tr>\n    <tr>\n      <th>7</th>\n      <td>False</td>\n      <td>Write me example golang code to use CrateDB?</td>\n      <td>To use CrateDB with Golang, you can refer to t...</td>\n      <td>To use CrateDB with Golang, you can refer to t...</td>\n      <td>Both assistants provided relevant and coherent...</td>\n      <td>A</td>\n      <td>1.0</td>\n    </tr>\n    <tr>\n      <th>8</th>\n      <td>False</td>\n      <td>create RAG search with CrateDB and OpenAI?</td>\n      <td>To create a RAG search using CrateDB and OpenA...</td>\n      <td>To create a RAG (Retrieval Augmented Generatio...</td>\n      <td>Both assistants provide coherent, relevant, an...</td>\n      <td>B</td>\n      <td>0.0</td>\n    </tr>\n    <tr>\n      <th>9</th>\n      <td>True</td>\n      <td>how to alter table and add fulltext index?</td>\n      <td>To alter a table and add a fulltext index, you...</td>\n      <td>To alter a table and add a fulltext index in C...</td>\n      <td>Swapped prediction: Both assistants provide co...</td>\n      <td>A</td>\n      <td>0.0</td>\n    </tr>\n    <tr>\n      <th>10</th>\n      <td>True</td>\n      <td>how to alter table and add vector type field t...</td>\n      <td>To alter a table and add a vector type field t...</td>\n      <td>To alter a table and add a vector type field t...</td>\n      <td>Swapped prediction: Both Assistant A and Assis...</td>\n      <td>A</td>\n      <td>0.0</td>\n    </tr>\n    <tr>\n      <th>11</th>\n      <td>False</td>\n      <td>create table with fields ID, name, vector, and...</td>\n      <td>To create a table with fields ID, name, vector...</td>\n      <td>To create a table with fields ID, name, vector...</td>\n      <td>Both Assistant A and Assistant B provided cohe...</td>\n      <td>B</td>\n      <td>0.0</td>\n    </tr>\n    <tr>\n      <th>12</th>\n      <td>True</td>\n      <td>What are limits and limitations of CrateDB?</td>\n      <td>The limitations of CrateDB's single-node CRFEE...</td>\n      <td>The limitations of CrateDB include the lack of...</td>\n      <td>Swapped prediction: Both Assistant A and Assis...</td>\n      <td>None</td>\n      <td>0.5</td>\n    </tr>\n    <tr>\n      <th>13</th>\n      <td>False</td>\n      <td>What are the benefits of using CrateDB?</td>\n      <td>The benefits of using CrateDB include high per...</td>\n      <td>The benefits of using CrateDB include high per...</td>\n      <td>Both Assistant A and Assistant B provided cohe...</td>\n      <td>A</td>\n      <td>1.0</td>\n    </tr>\n    <tr>\n      <th>14</th>\n      <td>True</td>\n      <td>Does index creation block write operations?</td>\n      <td>Yes, index creation can block write operations...</td>\n      <td>Yes, index creation can block write operations...</td>\n      <td>Swapped prediction: Both Assistant A and Assis...</td>\n      <td>A</td>\n      <td>0.0</td>\n    </tr>\n    <tr>\n      <th>15</th>\n      <td>False</td>\n      <td>Does crate supports conditional indices</td>\n      <td>Based on the provided context, CrateDB automat...</td>\n      <td>CrateDB automatically generates indexes for al...</td>\n      <td>Both assistants provide accurate and relevant ...</td>\n      <td>B</td>\n      <td>0.0</td>\n    </tr>\n    <tr>\n      <th>16</th>\n      <td>True</td>\n      <td>How to create ID field that is autoincremented?</td>\n      <td>Based on the provided context, CrateDB does no...</td>\n      <td>The context provided does not mention anything...</td>\n      <td>Swapped prediction: Assistant A provides a mor...</td>\n      <td>B</td>\n      <td>1.0</td>\n    </tr>\n    <tr>\n      <th>17</th>\n      <td>True</td>\n      <td>how to create analysers for fulltext search?</td>\n      <td>To create analyzers for fulltext search in Cra...</td>\n      <td>To create analyzers for fulltext search, you c...</td>\n      <td>Swapped prediction: Both assistants provide co...</td>\n      <td>A</td>\n      <td>0.0</td>\n    </tr>\n    <tr>\n      <th>18</th>\n      <td>True</td>\n      <td>give me information about password and admin</td>\n      <td>The password authentication method is used in ...</td>\n      <td>The process of importing the dataset is equiva...</td>\n      <td>Swapped prediction: Both Assistant A and Assis...</td>\n      <td>A</td>\n      <td>0.0</td>\n    </tr>\n    <tr>\n      <th>19</th>\n      <td>False</td>\n      <td>Shared file system implementation of the BlobS...</td>\n      <td>The shared file system implementation of the B...</td>\n      <td>The information provided does not directly add...</td>\n      <td>Assistant A's response is not helpful or detai...</td>\n      <td>B</td>\n      <td>0.0</td>\n    </tr>\n    <tr>\n      <th>20</th>\n      <td>True</td>\n      <td>Is Cloud UI opensource?</td>\n      <td>Based on the provided context, the Cloud UI fo...</td>\n      <td>Based on the provided context, the Cloud UI of...</td>\n      <td>Swapped prediction: Both Assistant A and Assis...</td>\n      <td>A</td>\n      <td>0.0</td>\n    </tr>\n    <tr>\n      <th>21</th>\n      <td>False</td>\n      <td>How to do fusion search and connect vector sea...</td>\n      <td>To perform fusion search and connect vector se...</td>\n      <td>To perform fusion search and connect vector se...</td>\n      <td>Both assistants provided coherent, relevant, d...</td>\n      <td>B</td>\n      <td>0.0</td>\n    </tr>\n    <tr>\n      <th>22</th>\n      <td>False</td>\n      <td>How to MATH fulltext Benchmarks of CrateDB</td>\n      <td>To benchmark the full-text search capabilities...</td>\n      <td>To math full-text benchmarks of CrateDB, you c...</td>\n      <td>Both assistants provide coherent, well-structu...</td>\n      <td>A</td>\n      <td>1.0</td>\n    </tr>\n  </tbody>\n</table>\n</div>"
     },
     "execution_count": 113,
     "metadata": {},
     "output_type": "execute_result"
    }
   ],
   "source": [
    "evaluation_results_bc_df = pd.DataFrame(eval(questions, chain_b, chain_c))\n",
    "evaluation_results_bc_df"
   ],
   "metadata": {
    "collapsed": false,
    "ExecuteTime": {
     "end_time": "2024-04-20T11:22:23.201792Z",
     "start_time": "2024-04-20T11:17:56.613369Z"
    }
   },
   "id": "5ec3d661513e4aaf",
   "execution_count": 113
  },
  {
   "cell_type": "markdown",
   "source": [
    "# Analysis of evaluation results\n",
    "- Which variant was preferred more?\n",
    "- What is probability that people presented with a variant A over B will be more happy?\n",
    "- Which prediction variant on average performed better?\n",
    "- What is distribution of scores for each prediction variant?"
   ],
   "metadata": {
    "collapsed": false
   },
   "id": "cc763f269763d1cc"
  },
  {
   "cell_type": "markdown",
   "source": [
    "## Which variant was preferred more? as percentage"
   ],
   "metadata": {
    "collapsed": false
   },
   "id": "ea6105151cd06598"
  },
  {
   "cell_type": "code",
   "outputs": [
    {
     "data": {
      "text/plain": "value\nB    39.130435\nC    34.782609\nA    26.086957\nName: count, dtype: float64"
     },
     "execution_count": 124,
     "metadata": {},
     "output_type": "execute_result"
    }
   ],
   "source": [
    "total = len(questions)\n",
    "# value can be A, B, None, None means that both predictions are equal, show None as C\n",
    "# dived by total to get percentage contribution from all evaluations \n",
    "# multiply by 100 to get percentage\n",
    "ab_res = evaluation_results_ab_df['value'].fillna(\"C\").value_counts() / total * 100\n",
    "ab_res"
   ],
   "metadata": {
    "collapsed": false,
    "ExecuteTime": {
     "end_time": "2024-04-22T08:58:39.234393Z",
     "start_time": "2024-04-22T08:58:39.228580Z"
    }
   },
   "id": "50cd9d3abf735e99",
   "execution_count": 124
  },
  {
   "cell_type": "code",
   "outputs": [
    {
     "data": {
      "text/plain": "value\nA    47.826087\nB    34.782609\nC    17.391304\nName: count, dtype: float64"
     },
     "execution_count": 125,
     "metadata": {},
     "output_type": "execute_result"
    }
   ],
   "source": [
    "ac_res = evaluation_results_ac_df['value'].fillna(\"C\").value_counts() / total * 100\n",
    "ac_res"
   ],
   "metadata": {
    "collapsed": false,
    "ExecuteTime": {
     "end_time": "2024-04-22T08:58:41.794557Z",
     "start_time": "2024-04-22T08:58:41.790708Z"
    }
   },
   "id": "9344108bc2d6d3bf",
   "execution_count": 125
  },
  {
   "cell_type": "code",
   "outputs": [
    {
     "data": {
      "text/plain": "value\nA    52.173913\nB    43.478261\nC     4.347826\nName: count, dtype: float64"
     },
     "execution_count": 121,
     "metadata": {},
     "output_type": "execute_result"
    }
   ],
   "source": [
    "bc_res = evaluation_results_bc_df['value'].fillna(\"C\").value_counts() / total * 100\n",
    "bc_res"
   ],
   "metadata": {
    "collapsed": false,
    "ExecuteTime": {
     "end_time": "2024-04-20T11:31:03.582445Z",
     "start_time": "2024-04-20T11:31:03.577530Z"
    }
   },
   "id": "d651f59942916324",
   "execution_count": 121
  },
  {
   "cell_type": "markdown",
   "source": [
    "# Conclusion"
   ],
   "metadata": {
    "collapsed": false
   },
   "id": "81887b1fe68a9379"
  },
  {
   "cell_type": "code",
   "outputs": [],
   "source": [],
   "metadata": {
    "collapsed": false
   },
   "id": "bd6b2e4751bbb5cb"
  }
 ],
 "metadata": {
  "kernelspec": {
   "display_name": "Python 3",
   "language": "python",
   "name": "python3"
  },
  "language_info": {
   "codemirror_mode": {
    "name": "ipython",
    "version": 2
   },
   "file_extension": ".py",
   "mimetype": "text/x-python",
   "name": "python",
   "nbconvert_exporter": "python",
   "pygments_lexer": "ipython2",
   "version": "2.7.6"
  }
 },
 "nbformat": 4,
 "nbformat_minor": 5
}
