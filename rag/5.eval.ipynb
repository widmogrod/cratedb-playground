{
 "cells": [
  {
   "cell_type": "code",
   "source": [
    "%pip install --upgrade --quiet pip setuptools wheel matplotlib seaborn\n",
    "%pip install --upgrade --quiet  langchain langchain-openai faiss-cpu tiktoken crate 'crate[sqlalchemy]' pandas jq \n",
    "%pip install --use-pep517 --quiet python-dotenv"
   ],
   "metadata": {
    "collapsed": false,
    "ExecuteTime": {
     "end_time": "2024-05-19T16:36:59.083750Z",
     "start_time": "2024-05-19T16:36:51.636750Z"
    }
   },
   "id": "initial_id",
   "outputs": [
    {
     "name": "stdout",
     "output_type": "stream",
     "text": [
      "Note: you may need to restart the kernel to use updated packages.\n",
      "Note: you may need to restart the kernel to use updated packages.\n",
      "Note: you may need to restart the kernel to use updated packages.\n"
     ]
    }
   ],
   "execution_count": 1
  },
  {
   "metadata": {},
   "cell_type": "markdown",
   "source": "# Evaluate RAG search with CrateDB vector, fulltext, fusion and OpenAI",
   "id": "5410104937328c86"
  },
  {
   "metadata": {},
   "cell_type": "markdown",
   "source": "## Setup environment variables",
   "id": "26168fafe85c0e89"
  },
  {
   "metadata": {
    "ExecuteTime": {
     "end_time": "2024-05-19T16:57:27.878865Z",
     "start_time": "2024-05-19T16:57:27.858489Z"
    }
   },
   "cell_type": "code",
   "source": [
    "import os\n",
    "\n",
    "from dotenv import load_dotenv\n",
    "\n",
    "load_dotenv()"
   ],
   "id": "e4a28f2ab8e8b4df",
   "outputs": [
    {
     "data": {
      "text/plain": [
       "True"
      ]
     },
     "execution_count": 3,
     "metadata": {},
     "output_type": "execute_result"
    }
   ],
   "execution_count": 3
  },
  {
   "metadata": {},
   "cell_type": "markdown",
   "source": "## setup embeddings",
   "id": "331beb594f3a2037"
  },
  {
   "metadata": {
    "ExecuteTime": {
     "end_time": "2024-05-19T16:57:29.779194Z",
     "start_time": "2024-05-19T16:57:28.552278Z"
    }
   },
   "cell_type": "code",
   "source": [
    "from langchain_openai import OpenAIEmbeddings\n",
    "\n",
    "embeddings = OpenAIEmbeddings()\n",
    "len(embeddings.embed_query(\"a\"))"
   ],
   "id": "ae2043d7eec255f1",
   "outputs": [
    {
     "data": {
      "text/plain": [
       "1536"
      ]
     },
     "execution_count": 4,
     "metadata": {},
     "output_type": "execute_result"
    }
   ],
   "execution_count": 4
  },
  {
   "metadata": {
    "ExecuteTime": {
     "end_time": "2024-05-19T16:57:29.782738Z",
     "start_time": "2024-05-19T16:57:29.780300Z"
    }
   },
   "cell_type": "code",
   "source": [
    "conn_url = \"crate://{user}:{password}@{server}\".format(\n",
    "    user=os.environ[\"CRATEDB_USER\"],\n",
    "    password=os.environ[\"CRATEDB_PASS\"],\n",
    "    server=os.environ[\"CRATEDB_SERVER\"],\n",
    ")\n",
    "conn_url"
   ],
   "id": "de9c0e56bb15743f",
   "outputs": [
    {
     "data": {
      "text/plain": [
       "'crate://crate:@localhost:4200'"
      ]
     },
     "execution_count": 5,
     "metadata": {},
     "output_type": "execute_result"
    }
   ],
   "execution_count": 5
  },
  {
   "metadata": {
    "ExecuteTime": {
     "end_time": "2024-05-19T16:57:31.372475Z",
     "start_time": "2024-05-19T16:57:29.783417Z"
    }
   },
   "cell_type": "code",
   "source": [
    "# open file\n",
    "from langchain_community.document_loaders import JSONLoader, DirectoryLoader\n",
    "\n",
    "\n",
    "def metadata_func(record: dict, metadata: dict) -> dict:\n",
    "    metadata[\"source_url\"] = record.get(\"url\")\n",
    "    metadata[\"source_title\"] = record.get(\"title\")\n",
    "\n",
    "    if \"source\" in metadata:\n",
    "        metadata[\"source\"] = metadata[\"source_url\"]\n",
    "\n",
    "    return metadata\n",
    "\n",
    "\n",
    "loader = DirectoryLoader(\n",
    "    './',\n",
    "    glob=\"everything-*.json\",\n",
    "    loader_cls=JSONLoader,\n",
    "    loader_kwargs={\n",
    "        \"jq_schema\": \".[]\",\n",
    "        \"text_content\": False,\n",
    "        \"content_key\": \"html\",\n",
    "        \"metadata_func\": metadata_func,\n",
    "    }\n",
    ")\n",
    "\n",
    "data = loader.load()\n",
    "# data[:1]"
   ],
   "id": "44bfb1096b01b12b",
   "outputs": [],
   "execution_count": 6
  },
  {
   "metadata": {
    "ExecuteTime": {
     "end_time": "2024-05-19T16:57:32.225923Z",
     "start_time": "2024-05-19T16:57:31.377637Z"
    }
   },
   "cell_type": "code",
   "source": [
    "# split documents\n",
    "from langchain_text_splitters import RecursiveCharacterTextSplitter\n",
    "\n",
    "text_splitter = RecursiveCharacterTextSplitter(\n",
    "    separators=[\n",
    "        \"\\n\\n\",\n",
    "        \"\\n\",\n",
    "        \" \",\n",
    "        \".\",\n",
    "        \",\",\n",
    "    ],\n",
    "    chunk_size=500,\n",
    "    chunk_overlap=0,\n",
    "    length_function=len,\n",
    "    is_separator_regex=False,\n",
    ")\n",
    "\n",
    "docs_splits = text_splitter.split_documents(data)\n",
    "# docs_splits[:2]"
   ],
   "id": "5ae87cfd6c484e9",
   "outputs": [],
   "execution_count": 7
  },
  {
   "metadata": {},
   "cell_type": "markdown",
   "source": "## RAG search, indexing pipeline    ",
   "id": "a0afa7c55d8d850b"
  },
  {
   "metadata": {
    "ExecuteTime": {
     "end_time": "2024-05-19T16:57:32.230114Z",
     "start_time": "2024-05-19T16:57:32.227398Z"
    }
   },
   "cell_type": "code",
   "source": [
    "from langchain_core.output_parsers import StrOutputParser\n",
    "from langchain_core.prompts import ChatPromptTemplate\n",
    "from langchain_core.runnables import RunnablePassthrough\n",
    "from langchain_openai import ChatOpenAI"
   ],
   "id": "f595efc8735a31cc",
   "outputs": [],
   "execution_count": 8
  },
  {
   "metadata": {
    "ExecuteTime": {
     "end_time": "2024-05-19T16:57:33.121272Z",
     "start_time": "2024-05-19T16:57:32.239354Z"
    }
   },
   "cell_type": "code",
   "source": [
    "from rag.vectorstore.crate import CrateVectorStore\n",
    "\n",
    "vectorstore = CrateVectorStore.from_documents(\n",
    "    # assumes that data was imported already\n",
    "    # allow faster recomputation of notebook, without need of reindexing\n",
    "    documents=[],\n",
    "    # documents=docs_splits,\n",
    "    embedding=embeddings,\n",
    "    database_kwargs={\n",
    "        \"database_uri\": conn_url,\n",
    "    },\n",
    "    # vectorstore_kwargs={\n",
    "    #    \"drop_if_exists\" : True,\n",
    "    # },\n",
    ")\n",
    "vectorstore"
   ],
   "id": "665ce2d16282637f",
   "outputs": [
    {
     "data": {
      "text/plain": [
       "<rag.vectorstore.crate.CrateVectorStore at 0x1179f4490>"
      ]
     },
     "execution_count": 9,
     "metadata": {},
     "output_type": "execute_result"
    }
   ],
   "execution_count": 9
  },
  {
   "metadata": {
    "ExecuteTime": {
     "end_time": "2024-05-19T16:57:33.171145Z",
     "start_time": "2024-05-19T16:57:33.122026Z"
    }
   },
   "cell_type": "code",
   "source": [
    "from langchain.retrievers import EnsembleRetriever\n",
    "\n",
    "retriever_a = vectorstore.as_retriever(\n",
    "    search_kwargs={'k': 10, 'fetch_k': 100, \"algorith\": \"knn\"}\n",
    ")\n",
    "\n",
    "retriever_b = vectorstore.as_retriever(\n",
    "    search_kwargs={'k': 10, 'fetch_k': 100, \"algorith\": \"fulltext\"}\n",
    ")\n",
    "\n",
    "retriever_c = EnsembleRetriever(\n",
    "    retrievers=[\n",
    "        retriever_a,\n",
    "        retriever_b\n",
    "    ],\n",
    "    weights=[0.5, 0.5],\n",
    ")"
   ],
   "id": "781dc12e0c5b9fa7",
   "outputs": [],
   "execution_count": 10
  },
  {
   "metadata": {
    "ExecuteTime": {
     "end_time": "2024-05-19T16:57:33.174154Z",
     "start_time": "2024-05-19T16:57:33.172445Z"
    }
   },
   "cell_type": "code",
   "source": "import json",
   "id": "11bbcee8796a3715",
   "outputs": [],
   "execution_count": 11
  },
  {
   "metadata": {
    "ExecuteTime": {
     "end_time": "2024-05-19T16:57:35.562463Z",
     "start_time": "2024-05-19T16:57:33.178193Z"
    }
   },
   "cell_type": "code",
   "source": [
    "template = \"\"\"Answer the question based only on the context, if possible use links to reference the source, use markdown, avoid answering when the context and question are not related.\n",
    "\n",
    "today date is 2024 April 3rd\n",
    "\n",
    "{context}\n",
    "\n",
    "Question: {question}\n",
    "\"\"\"\n",
    "prompt = ChatPromptTemplate.from_template(template)\n",
    "model = ChatOpenAI()\n",
    "\n",
    "\n",
    "def format_docs(docs):\n",
    "    breakpoint()\n",
    "    return json.dumps([{\"text\": d.page_content, \"source\": d.metadata.get('source')} for d in docs])\n",
    "\n",
    "\n",
    "chain_a = (\n",
    "        {\"context\": retriever_a | format_docs,\n",
    "         \"question\": RunnablePassthrough()}\n",
    "        | prompt\n",
    "        | model\n",
    "        | StrOutputParser()\n",
    ")\n",
    "\n",
    "chain_b = (\n",
    "        {\"context\": retriever_b | format_docs,\n",
    "         \"question\": RunnablePassthrough()}\n",
    "        | prompt\n",
    "        | model\n",
    "        | StrOutputParser()\n",
    ")\n",
    "\n",
    "chain_c = (\n",
    "        {\"context\": retriever_c | format_docs,\n",
    "         \"question\": RunnablePassthrough()}\n",
    "        | prompt\n",
    "        | model\n",
    "        | StrOutputParser()\n",
    ")\n",
    "\n",
    "# result = chain.invoke(\"How to limit permissions?\")\n",
    "# result = chain.invoke(\" How AWS marketplace works, and why I cannot see deployment in my account?\")\n",
    "# result = chain.invoke(\"What are edge regions and how to use them?\")\n",
    "result = chain_a.invoke(\"Write me example of using blobs?\")\n",
    "# result = chain.invoke(\"How to use BLOB store in CrateDB? and what are the benefits?\")\n",
    "result\n"
   ],
   "id": "76601e20f9f80251",
   "outputs": [
    {
     "data": {
      "text/plain": [
       "'To use blobs, you can create a blob table in CrateDB using the following SQL statement in the Crate Shell:\\n\\n```sh\\ncrash -c \"create blob table myblobs clustered into 3 shards with (number_of_replicas=1)\"\\n```\\n\\nThis will allow you to store and manage binary large objects (BLOBs) efficiently through CrateDB. You can find more information about using CrateDB as a blobstore [here](https://cratedb.com/blog/using-crate-as-a-blobstore).'"
      ]
     },
     "execution_count": 12,
     "metadata": {},
     "output_type": "execute_result"
    }
   ],
   "execution_count": 12
  },
  {
   "metadata": {
    "ExecuteTime": {
     "end_time": "2024-05-19T16:57:35.577123Z",
     "start_time": "2024-05-19T16:57:35.564156Z"
    }
   },
   "cell_type": "code",
   "source": [
    "from IPython.display import display, Markdown\n",
    "\n",
    "display(Markdown(result))"
   ],
   "id": "30b414b6a3321c9",
   "outputs": [
    {
     "data": {
      "text/plain": [
       "<IPython.core.display.Markdown object>"
      ],
      "text/markdown": "To use blobs, you can create a blob table in CrateDB using the following SQL statement in the Crate Shell:\n\n```sh\ncrash -c \"create blob table myblobs clustered into 3 shards with (number_of_replicas=1)\"\n```\n\nThis will allow you to store and manage binary large objects (BLOBs) efficiently through CrateDB. You can find more information about using CrateDB as a blobstore [here](https://cratedb.com/blog/using-crate-as-a-blobstore)."
     },
     "metadata": {},
     "output_type": "display_data"
    }
   ],
   "execution_count": 13
  },
  {
   "metadata": {},
   "cell_type": "markdown",
   "source": "## Evaluation",
   "id": "b1aed295b7496890"
  },
  {
   "metadata": {
    "ExecuteTime": {
     "end_time": "2024-05-19T16:57:35.580072Z",
     "start_time": "2024-05-19T16:57:35.578097Z"
    }
   },
   "cell_type": "code",
   "source": [
    "questions = [\n",
    "    \"Write me example of using blobs?\",\n",
    "    \"How to use BLOB store in CrateDB? and what are the benefits?\",\n",
    "    \"How to limit permissions?\",\n",
    "    \"How AWS marketplace works, and why I cannot see deployment in my account?\",\n",
    "    \"What are edge regions and how to use them?\",\n",
    "    \"What are recent blog posts about CrateDB?\",\n",
    "    \"Write me example python code to use CrateDB?\",\n",
    "    \"Write me example golang code to use CrateDB?\",\n",
    "    \"create RAG search with CrateDB and OpenAI?\",\n",
    "    \"how to alter table and add fulltext index?\",\n",
    "    \"how to alter table and add vector type field that allows for KNN search?\",\n",
    "    \"create table with fields ID, name, vector, and index vector field for KNN search?\",\n",
    "    \"What are limits and limitations of CrateDB?\",\n",
    "    \"What are the benefits of using CrateDB?\",\n",
    "    \"Does index creation block write operations?\",\n",
    "    \"Does crate supports conditional indices\",\n",
    "    \"How to create ID field that is autoincremented?\",\n",
    "    \"how to create analysers for fulltext search?\",\n",
    "    \"give me information about password and admin\",\n",
    "    \"Shared file system implementation of the BlobStoreRepository\",\n",
    "    \"Is Cloud UI opensource?\",\n",
    "    \"How to do fusion search and connect vector search with fulltext search\",\n",
    "    \"How to MATH fulltext \"\n",
    "    \"Benchmarks of CrateDB\",\n",
    "]"
   ],
   "id": "cede734d54699adc",
   "outputs": [],
   "execution_count": 14
  },
  {
   "metadata": {
    "ExecuteTime": {
     "end_time": "2024-05-20T19:47:48.043517Z",
     "start_time": "2024-05-20T19:47:48.007849Z"
    }
   },
   "cell_type": "code",
   "source": [
    "from langchain.evaluation import load_evaluator\n",
    "\n",
    "# from langchain.evaluation.criteria import Criteria\n",
    "# \n",
    "# criteria = [\n",
    "#     Criteria.COHERENCE,\n",
    "#     Criteria.RELEVANCE,\n",
    "#     Criteria.DETAIL,\n",
    "#     Criteria.HARMFULNESS,\n",
    "#     Criteria.HELPFULNESS,\n",
    "# ]\n",
    "\n",
    "criteria2 = {\n",
    "    \"runnable\": \"Software engineer who is looking for information can copy and paste the code and it should work\",\n",
    "    \"relevance\": \"The answer is relevant to the question\",\n",
    "    \"grounded\": \"The answer links to the source of the information\",\n",
    "    \"coherence\": \"The answer is coherent and makes sense\",\n",
    "    \"detail\": \"The answer is detailed and provides enough information\",\n",
    "    \"helpfulness\": \"The answer is helpful and provides value\",\n",
    "    \"direct\": \"The answer directly answers the question\",\n",
    "    \"code\": \"The answer contains code that can be copied and pasted\",\n",
    "    \"reference\": \"The answer contains reference to the source in form of URL\",\n",
    "}\n",
    "\n",
    "evaluator = load_evaluator(\"pairwise_string\", criteria=criteria2)"
   ],
   "id": "7f1528481846d709",
   "outputs": [],
   "execution_count": 80
  },
  {
   "metadata": {
    "ExecuteTime": {
     "end_time": "2024-05-20T19:48:00.955957Z",
     "start_time": "2024-05-20T19:47:48.995514Z"
    }
   },
   "cell_type": "code",
   "source": [
    "question = \"Write me example of using blobs?\"\n",
    "prediction = chain_a.invoke(question)\n",
    "prediction_b = chain_b.invoke(question)\n",
    "\n",
    "ev = evaluator.evaluate_string_pairs(\n",
    "    prediction=prediction,\n",
    "    prediction_b=prediction_b,\n",
    "    input=question\n",
    ")"
   ],
   "id": "f46460593bc5d2d5",
   "outputs": [],
   "execution_count": 81
  },
  {
   "metadata": {
    "ExecuteTime": {
     "end_time": "2024-05-20T19:48:00.959129Z",
     "start_time": "2024-05-20T19:48:00.956948Z"
    }
   },
   "cell_type": "code",
   "source": "ev",
   "id": "2bfb0ad031d27cad",
   "outputs": [
    {
     "data": {
      "text/plain": [
       "{'reasoning': \"Both assistants provided a relevant and coherent response to the user's question. They both provided a runnable code example and referenced the same source for their information. However, Assistant A provided a more detailed explanation of what the code does, explaining that it creates a blob table named 'myblobs' with 3 shards and 1 replica. This additional detail makes Assistant A's response more helpful and direct in answering the user's question. Therefore, Assistant A is the better assistant in this case. \\n\\nFinal Verdict: [[A]]\",\n",
       " 'value': 'A',\n",
       " 'score': 1}"
      ]
     },
     "execution_count": 82,
     "metadata": {},
     "output_type": "execute_result"
    }
   ],
   "execution_count": 82
  },
  {
   "metadata": {
    "ExecuteTime": {
     "end_time": "2024-05-20T20:19:35.912258Z",
     "start_time": "2024-05-20T20:19:35.908111Z"
    }
   },
   "cell_type": "code",
   "source": [
    "from langchain_core.prompts import PromptTemplate\n",
    "from langchain_core.output_parsers import JsonOutputParser\n",
    "from langchain_core.pydantic_v1 import BaseModel, Field\n",
    "from typing import List\n",
    "\n",
    "\n",
    "class InferredRational(BaseModel):\n",
    "    rationale: str = Field(description=\"rational of the labeler\")\n",
    "    category: str = Field(description=\"category used for evaluation\")\n",
    "    score: float = Field(\n",
    "        description=\"Score -1.5 to 1.5. Where -1.5 is below expectations in the rational category, and 1.5 is above expectations in the rational category.\")\n",
    "\n",
    "\n",
    "class RationalList(BaseModel):\n",
    "    list: List[InferredRational] = Field(description=\"list of rationals used to asses quality by labeler\")\n",
    "\n",
    "\n",
    "parser_ret = JsonOutputParser(pydantic_object=RationalList)\n",
    "\n",
    "prompt_reg = PromptTemplate(\n",
    "    template=\"Extract labeler rational following criterias {criterias}.\\n{format_instructions}\\n{reasoning}\\n\",\n",
    "    input_variables=[\"reasoning\"],\n",
    "    partial_variables={\n",
    "        \"format_instructions\": parser_ret.get_format_instructions(),\n",
    "        \"criterias\": json.dumps(criteria2, indent=2)\n",
    "    },\n",
    ")\n",
    "\n",
    "chain_reasoning_extract = prompt_reg | model | parser_ret\n",
    "\n",
    "\n",
    "def extract_reasoning(reasoning) -> RationalList:\n",
    "    try:\n",
    "        return chain_reasoning_extract.invoke({\"reasoning\": reasoning})\n",
    "    except BaseException as e:\n",
    "        return None"
   ],
   "id": "2330d5b9dacc75e1",
   "outputs": [],
   "execution_count": 111
  },
  {
   "metadata": {
    "ExecuteTime": {
     "end_time": "2024-05-20T20:12:01.763116Z",
     "start_time": "2024-05-20T20:11:56.816523Z"
    }
   },
   "cell_type": "code",
   "source": "extract_reasoning(ev['reasoning'])",
   "id": "9da0a51fb09d76c2",
   "outputs": [
    {
     "data": {
      "text/plain": [
       "{'list': [{'rationale': 'Provided a detailed explanation of the code',\n",
       "   'category': 'detail',\n",
       "   'score': 1.5},\n",
       "  {'rationale': 'Answer is relevant to the question',\n",
       "   'category': 'relevance',\n",
       "   'score': 1.0},\n",
       "  {'rationale': 'Answer is coherent and makes sense',\n",
       "   'category': 'coherence',\n",
       "   'score': 1.0},\n",
       "  {'rationale': 'Answer is helpful and provides value',\n",
       "   'category': 'helpfulness',\n",
       "   'score': 1.0},\n",
       "  {'rationale': 'Answer directly answers the question',\n",
       "   'category': 'direct',\n",
       "   'score': 1.0},\n",
       "  {'rationale': 'Answer contains code that can be copied and pasted',\n",
       "   'category': 'code',\n",
       "   'score': 1.0},\n",
       "  {'rationale': 'Answer contains reference to the source in form of URL',\n",
       "   'category': 'reference',\n",
       "   'score': 1.0}]}"
      ]
     },
     "execution_count": 107,
     "metadata": {},
     "output_type": "execute_result"
    }
   ],
   "execution_count": 107
  },
  {
   "metadata": {
    "ExecuteTime": {
     "end_time": "2024-05-20T20:19:38.125645Z",
     "start_time": "2024-05-20T20:19:38.121903Z"
    }
   },
   "cell_type": "code",
   "source": [
    "from langchain_core.prompts import PromptTemplate\n",
    "from langchain_core.output_parsers import JsonOutputParser\n",
    "from langchain_core.pydantic_v1 import BaseModel, Field\n",
    "from typing import List\n",
    "\n",
    "\n",
    "class TaggedQuestion(BaseModel):\n",
    "    question: str = Field(description=\"the original question\")\n",
    "    tags: List[str] = Field(description=\"the list of tags that best categorize the question\")\n",
    "\n",
    "\n",
    "class TaggedQuestionList(BaseModel):\n",
    "    list: List[TaggedQuestion] = Field(description=\"list of categorized questions\")\n",
    "\n",
    "\n",
    "parser_cat = JsonOutputParser(pydantic_object=TaggedQuestionList)\n",
    "\n",
    "prompt_cat = PromptTemplate(\n",
    "    template=\"Categorize question {questions}.\\n{format_instructions}\\n\\n\",\n",
    "    input_variables=[\"reasoning\"],\n",
    "    partial_variables={\n",
    "        \"format_instructions\": parser_cat.get_format_instructions(),\n",
    "        \"questions\": json.dumps(questions, indent=2)\n",
    "    },\n",
    ")\n",
    "\n",
    "chain_tag_question = prompt_cat | model | parser_cat\n",
    "\n",
    "\n",
    "def categorise_questions(questions: List[str]) -> TaggedQuestionList:\n",
    "    try:\n",
    "        return chain_tag_question.invoke({\"questions\": questions})\n",
    "    except BaseException as e:\n",
    "        return None"
   ],
   "id": "c7b2b72aaa04a542",
   "outputs": [],
   "execution_count": 112
  },
  {
   "metadata": {
    "ExecuteTime": {
     "end_time": "2024-05-20T20:13:09.639Z",
     "start_time": "2024-05-20T20:12:58.630005Z"
    }
   },
   "cell_type": "code",
   "source": [
    "categorised_questions = categorise_questions(questions)\n",
    "categorised_questions"
   ],
   "id": "153d4258ba9f1b4e",
   "outputs": [
    {
     "data": {
      "text/plain": [
       "{'list': [{'question': 'Write me example of using blobs?',\n",
       "   'tags': ['Blob Usage']},\n",
       "  {'question': 'How to use BLOB store in CrateDB? and what are the benefits?',\n",
       "   'tags': ['Blob Store', 'CrateDB', 'Benefits']},\n",
       "  {'question': 'How to limit permissions?', 'tags': ['Permissions']},\n",
       "  {'question': 'How AWS marketplace works, and why I cannot see deployment in my account?',\n",
       "   'tags': ['AWS Marketplace', 'Deployment']},\n",
       "  {'question': 'What are edge regions and how to use them?',\n",
       "   'tags': ['Edge Regions', 'Usage']},\n",
       "  {'question': 'What are recent blog posts about CrateDB?',\n",
       "   'tags': ['CrateDB', 'Blog Posts']},\n",
       "  {'question': 'Write me example python code to use CrateDB?',\n",
       "   'tags': ['Python', 'CrateDB', 'Code Example']},\n",
       "  {'question': 'Write me example golang code to use CrateDB?',\n",
       "   'tags': ['Golang', 'CrateDB', 'Code Example']},\n",
       "  {'question': 'create RAG search with CrateDB and OpenAI?',\n",
       "   'tags': ['RAG Search', 'CrateDB', 'OpenAI']},\n",
       "  {'question': 'how to alter table and add fulltext index?',\n",
       "   'tags': ['Alter Table', 'Fulltext Index']},\n",
       "  {'question': 'how to alter table and add vector type field that allows for KNN search?',\n",
       "   'tags': ['Alter Table', 'Vector Type', 'KNN Search']},\n",
       "  {'question': 'create table with fields ID, name, vector, and index vector field for KNN search?',\n",
       "   'tags': ['Create Table', 'Fields', 'KNN Search']},\n",
       "  {'question': 'What are limits and limitations of CrateDB?',\n",
       "   'tags': ['Limits', 'Limitations', 'CrateDB']},\n",
       "  {'question': 'What are the benefits of using CrateDB?',\n",
       "   'tags': ['Benefits', 'CrateDB']},\n",
       "  {'question': 'Does index creation block write operations?',\n",
       "   'tags': ['Index Creation', 'Write Operations']},\n",
       "  {'question': 'Does crate supports conditional indices',\n",
       "   'tags': ['Crate', 'Conditional Indices']},\n",
       "  {'question': 'How to create ID field that is autoincremented?',\n",
       "   'tags': ['Autoincrement', 'ID Field']},\n",
       "  {'question': 'how to create analysers for fulltext search?',\n",
       "   'tags': ['Create Analysers', 'Fulltext Search']},\n",
       "  {'question': 'give me information about password and admin',\n",
       "   'tags': ['Password', 'Admin']},\n",
       "  {'question': 'Shared file system implementation of the BlobStoreRepository',\n",
       "   'tags': ['Shared File System', 'BlobStoreRepository']},\n",
       "  {'question': 'Is Cloud UI opensource?', 'tags': ['Cloud UI', 'Open Source']},\n",
       "  {'question': 'How to do fusion search and connect vector search with fulltext search',\n",
       "   'tags': ['Fusion Search', 'Vector Search', 'Fulltext Search']},\n",
       "  {'question': 'How to MATH fulltext Benchmarks of CrateDB',\n",
       "   'tags': ['Fulltext Benchmarks', 'CrateDB']}]}"
      ]
     },
     "execution_count": 110,
     "metadata": {},
     "output_type": "execute_result"
    }
   ],
   "execution_count": 110
  },
  {
   "metadata": {
    "ExecuteTime": {
     "end_time": "2024-05-20T20:26:05.297102Z",
     "start_time": "2024-05-20T20:19:42.208477Z"
    }
   },
   "cell_type": "code",
   "source": [
    "from typing import List\n",
    "# setup LLM Comparator\n",
    "import llm_comparator as llc\n",
    "import concurrent.futures\n",
    "\n",
    "def build_example(index: int, question: TaggedQuestion, chain_a, chain_b, raters=3):\n",
    "    prediction = chain_a.invoke(question['question'])\n",
    "    prediction_b = chain_b.invoke(question['question'])\n",
    "\n",
    "    individual_rater_scores: List[llc.RaterScore] = []\n",
    "\n",
    "    # parallelize\n",
    "    with concurrent.futures.ThreadPoolExecutor() as executor:\n",
    "        evaluations = list(executor.map(\n",
    "            lambda i: evaluator.evaluate_string_pairs(\n",
    "                prediction=prediction if i % 2 == 0 else prediction_b,\n",
    "                prediction_b=prediction_b if i % 2 == 0 else prediction,\n",
    "                input=question['question']\n",
    "            ),\n",
    "            range(raters * 2)\n",
    "        ))\n",
    "\n",
    "        for i, ev in enumerate(evaluations):\n",
    "            is_flipped = i % 2 == 1\n",
    "            # make score that is between 0 and 1, to be between -1.5 and 1.5\n",
    "            score = (ev['score'] - 0.5) * 3\n",
    "            if is_flipped:\n",
    "                score = -score\n",
    "\n",
    "            individual_rater_scores.append(\n",
    "                llc.RaterScore(\n",
    "                    is_flipped=is_flipped,\n",
    "                    score=score,\n",
    "                    rationale=ev['reasoning'],\n",
    "                    rating_label=ev['value']\n",
    "                )\n",
    "            )\n",
    "\n",
    "    avg_score = sum([r.score for r in individual_rater_scores]) / len(individual_rater_scores)\n",
    "\n",
    "    return llc.Example(\n",
    "        index=index,\n",
    "        input_text=question['question'],\n",
    "        tags=question[\"tags\"],\n",
    "        output_text_a=prediction,\n",
    "        output_text_b=prediction_b,\n",
    "        score=avg_score,\n",
    "        custom_fields={},\n",
    "        individual_rater_scores=individual_rater_scores,\n",
    "    )\n",
    "\n",
    "\n",
    "metadata = llc.Metadata(\n",
    "    source_path=\"Compare RAG search with CrateDB vector, fulltext, fusion and OpenAI\",\n",
    "    custom_fields_schema=[]\n",
    ")\n",
    "\n",
    "models: List[llc.Model] = [\n",
    "    llc.Model(\n",
    "        name=\"A\",\n",
    "    ),\n",
    "    llc.Model(\n",
    "        name=\"B\",\n",
    "    ),\n",
    "]\n",
    "\n",
    "examples: List[llc.Example] = [build_example(i, x, chain_a, chain_b) for i, x in\n",
    "                               enumerate(categorised_questions['list'])]\n",
    "\n",
    "\n"
   ],
   "id": "4a2b951a8fca2e5e",
   "outputs": [],
   "execution_count": 113
  },
  {
   "metadata": {
    "ExecuteTime": {
     "end_time": "2024-05-20T20:47:21.552272Z",
     "start_time": "2024-05-20T20:47:21.547052Z"
    }
   },
   "cell_type": "code",
   "source": [
    "rationale_clusters: List[llc.RationaleCluster] = [\n",
    "    llc.RationaleCluster(\n",
    "        title=\"provide more details\",\n",
    "    ),\n",
    "    llc.RationaleCluster(\n",
    "        title=\"is more engaging\",\n",
    "    ),\n",
    "    llc.RationaleCluster(\n",
    "        title=\"directly answers the question\",\n",
    "    ),\n",
    "    llc.RationaleCluster(\n",
    "        title=\"has more references\",\n",
    "    ),\n",
    "    llc.RationaleCluster(\n",
    "        title=\"has code examples\",\n",
    "    ),\n",
    "]\n",
    "\n"
   ],
   "id": "39aa90f8c32a49ca",
   "outputs": [],
   "execution_count": 119
  },
  {
   "metadata": {
    "ExecuteTime": {
     "end_time": "2024-05-20T20:26:05.302942Z",
     "start_time": "2024-05-20T20:26:05.299206Z"
    }
   },
   "cell_type": "code",
   "source": [
    "from numpy import dot\n",
    "from numpy.linalg import norm\n",
    "\n",
    "\n",
    "def measure_similarities(rational_cluster_emb: List[List[float]], rational_emb: List[float]) -> List[List[float]]:\n",
    "    b = rational_emb\n",
    "    return [\n",
    "        dot(a, b) / (norm(a) * norm(b)) for a in rational_cluster_emb\n",
    "    ]\n",
    "\n"
   ],
   "id": "3899d8f8178d9e85",
   "outputs": [],
   "execution_count": 114
  },
  {
   "metadata": {
    "ExecuteTime": {
     "end_time": "2024-05-20T19:53:47.820706Z",
     "start_time": "2024-05-20T19:53:47.817687Z"
    }
   },
   "cell_type": "code",
   "source": "",
   "id": "691e41d42d26fec6",
   "outputs": [],
   "execution_count": 86
  },
  {
   "metadata": {
    "ExecuteTime": {
     "end_time": "2024-05-20T20:33:59.557285Z",
     "start_time": "2024-05-20T20:26:05.304392Z"
    }
   },
   "cell_type": "code",
   "source": [
    "# enhance each example with rationale_list. \n",
    "for example in examples:\n",
    "    rationale_clusters_emb_list = embeddings.embed_documents([r.title for r in rationale_clusters])\n",
    "\n",
    "    with concurrent.futures.ThreadPoolExecutor() as executor:\n",
    "        extracted_list = list(executor.map(\n",
    "            lambda rater_score: extract_reasoning(rater_score.rationale),\n",
    "            example.individual_rater_scores\n",
    "        ))\n",
    "        for extracted in extracted_list:\n",
    "            if extracted and 'list' in extracted and len(extracted['list']) > 0:\n",
    "                example.rationale_list = [llc.Rational(\n",
    "                    rationale=r['rationale'],\n",
    "                    paraphrased_rationales=[],\n",
    "                    similarities=measure_similarities(rationale_clusters_emb_list,\n",
    "                                                      embeddings.embed_query(r['rationale'])),\n",
    "                ) for r in extracted['list']]\n"
   ],
   "id": "2c9778cf0ced225a",
   "outputs": [],
   "execution_count": 115
  },
  {
   "metadata": {
    "ExecuteTime": {
     "end_time": "2024-05-20T19:38:31.627066Z",
     "start_time": "2024-05-20T19:38:31.625412Z"
    }
   },
   "cell_type": "code",
   "source": "",
   "id": "ac5be7acb5e7a4ff",
   "outputs": [],
   "execution_count": 77
  },
  {
   "metadata": {
    "ExecuteTime": {
     "end_time": "2024-05-20T20:47:38.926128Z",
     "start_time": "2024-05-20T20:47:38.918832Z"
    }
   },
   "cell_type": "code",
   "source": [
    "llcset = llc.LLMComparatorData(\n",
    "    metadata=metadata,\n",
    "    models=models,\n",
    "    examples=examples,\n",
    "    rationale_clusters=rationale_clusters,\n",
    ")\n",
    "\n",
    "with open(\"eval.json\", \"w\") as f:\n",
    "    f.write(llcset.to_json())"
   ],
   "id": "a16ff626e7877db8",
   "outputs": [],
   "execution_count": 120
  },
  {
   "metadata": {
    "ExecuteTime": {
     "end_time": "2024-05-19T17:09:42.057970Z",
     "start_time": "2024-05-19T17:09:42.055095Z"
    }
   },
   "cell_type": "code",
   "source": [
    "from random import random\n",
    "\n",
    "\n",
    "def eval(questions, chain_a, chain_b, aname=\"A\", bname=\"B\", cname=None):\n",
    "    evaluation_results = []\n",
    "\n",
    "    for question in questions:\n",
    "        prediction = chain_a.invoke(question)\n",
    "        prediction_b = chain_b.invoke(question)\n",
    "        # prediction_c = chain_c.invoke(question)\n",
    "\n",
    "        # swap prediction to avoid bias in evaluator\n",
    "\n",
    "        choice = random() > 0.5\n",
    "        if choice:\n",
    "            prediction, prediction_b = prediction_b, prediction\n",
    "\n",
    "        ev = evaluator.evaluate_string_pairs(\n",
    "            prediction=prediction,\n",
    "            prediction_b=prediction_b,\n",
    "            input=question\n",
    "        )\n",
    "\n",
    "        if choice:\n",
    "            ev = {\n",
    "                \"value\": {\"A\": bname, \"B\": aname, None: cname}[ev[\"value\"]],\n",
    "                \"score\": ev[\"score\"],\n",
    "                \"reasoning\": \"Swapped prediction: {}\".format(ev[\"reasoning\"])\n",
    "            }\n",
    "\n",
    "        evaluation_results.append({\n",
    "            \"choice\": choice,\n",
    "            \"candidates\": \",\".join([aname, bname, \"None\"]),\n",
    "            \"question\": question,\n",
    "            f\"prediction_{aname}\": prediction if choice else prediction_b,\n",
    "            f\"prediction_{bname}\": prediction_b if choice else prediction,\n",
    "            **ev\n",
    "        })\n",
    "\n",
    "    return evaluation_results\n"
   ],
   "id": "6b834d4988fcd32d",
   "outputs": [],
   "execution_count": 19
  },
  {
   "metadata": {},
   "cell_type": "code",
   "outputs": [],
   "execution_count": null,
   "source": [
    "import pandas as pd\n",
    "\n",
    "evaluation_results_ab_df = pd.DataFrame(eval(questions, chain_a, chain_b, aname=\"A\", bname=\"B\"))\n",
    "evaluation_results_ab_df"
   ],
   "id": "a946c4d848a6f8c1"
  },
  {
   "metadata": {},
   "cell_type": "code",
   "outputs": [],
   "execution_count": null,
   "source": [
    "evaluation_results_ac_df = pd.DataFrame(eval(questions, chain_a, chain_c, aname=\"A\", bname=\"C\"))\n",
    "evaluation_results_ac_df"
   ],
   "id": "576f0f315f08e2ba"
  },
  {
   "metadata": {},
   "cell_type": "code",
   "outputs": [],
   "execution_count": null,
   "source": [
    "evaluation_results_bc_df = pd.DataFrame(eval(questions, chain_b, chain_c, aname=\"B\", bname=\"C\"))\n",
    "evaluation_results_bc_df"
   ],
   "id": "f867ce52e29d5344"
  },
  {
   "metadata": {},
   "cell_type": "markdown",
   "source": [
    "# Analysis of evaluation results\n",
    "- Which variant was preferred more?\n",
    "- What is probability that people presented with a variant A over B will be more happy?\n",
    "- Which prediction variant on average performed better?\n",
    "- What is distribution of scores for each prediction variant?"
   ],
   "id": "b76c224e4159c231"
  },
  {
   "metadata": {},
   "cell_type": "markdown",
   "source": "## Which variant was preferred more? as percentage",
   "id": "1d5a2ee7a0eca9d7"
  },
  {
   "metadata": {},
   "cell_type": "code",
   "outputs": [],
   "execution_count": null,
   "source": "",
   "id": "f5a3953d4e937857"
  },
  {
   "metadata": {},
   "cell_type": "code",
   "outputs": [],
   "execution_count": null,
   "source": [
    "total = len(questions)\n",
    "# value can be A, B, None, None means that both predictions are equal, show None as C\n",
    "# dived by total to get percentage contribution from all evaluations \n",
    "# multiply by 100 to get percentage\n",
    "ab_res = evaluation_results_ab_df['value'].fillna(\"X\").value_counts() / total * 100\n",
    "ab_res"
   ],
   "id": "4987526ec2c2b262"
  },
  {
   "metadata": {},
   "cell_type": "code",
   "outputs": [],
   "execution_count": null,
   "source": [
    "ac_res = evaluation_results_ac_df['value'].fillna(\"X\").value_counts() / total * 100\n",
    "ac_res"
   ],
   "id": "8996abda96230094"
  },
  {
   "metadata": {},
   "cell_type": "code",
   "outputs": [],
   "execution_count": null,
   "source": [
    "bc_res = evaluation_results_bc_df['value'].fillna(\"X\").value_counts() / total * 100\n",
    "bc_res"
   ],
   "id": "7690e526803d44b8"
  },
  {
   "cell_type": "code",
   "source": [
    "joined = pd.concat([evaluation_results_bc_df,\n",
    "                    evaluation_results_ac_df,\n",
    "                    evaluation_results_ab_df], axis=0)\n",
    "joined.fillna(\"None\", inplace=True)\n",
    "joined"
   ],
   "metadata": {
    "collapsed": false,
    "ExecuteTime": {
     "end_time": "2024-04-29T18:31:59.172763Z",
     "start_time": "2024-04-29T18:31:59.163960Z"
    }
   },
   "id": "bd6b2e4751bbb5cb",
   "outputs": [
    {
     "data": {
      "text/plain": [
       "    choice candidates                                           question  \\\n",
       "0     True   B,C,None                   Write me example of using blobs?   \n",
       "1    False   B,C,None  How to use BLOB store in CrateDB? and what are...   \n",
       "2     True   B,C,None                          How to limit permissions?   \n",
       "3     True   B,C,None  How AWS marketplace works, and why I cannot se...   \n",
       "4    False   B,C,None         What are edge regions and how to use them?   \n",
       "..     ...        ...                                                ...   \n",
       "18    True   A,B,None       give me information about password and admin   \n",
       "19    True   A,B,None  Shared file system implementation of the BlobS...   \n",
       "20   False   A,B,None                            Is Cloud UI opensource?   \n",
       "21    True   A,B,None  How to do fusion search and connect vector sea...   \n",
       "22   False   A,B,None         How to MATH fulltext Benchmarks of CrateDB   \n",
       "\n",
       "                                         prediction_B  \\\n",
       "0   To use blobs in Crate, you first need to creat...   \n",
       "1   To use BLOB store in CrateDB, you can store bi...   \n",
       "2   To limit permissions in CrateDB, users can uti...   \n",
       "3   To deploy a cluster on CrateDB Cloud via AWS M...   \n",
       "4   Edge regions are custom regions that can be cr...   \n",
       "..                                                ...   \n",
       "18  Based on the provided text sources, passwords ...   \n",
       "19  The BlobStoreRepository shared file system imp...   \n",
       "20  Based on the provided context, it seems that t...   \n",
       "21  To do fusion search and connect vector search ...   \n",
       "22  To benchmark the full-text search capabilities...   \n",
       "\n",
       "                                         prediction_C value  score  \\\n",
       "0   To upload a blob, you can issue a PUT request ...     C    1.0   \n",
       "1   To use BLOB store in CrateDB, you can store bi...     B    0.0   \n",
       "2   To limit permissions, you can use Role-Based A...     C    1.0   \n",
       "3   The AWS Marketplace works by allowing users to...     C    1.0   \n",
       "4   Edge regions are components of a deployed Edge...     A    1.0   \n",
       "..                                                ...   ...    ...   \n",
       "18                                               None     B    1.0   \n",
       "19                                               None     A    0.0   \n",
       "20                                               None     B    0.0   \n",
       "21                                               None  None    0.5   \n",
       "22                                               None     A    1.0   \n",
       "\n",
       "                                            reasoning  \\\n",
       "0   Swapped prediction: Both assistants provide re...   \n",
       "1   Both Assistant A and Assistant B provided cohe...   \n",
       "2   Swapped prediction: Both assistants provide co...   \n",
       "3   Swapped prediction: Both assistants provide co...   \n",
       "4   Both Assistant A and Assistant B provide coher...   \n",
       "..                                                ...   \n",
       "18  Swapped prediction: Both Assistant A and Assis...   \n",
       "19  Swapped prediction: Assistant B's response is ...   \n",
       "20  Assistant A and Assistant B both provide coher...   \n",
       "21  Swapped prediction: Both Assistant A and Assis...   \n",
       "22  Assistant A provides a more helpful and releva...   \n",
       "\n",
       "                                         prediction_A  \n",
       "0                                                None  \n",
       "1                                                None  \n",
       "2                                                None  \n",
       "3                                                None  \n",
       "4                                                None  \n",
       "..                                                ...  \n",
       "18  Based on the provided context, password authen...  \n",
       "19  The information provided does not contain deta...  \n",
       "20  Based on the context provided, the Cloud UI me...  \n",
       "21  To perform fusion search and connect vector se...  \n",
       "22  The text provided does not contain information...  \n",
       "\n",
       "[69 rows x 9 columns]"
      ],
      "text/html": [
       "<div>\n",
       "<style scoped>\n",
       "    .dataframe tbody tr th:only-of-type {\n",
       "        vertical-align: middle;\n",
       "    }\n",
       "\n",
       "    .dataframe tbody tr th {\n",
       "        vertical-align: top;\n",
       "    }\n",
       "\n",
       "    .dataframe thead th {\n",
       "        text-align: right;\n",
       "    }\n",
       "</style>\n",
       "<table border=\"1\" class=\"dataframe\">\n",
       "  <thead>\n",
       "    <tr style=\"text-align: right;\">\n",
       "      <th></th>\n",
       "      <th>choice</th>\n",
       "      <th>candidates</th>\n",
       "      <th>question</th>\n",
       "      <th>prediction_B</th>\n",
       "      <th>prediction_C</th>\n",
       "      <th>value</th>\n",
       "      <th>score</th>\n",
       "      <th>reasoning</th>\n",
       "      <th>prediction_A</th>\n",
       "    </tr>\n",
       "  </thead>\n",
       "  <tbody>\n",
       "    <tr>\n",
       "      <th>0</th>\n",
       "      <td>True</td>\n",
       "      <td>B,C,None</td>\n",
       "      <td>Write me example of using blobs?</td>\n",
       "      <td>To use blobs in Crate, you first need to creat...</td>\n",
       "      <td>To upload a blob, you can issue a PUT request ...</td>\n",
       "      <td>C</td>\n",
       "      <td>1.0</td>\n",
       "      <td>Swapped prediction: Both assistants provide re...</td>\n",
       "      <td>None</td>\n",
       "    </tr>\n",
       "    <tr>\n",
       "      <th>1</th>\n",
       "      <td>False</td>\n",
       "      <td>B,C,None</td>\n",
       "      <td>How to use BLOB store in CrateDB? and what are...</td>\n",
       "      <td>To use BLOB store in CrateDB, you can store bi...</td>\n",
       "      <td>To use BLOB store in CrateDB, you can store bi...</td>\n",
       "      <td>B</td>\n",
       "      <td>0.0</td>\n",
       "      <td>Both Assistant A and Assistant B provided cohe...</td>\n",
       "      <td>None</td>\n",
       "    </tr>\n",
       "    <tr>\n",
       "      <th>2</th>\n",
       "      <td>True</td>\n",
       "      <td>B,C,None</td>\n",
       "      <td>How to limit permissions?</td>\n",
       "      <td>To limit permissions in CrateDB, users can uti...</td>\n",
       "      <td>To limit permissions, you can use Role-Based A...</td>\n",
       "      <td>C</td>\n",
       "      <td>1.0</td>\n",
       "      <td>Swapped prediction: Both assistants provide co...</td>\n",
       "      <td>None</td>\n",
       "    </tr>\n",
       "    <tr>\n",
       "      <th>3</th>\n",
       "      <td>True</td>\n",
       "      <td>B,C,None</td>\n",
       "      <td>How AWS marketplace works, and why I cannot se...</td>\n",
       "      <td>To deploy a cluster on CrateDB Cloud via AWS M...</td>\n",
       "      <td>The AWS Marketplace works by allowing users to...</td>\n",
       "      <td>C</td>\n",
       "      <td>1.0</td>\n",
       "      <td>Swapped prediction: Both assistants provide co...</td>\n",
       "      <td>None</td>\n",
       "    </tr>\n",
       "    <tr>\n",
       "      <th>4</th>\n",
       "      <td>False</td>\n",
       "      <td>B,C,None</td>\n",
       "      <td>What are edge regions and how to use them?</td>\n",
       "      <td>Edge regions are custom regions that can be cr...</td>\n",
       "      <td>Edge regions are components of a deployed Edge...</td>\n",
       "      <td>A</td>\n",
       "      <td>1.0</td>\n",
       "      <td>Both Assistant A and Assistant B provide coher...</td>\n",
       "      <td>None</td>\n",
       "    </tr>\n",
       "    <tr>\n",
       "      <th>...</th>\n",
       "      <td>...</td>\n",
       "      <td>...</td>\n",
       "      <td>...</td>\n",
       "      <td>...</td>\n",
       "      <td>...</td>\n",
       "      <td>...</td>\n",
       "      <td>...</td>\n",
       "      <td>...</td>\n",
       "      <td>...</td>\n",
       "    </tr>\n",
       "    <tr>\n",
       "      <th>18</th>\n",
       "      <td>True</td>\n",
       "      <td>A,B,None</td>\n",
       "      <td>give me information about password and admin</td>\n",
       "      <td>Based on the provided text sources, passwords ...</td>\n",
       "      <td>None</td>\n",
       "      <td>B</td>\n",
       "      <td>1.0</td>\n",
       "      <td>Swapped prediction: Both Assistant A and Assis...</td>\n",
       "      <td>Based on the provided context, password authen...</td>\n",
       "    </tr>\n",
       "    <tr>\n",
       "      <th>19</th>\n",
       "      <td>True</td>\n",
       "      <td>A,B,None</td>\n",
       "      <td>Shared file system implementation of the BlobS...</td>\n",
       "      <td>The BlobStoreRepository shared file system imp...</td>\n",
       "      <td>None</td>\n",
       "      <td>A</td>\n",
       "      <td>0.0</td>\n",
       "      <td>Swapped prediction: Assistant B's response is ...</td>\n",
       "      <td>The information provided does not contain deta...</td>\n",
       "    </tr>\n",
       "    <tr>\n",
       "      <th>20</th>\n",
       "      <td>False</td>\n",
       "      <td>A,B,None</td>\n",
       "      <td>Is Cloud UI opensource?</td>\n",
       "      <td>Based on the provided context, it seems that t...</td>\n",
       "      <td>None</td>\n",
       "      <td>B</td>\n",
       "      <td>0.0</td>\n",
       "      <td>Assistant A and Assistant B both provide coher...</td>\n",
       "      <td>Based on the context provided, the Cloud UI me...</td>\n",
       "    </tr>\n",
       "    <tr>\n",
       "      <th>21</th>\n",
       "      <td>True</td>\n",
       "      <td>A,B,None</td>\n",
       "      <td>How to do fusion search and connect vector sea...</td>\n",
       "      <td>To do fusion search and connect vector search ...</td>\n",
       "      <td>None</td>\n",
       "      <td>None</td>\n",
       "      <td>0.5</td>\n",
       "      <td>Swapped prediction: Both Assistant A and Assis...</td>\n",
       "      <td>To perform fusion search and connect vector se...</td>\n",
       "    </tr>\n",
       "    <tr>\n",
       "      <th>22</th>\n",
       "      <td>False</td>\n",
       "      <td>A,B,None</td>\n",
       "      <td>How to MATH fulltext Benchmarks of CrateDB</td>\n",
       "      <td>To benchmark the full-text search capabilities...</td>\n",
       "      <td>None</td>\n",
       "      <td>A</td>\n",
       "      <td>1.0</td>\n",
       "      <td>Assistant A provides a more helpful and releva...</td>\n",
       "      <td>The text provided does not contain information...</td>\n",
       "    </tr>\n",
       "  </tbody>\n",
       "</table>\n",
       "<p>69 rows × 9 columns</p>\n",
       "</div>"
      ]
     },
     "execution_count": 49,
     "metadata": {},
     "output_type": "execute_result"
    }
   ],
   "execution_count": 49
  },
  {
   "metadata": {
    "ExecuteTime": {
     "end_time": "2024-04-29T18:32:17.549519Z",
     "start_time": "2024-04-29T18:32:17.546696Z"
    }
   },
   "cell_type": "code",
   "source": [
    "# statistics\n",
    "joined['value'].describe()"
   ],
   "id": "a5a180d93cd6393e",
   "outputs": [
    {
     "data": {
      "text/plain": [
       "count     69\n",
       "unique     4\n",
       "top        A\n",
       "freq      26\n",
       "Name: value, dtype: object"
      ]
     },
     "execution_count": 53,
     "metadata": {},
     "output_type": "execute_result"
    }
   ],
   "execution_count": 53
  },
  {
   "metadata": {},
   "cell_type": "code",
   "source": "joined['value'].value_counts().plot.bar()",
   "id": "ed043316af7670bd",
   "outputs": [
    {
     "data": {
      "text/plain": [
       "<Axes: xlabel='value'>"
      ]
     },
     "execution_count": 52,
     "metadata": {},
     "output_type": "execute_result"
    },
    {
     "data": {
      "text/plain": [
       "<Figure size 640x480 with 1 Axes>"
      ],
      "image/png": "[encoded data removed]"
     },
     "metadata": {},
     "output_type": "display_data"
    }
   ],
   "execution_count": 52
  },
  {
   "metadata": {
    "ExecuteTime": {
     "end_time": "2024-04-29T18:32:20.548042Z",
     "start_time": "2024-04-29T18:32:20.544311Z"
    }
   },
   "cell_type": "code",
   "source": "joined.to_csv(\"joined.csv\")",
   "id": "ffa44dd96c3b610e",
   "outputs": [],
   "execution_count": 54
  },
  {
   "metadata": {},
   "cell_type": "code",
   "outputs": [],
   "execution_count": null,
   "source": "",
   "id": "743befa9eb8318b"
  }
 ],
 "metadata": {
  "kernelspec": {
   "display_name": "Python 3",
   "language": "python",
   "name": "python3"
  },
  "language_info": {
   "codemirror_mode": {
    "name": "ipython",
    "version": 2
   },
   "file_extension": ".py",
   "mimetype": "text/x-python",
   "name": "python",
   "nbconvert_exporter": "python",
   "pygments_lexer": "ipython2",
   "version": "2.7.6"
  }
 },
 "nbformat": 4,
 "nbformat_minor": 5
}
