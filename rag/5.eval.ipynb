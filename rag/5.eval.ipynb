{
 "cells": [
  {
   "cell_type": "code",
   "source": [
    "%pip install --upgrade --quiet pip setuptools wheel matplotlib seaborn\n",
    "%pip install --upgrade --quiet  langchain langchain-openai faiss-cpu tiktoken crate 'crate[sqlalchemy]' pandas jq \n",
    "%pip install --use-pep517 --quiet python-dotenv"
   ],
   "metadata": {
    "collapsed": false,
    "ExecuteTime": {
     "end_time": "2024-04-27T12:29:27.322306Z",
     "start_time": "2024-04-27T12:29:20.000534Z"
    }
   },
   "id": "initial_id",
   "outputs": [
    {
     "name": "stdout",
     "output_type": "stream",
     "text": [
      "Note: you may need to restart the kernel to use updated packages.\n",
      "Note: you may need to restart the kernel to use updated packages.\n",
      "Note: you may need to restart the kernel to use updated packages.\n"
     ]
    }
   ],
   "execution_count": 17
  },
  {
   "cell_type": "markdown",
   "source": [
    "# Evaluate RAG search with CrateDB vector, fulltext, fusion and OpenAI"
   ],
   "metadata": {
    "collapsed": false
   },
   "id": "dc24a7253f30ab45"
  },
  {
   "cell_type": "markdown",
   "source": [
    "## Setup environment variables"
   ],
   "metadata": {
    "collapsed": false
   },
   "id": "b175df042b6daa6c"
  },
  {
   "cell_type": "code",
   "source": [
    "import os\n",
    "\n",
    "from dotenv import load_dotenv\n",
    "\n",
    "load_dotenv()"
   ],
   "metadata": {
    "collapsed": false,
    "ExecuteTime": {
     "end_time": "2024-04-27T12:29:27.326880Z",
     "start_time": "2024-04-27T12:29:27.323748Z"
    }
   },
   "id": "748584363db94776",
   "outputs": [
    {
     "data": {
      "text/plain": [
       "True"
      ]
     },
     "execution_count": 18,
     "metadata": {},
     "output_type": "execute_result"
    }
   ],
   "execution_count": 18
  },
  {
   "cell_type": "markdown",
   "source": [
    "## setup embeddings"
   ],
   "metadata": {
    "collapsed": false
   },
   "id": "d55a23d79479bbe0"
  },
  {
   "cell_type": "code",
   "source": [
    "from langchain_openai import OpenAIEmbeddings\n",
    "\n",
    "embeddings = OpenAIEmbeddings()\n",
    "len(embeddings.embed_query(\"a\"))"
   ],
   "metadata": {
    "collapsed": false,
    "ExecuteTime": {
     "end_time": "2024-04-27T12:29:27.626464Z",
     "start_time": "2024-04-27T12:29:27.327437Z"
    }
   },
   "id": "3310aa17c0d6b9a2",
   "outputs": [
    {
     "data": {
      "text/plain": [
       "1536"
      ]
     },
     "execution_count": 19,
     "metadata": {},
     "output_type": "execute_result"
    }
   ],
   "execution_count": 19
  },
  {
   "cell_type": "code",
   "source": [
    "conn_url = \"crate://{user}:{password}@{server}\".format(\n",
    "    user=os.environ[\"CRATEDB_USER\"],\n",
    "    password=os.environ[\"CRATEDB_PASS\"],\n",
    "    server=os.environ[\"CRATEDB_SERVER\"],\n",
    ")\n",
    "conn_url"
   ],
   "metadata": {
    "collapsed": false,
    "ExecuteTime": {
     "end_time": "2024-04-27T12:29:27.631881Z",
     "start_time": "2024-04-27T12:29:27.628609Z"
    }
   },
   "id": "5411eeb9ad125937",
   "outputs": [
    {
     "data": {
      "text/plain": [
       "'crate://crate:@localhost:4200'"
      ]
     },
     "execution_count": 20,
     "metadata": {},
     "output_type": "execute_result"
    }
   ],
   "execution_count": 20
  },
  {
   "cell_type": "code",
   "source": [
    "# open file\n",
    "from langchain_community.document_loaders import JSONLoader, DirectoryLoader\n",
    "\n",
    "\n",
    "def metadata_func(record: dict, metadata: dict) -> dict:\n",
    "    metadata[\"source_url\"] = record.get(\"url\")\n",
    "    metadata[\"source_title\"] = record.get(\"title\")\n",
    "\n",
    "    if \"source\" in metadata:\n",
    "        metadata[\"source\"] = metadata[\"source_url\"]\n",
    "\n",
    "    return metadata\n",
    "\n",
    "\n",
    "loader = DirectoryLoader(\n",
    "    './',\n",
    "    glob=\"everything-*.json\",\n",
    "    loader_cls=JSONLoader,\n",
    "    loader_kwargs={\n",
    "        \"jq_schema\": \".[]\",\n",
    "        \"text_content\": False,\n",
    "        \"content_key\": \"html\",\n",
    "        \"metadata_func\": metadata_func,\n",
    "    }\n",
    ")\n",
    "\n",
    "data = loader.load()\n",
    "# data[:1]"
   ],
   "metadata": {
    "collapsed": false,
    "ExecuteTime": {
     "end_time": "2024-04-27T12:29:28.826380Z",
     "start_time": "2024-04-27T12:29:27.632998Z"
    }
   },
   "id": "ea0659ca5e6fb4af",
   "outputs": [],
   "execution_count": 21
  },
  {
   "cell_type": "code",
   "source": [
    "# split documents\n",
    "from langchain_text_splitters import RecursiveCharacterTextSplitter\n",
    "\n",
    "text_splitter = RecursiveCharacterTextSplitter(\n",
    "    separators=[\n",
    "        \"\\n\\n\",\n",
    "        \"\\n\",\n",
    "        \" \",\n",
    "        \".\",\n",
    "        \",\",\n",
    "    ],\n",
    "    chunk_size=500,\n",
    "    chunk_overlap=50,\n",
    "    length_function=len,\n",
    "    is_separator_regex=False,\n",
    ")\n",
    "\n",
    "docs_splits = text_splitter.split_documents(data)\n",
    "# docs_splits[:2]"
   ],
   "metadata": {
    "collapsed": false,
    "ExecuteTime": {
     "end_time": "2024-04-27T12:29:29.477402Z",
     "start_time": "2024-04-27T12:29:28.827058Z"
    }
   },
   "id": "2a88dee98868148f",
   "outputs": [],
   "execution_count": 22
  },
  {
   "cell_type": "markdown",
   "source": [
    "## RAG search, indexing pipeline"
   ],
   "metadata": {
    "collapsed": false
   },
   "id": "eaad0fd23f459d41"
  },
  {
   "cell_type": "code",
   "source": [
    "from langchain_core.output_parsers import StrOutputParser\n",
    "from langchain_core.prompts import ChatPromptTemplate\n",
    "from langchain_core.runnables import RunnablePassthrough\n",
    "from langchain_openai import ChatOpenAI"
   ],
   "metadata": {
    "collapsed": false,
    "ExecuteTime": {
     "end_time": "2024-04-27T12:29:29.479784Z",
     "start_time": "2024-04-27T12:29:29.478156Z"
    }
   },
   "id": "6aac71ef0f6c8ac",
   "outputs": [],
   "execution_count": 23
  },
  {
   "cell_type": "code",
   "source": [
    "from rag.vectorstore.crate import CrateVectorStore\n",
    "\n",
    "vectorstore = CrateVectorStore.from_documents(\n",
    "    # assumes that data was imported already\n",
    "    # allow faster recomputation of notebook, without need of reindexing\n",
    "    # documents=[],\n",
    "    documents=docs_splits,\n",
    "    embedding=embeddings,\n",
    "    database_kwargs={\n",
    "        \"database_uri\": conn_url,\n",
    "    },\n",
    "    # vectorstore_kwargs={\n",
    "    #    \"drop_if_exists\" : True,\n",
    "    # },\n",
    ")\n",
    "vectorstore"
   ],
   "metadata": {
    "collapsed": false,
    "ExecuteTime": {
     "end_time": "2024-04-27T12:36:06.114999Z",
     "start_time": "2024-04-27T12:29:29.480265Z"
    }
   },
   "id": "7ef204c60490189",
   "outputs": [
    {
     "data": {
      "text/plain": [
       "<rag.vectorstore.crate.CrateVectorStore at 0x32d066310>"
      ]
     },
     "execution_count": 24,
     "metadata": {},
     "output_type": "execute_result"
    }
   ],
   "execution_count": 24
  },
  {
   "cell_type": "code",
   "source": [
    "from langchain.retrievers import EnsembleRetriever\n",
    "\n",
    "retriever_a = vectorstore.as_retriever(\n",
    "    search_kwargs={'k': 10, 'fetch_k': 100, \"algorith\": \"knn\"}\n",
    ")\n",
    "\n",
    "retriever_b = vectorstore.as_retriever(\n",
    "    search_kwargs={'k': 10, 'fetch_k': 100, \"algorith\": \"fulltext\"}\n",
    ")\n",
    "\n",
    "retriever_c = EnsembleRetriever(\n",
    "    retrievers=[\n",
    "        retriever_a,\n",
    "        retriever_b\n",
    "    ],\n",
    "    weights=[0.5, 0.5],\n",
    ")"
   ],
   "metadata": {
    "collapsed": false,
    "ExecuteTime": {
     "end_time": "2024-04-27T12:36:06.361226Z",
     "start_time": "2024-04-27T12:36:06.115599Z"
    }
   },
   "id": "9008cfc6727133a9",
   "outputs": [],
   "execution_count": 25
  },
  {
   "cell_type": "code",
   "source": [
    "import json"
   ],
   "metadata": {
    "collapsed": false,
    "ExecuteTime": {
     "end_time": "2024-04-27T12:36:06.368851Z",
     "start_time": "2024-04-27T12:36:06.367203Z"
    }
   },
   "id": "3f36ec393120ea67",
   "outputs": [],
   "execution_count": 26
  },
  {
   "cell_type": "code",
   "source": [
    "template = \"\"\"Answer the question based only on the context, if possible use links to reference the source, use markdown, avoid answering when the context and question are not related.\n",
    "\n",
    "today date is 2024 April 3rd\n",
    "\n",
    "{context}\n",
    "\n",
    "Question: {question}\n",
    "\"\"\"\n",
    "prompt = ChatPromptTemplate.from_template(template)\n",
    "model = ChatOpenAI()\n",
    "\n",
    "\n",
    "def format_docs(docs):\n",
    "    breakpoint()\n",
    "    return json.dumps([{\"text\": d.page_content, \"source\": d.metadata.get('source')} for d in docs])\n",
    "\n",
    "\n",
    "chain_a = (\n",
    "        {\"context\": retriever_a | format_docs,\n",
    "         \"question\": RunnablePassthrough()}\n",
    "        | prompt\n",
    "        | model\n",
    "        | StrOutputParser()\n",
    ")\n",
    "\n",
    "chain_b = (\n",
    "        {\"context\": retriever_b | format_docs,\n",
    "         \"question\": RunnablePassthrough()}\n",
    "        | prompt\n",
    "        | model\n",
    "        | StrOutputParser()\n",
    ")\n",
    "\n",
    "chain_c = (\n",
    "        {\"context\": retriever_c | format_docs,\n",
    "         \"question\": RunnablePassthrough()}\n",
    "        | prompt\n",
    "        | model\n",
    "        | StrOutputParser()\n",
    ")\n",
    "\n",
    "# result = chain.invoke(\"How to limit permissions?\")\n",
    "# result = chain.invoke(\" How AWS marketplace works, and why I cannot see deployment in my account?\")\n",
    "# result = chain.invoke(\"What are edge regions and how to use them?\")\n",
    "result = chain_a.invoke(\"Write me example of using blobs?\")\n",
    "# result = chain.invoke(\"How to use BLOB store in CrateDB? and what are the benefits?\")\n",
    "result\n"
   ],
   "metadata": {
    "collapsed": false,
    "ExecuteTime": {
     "end_time": "2024-04-27T12:36:11.200759Z",
     "start_time": "2024-04-27T12:36:06.369539Z"
    }
   },
   "id": "8e28d490652fe3ff",
   "outputs": [
    {
     "data": {
      "text/plain": [
       "'To use blobs in CrateDB, you first need to create a blob table using the Crate Shell. Here is an example SQL statement:\\n\\n```sh\\ncrash -c \"create blob table myblobs clustered into 3 shards with (number_of_replicas=1)\"\\n```\\n\\nOnce the blob table is created, you can upload a blob by issuing a PUT request. For example:\\n\\n```sh\\ncurl -isSX PUT \\'127.0.0.1:4200/_blobs/myblobs/4a756ca07e9487f482465a99e8286abc86ba4dc7\\' -d \\'contents\\'\\n```\\n\\nYou can also delete a blob using a DELETE request:\\n\\n```sh\\ncurl -isS -XDELETE \\'127.0.0.1:4200/_blobs/myblobs/4a756ca07e9487f482465a99e8286abc86ba4dc7\\'\\n```\\n\\nFor more information on using blobs in CrateDB, you can refer to the [official documentation](https://cratedb.com/docs/crate/reference/en/3.3/general/blobs.html).'"
      ]
     },
     "execution_count": 27,
     "metadata": {},
     "output_type": "execute_result"
    }
   ],
   "execution_count": 27
  },
  {
   "cell_type": "code",
   "source": [
    "from IPython.display import display, Markdown\n",
    "\n",
    "display(Markdown(result))"
   ],
   "metadata": {
    "collapsed": false,
    "ExecuteTime": {
     "end_time": "2024-04-27T12:36:11.204837Z",
     "start_time": "2024-04-27T12:36:11.201885Z"
    }
   },
   "id": "4f13e0a365536776",
   "outputs": [
    {
     "data": {
      "text/plain": [
       "<IPython.core.display.Markdown object>"
      ],
      "text/markdown": "To use blobs in CrateDB, you first need to create a blob table using the Crate Shell. Here is an example SQL statement:\n\n```sh\ncrash -c \"create blob table myblobs clustered into 3 shards with (number_of_replicas=1)\"\n```\n\nOnce the blob table is created, you can upload a blob by issuing a PUT request. For example:\n\n```sh\ncurl -isSX PUT '127.0.0.1:4200/_blobs/myblobs/4a756ca07e9487f482465a99e8286abc86ba4dc7' -d 'contents'\n```\n\nYou can also delete a blob using a DELETE request:\n\n```sh\ncurl -isS -XDELETE '127.0.0.1:4200/_blobs/myblobs/4a756ca07e9487f482465a99e8286abc86ba4dc7'\n```\n\nFor more information on using blobs in CrateDB, you can refer to the [official documentation](https://cratedb.com/docs/crate/reference/en/3.3/general/blobs.html)."
     },
     "metadata": {},
     "output_type": "display_data"
    }
   ],
   "execution_count": 28
  },
  {
   "cell_type": "markdown",
   "source": [
    "## Evaluation"
   ],
   "metadata": {
    "collapsed": false
   },
   "id": "667c56a3edf0d358"
  },
  {
   "cell_type": "code",
   "source": [
    "questions = [\n",
    "    \"Write me example of using blobs?\",\n",
    "    \"How to use BLOB store in CrateDB? and what are the benefits?\",\n",
    "    \"How to limit permissions?\",\n",
    "    \"How AWS marketplace works, and why I cannot see deployment in my account?\",\n",
    "    \"What are edge regions and how to use them?\",\n",
    "    \"What are recent blog posts about CrateDB?\",\n",
    "    \"Write me example python code to use CrateDB?\",\n",
    "    \"Write me example golang code to use CrateDB?\",\n",
    "    \"create RAG search with CrateDB and OpenAI?\",\n",
    "    \"how to alter table and add fulltext index?\",\n",
    "    \"how to alter table and add vector type field that allows for KNN search?\",\n",
    "    \"create table with fields ID, name, vector, and index vector field for KNN search?\",\n",
    "    \"What are limits and limitations of CrateDB?\",\n",
    "    \"What are the benefits of using CrateDB?\",\n",
    "    \"Does index creation block write operations?\",\n",
    "    \"Does crate supports conditional indices\",\n",
    "    \"How to create ID field that is autoincremented?\",\n",
    "    \"how to create analysers for fulltext search?\",\n",
    "    \"give me information about password and admin\",\n",
    "    \"Shared file system implementation of the BlobStoreRepository\",\n",
    "    \"Is Cloud UI opensource?\",\n",
    "    \"How to do fusion search and connect vector search with fulltext search\",\n",
    "    \"How to MATH fulltext \"\n",
    "    \"Benchmarks of CrateDB\",\n",
    "]"
   ],
   "metadata": {
    "collapsed": false,
    "ExecuteTime": {
     "end_time": "2024-04-27T12:36:11.207897Z",
     "start_time": "2024-04-27T12:36:11.205671Z"
    }
   },
   "id": "7d358c7067a4c7a2",
   "outputs": [],
   "execution_count": 29
  },
  {
   "cell_type": "code",
   "source": [
    "from langchain.evaluation import load_evaluator\n",
    "from langchain.evaluation.criteria import Criteria\n",
    "\n",
    "criteria = [\n",
    "    Criteria.COHERENCE,\n",
    "    Criteria.RELEVANCE,\n",
    "    Criteria.DETAIL,\n",
    "    Criteria.HARMFULNESS,\n",
    "    Criteria.HELPFULNESS,\n",
    "]\n",
    "\n",
    "criteria2 = {\n",
    "    \"runnable\": \"Software engineer who is looking for information can copy and paste the code and it should work\",\n",
    "    \"relevance\": \"The answer is relevant to the question\",\n",
    "    \"grounded\": \"The answer links to the source of the information\",\n",
    "    \"coherence\": \"The answer is coherent and makes sense\",\n",
    "    \"detail\": \"The answer is detailed and provides enough information\",\n",
    "    \"helpfulness\": \"The answer is helpful and provides value\",\n",
    "}\n",
    "\n",
    "evaluator = load_evaluator(\"pairwise_string\", criteria=criteria)"
   ],
   "metadata": {
    "collapsed": false,
    "ExecuteTime": {
     "end_time": "2024-04-27T12:36:11.297490Z",
     "start_time": "2024-04-27T12:36:11.208600Z"
    }
   },
   "id": "d9d3b92b61b97ce1",
   "outputs": [],
   "execution_count": 30
  },
  {
   "cell_type": "code",
   "source": [
    "question = \"Write me example of using blobs?\"\n",
    "prediction = chain_a.invoke(question)\n",
    "prediction_b = chain_b.invoke(question)\n",
    "\n",
    "ev = evaluator.evaluate_string_pairs(\n",
    "    prediction=prediction,\n",
    "    prediction_b=prediction_b,\n",
    "    input=question\n",
    ")"
   ],
   "metadata": {
    "collapsed": false,
    "ExecuteTime": {
     "end_time": "2024-04-27T12:40:14.252475Z",
     "start_time": "2024-04-27T12:36:11.298015Z"
    }
   },
   "id": "1d87e5de90ed79ae",
   "outputs": [],
   "execution_count": 31
  },
  {
   "cell_type": "code",
   "source": [
    "ev"
   ],
   "metadata": {
    "collapsed": false,
    "ExecuteTime": {
     "end_time": "2024-04-27T12:40:14.257868Z",
     "start_time": "2024-04-27T12:40:14.254022Z"
    }
   },
   "id": "15909fdeaab75f5c",
   "outputs": [
    {
     "data": {
      "text/plain": [
       "{'reasoning': \"Both assistants provide coherent, relevant, and detailed responses. Neither response is harmful, offensive, or inappropriate. However, Assistant B's response is more helpful and insightful as it not only explains how to create a BLOB table but also how to upload, list, query, and delete BLOBs. Assistant A's response, while accurate, only explains how to create a BLOB table and does not provide any further information on how to use BLOBs. Therefore, Assistant B's response is more comprehensive and useful. \\n\\nFinal verdict: [[B]]\",\n",
       " 'value': 'B',\n",
       " 'score': 0}"
      ]
     },
     "execution_count": 32,
     "metadata": {},
     "output_type": "execute_result"
    }
   ],
   "execution_count": 32
  },
  {
   "cell_type": "code",
   "source": [
    "from random import random\n",
    "\n",
    "def eval(questions, chain_a, chain_b, aname=\"A\", bname=\"B\", cname=None):\n",
    "    evaluation_results = []\n",
    "\n",
    "    for question in questions:\n",
    "        prediction = chain_a.invoke(question)\n",
    "        prediction_b = chain_b.invoke(question)\n",
    "        # prediction_c = chain_c.invoke(question)\n",
    "        \n",
    "        # swap prediction to avoid bias in evaluator\n",
    "\n",
    "        choice = random() > 0.5\n",
    "        if choice:\n",
    "            prediction, prediction_b = prediction_b, prediction\n",
    "\n",
    "        ev = evaluator.evaluate_string_pairs(\n",
    "            prediction=prediction,\n",
    "            prediction_b=prediction_b,\n",
    "            input=question\n",
    "        )\n",
    "        \n",
    "        if choice:\n",
    "            ev = {\n",
    "                \"value\": {aname: bname, bname: aname, cname: cname}[ev[\"value\"]],\n",
    "                \"score\": ev[\"score\"],\n",
    "                \"reasoning\": \"Swapped prediction: {}\".format(ev[\"reasoning\"])\n",
    "            }\n",
    "        \n",
    "        evaluation_results.append({\n",
    "            \"choice\": choice,\n",
    "            \"question\": question,\n",
    "            f\"prediction_{aname}\": prediction if choice else prediction_b,\n",
    "            f\"prediction_{bname}\": prediction_b if choice else prediction,\n",
    "            **ev\n",
    "        })\n",
    "        \n",
    "    return evaluation_results\n"
   ],
   "metadata": {
    "collapsed": false,
    "ExecuteTime": {
     "end_time": "2024-04-27T12:40:14.263451Z",
     "start_time": "2024-04-27T12:40:14.259028Z"
    }
   },
   "id": "ee54b2f37f35e2bd",
   "outputs": [],
   "execution_count": 33
  },
  {
   "cell_type": "code",
   "source": [
    "import pandas as pd\n",
    "evaluation_results_ab_df = pd.DataFrame(eval(questions, chain_a, chain_b))\n",
    "evaluation_results_ab_df"
   ],
   "metadata": {
    "collapsed": false,
    "ExecuteTime": {
     "end_time": "2024-04-27T20:39:18.786743Z",
     "start_time": "2024-04-27T20:34:38.718385Z"
    }
   },
   "id": "a0b18d8d4caee123",
   "outputs": [
    {
     "data": {
      "text/plain": [
       "    choice                                           question  \\\n",
       "0     True                   Write me example of using blobs?   \n",
       "1    False  How to use BLOB store in CrateDB? and what are...   \n",
       "2     True                          How to limit permissions?   \n",
       "3     True  How AWS marketplace works, and why I cannot se...   \n",
       "4     True         What are edge regions and how to use them?   \n",
       "5    False          What are recent blog posts about CrateDB?   \n",
       "6    False       Write me example python code to use CrateDB?   \n",
       "7     True       Write me example golang code to use CrateDB?   \n",
       "8     True         create RAG search with CrateDB and OpenAI?   \n",
       "9     True         how to alter table and add fulltext index?   \n",
       "10   False  how to alter table and add vector type field t...   \n",
       "11    True  create table with fields ID, name, vector, and...   \n",
       "12   False        What are limits and limitations of CrateDB?   \n",
       "13   False            What are the benefits of using CrateDB?   \n",
       "14   False        Does index creation block write operations?   \n",
       "15   False            Does crate supports conditional indices   \n",
       "16    True    How to create ID field that is autoincremented?   \n",
       "17   False       how to create analysers for fulltext search?   \n",
       "18   False       give me information about password and admin   \n",
       "19    True  Shared file system implementation of the BlobS...   \n",
       "20   False                            Is Cloud UI opensource?   \n",
       "21    True  How to do fusion search and connect vector sea...   \n",
       "22    True         How to MATH fulltext Benchmarks of CrateDB   \n",
       "\n",
       "                                         prediction_A  \\\n",
       "0   To use blobs in CrateDB, you first need to cre...   \n",
       "1   To use BLOB storage in CrateDB, you can store ...   \n",
       "2   To limit permissions in CrateDB, it is recomme...   \n",
       "3   To deploy a cluster on CrateDB Cloud via AWS M...   \n",
       "4   Edge regions are components of a deployed Edge...   \n",
       "5   Recent blog posts about CrateDB include:\\n\\n1....   \n",
       "6   To write example python code to use CrateDB, y...   \n",
       "7   To connect to CrateDB using Go, you can utiliz...   \n",
       "8   To create a RAG search with CrateDB and OpenAI...   \n",
       "9   To alter a table and add a fulltext index, you...   \n",
       "10  To alter a table and add a vector type field t...   \n",
       "11  To create a table with fields ID, name, vector...   \n",
       "12  The limitations of CrateDB include the fact th...   \n",
       "13  The benefits of using CrateDB include high per...   \n",
       "14  Yes, index creation can block write operations...   \n",
       "15  Based on the context provided, there is no spe...   \n",
       "16  Based on the provided context and sources, it ...   \n",
       "17  To create analyzers for fulltext search in Cra...   \n",
       "18  The password authentication method in CrateDB ...   \n",
       "19  The shared file system implementation of the B...   \n",
       "20  Based on the provided context and sources, the...   \n",
       "21  To perform fusion search and connect vector se...   \n",
       "22  To get more information on how to benchmark Cr...   \n",
       "\n",
       "                                         prediction_B value  score  \\\n",
       "0   To use blobs in Crate, you first need to creat...     B    1.0   \n",
       "1   To use BLOB storage in CrateDB, you can store ...     A    1.0   \n",
       "2   To limit permissions in CrateDB, it is recomme...     A    0.0   \n",
       "3   To deploy a cluster on CrateDB Cloud via AWS M...     A    0.0   \n",
       "4   Edge regions are components that need to be up...     A    0.0   \n",
       "5   The recent blog posts about CrateDB include:\\n...     A    1.0   \n",
       "6   To use CrateDB with Python, you can refer to t...     B    0.0   \n",
       "7   To use CrateDB with Go, you can utilize the `p...  None    0.5   \n",
       "8   To create a RAG (Retrieval Augmented Generatio...     B    1.0   \n",
       "9   To alter a table and add a fulltext index, you...     A    0.0   \n",
       "10  To alter a table and add a vector type field t...  None    0.5   \n",
       "11  To create a table with fields ID, name, vector...     B    1.0   \n",
       "12  The limitations of CrateDB include the lack of...     B    0.0   \n",
       "13  The benefits of using CrateDB include high per...     B    0.0   \n",
       "14  Based on the context provided, if the `write.w...     B    0.0   \n",
       "15  Based on the provided context, there is no spe...  None    0.5   \n",
       "16  The provided context does not mention anything...     B    1.0   \n",
       "17  To create analyzers for fulltext search, you c...     B    0.0   \n",
       "18  Based on the provided context, password authen...     A    1.0   \n",
       "19  Based on the context provided, it seems the qu...     B    1.0   \n",
       "20  Based on the provided context, the Cloud UI me...     A    1.0   \n",
       "21  To perform fusion search and connect vector se...  None    0.5   \n",
       "22  To benchmark the full-text search capabilities...     A    0.0   \n",
       "\n",
       "                                            reasoning  \n",
       "0   Swapped prediction: Both Assistant A and Assis...  \n",
       "1   Both Assistant A and Assistant B provided cohe...  \n",
       "2   Swapped prediction: Both assistants provide re...  \n",
       "3   Swapped prediction: Both assistants provide co...  \n",
       "4   Swapped prediction: Both assistants provide co...  \n",
       "5   Both Assistant A and Assistant B provided cohe...  \n",
       "6   Both Assistant A and Assistant B provided rele...  \n",
       "7   Swapped prediction: Both Assistant A and Assis...  \n",
       "8   Swapped prediction: Both Assistant A and Assis...  \n",
       "9   Swapped prediction: Both assistants provide co...  \n",
       "10  Both Assistant A and Assistant B provided cohe...  \n",
       "11  Swapped prediction: Both Assistant A and Assis...  \n",
       "12  Both assistants provide coherent, relevant, an...  \n",
       "13  Both Assistant A and Assistant B provided comp...  \n",
       "14  Both Assistant A and Assistant B provided cohe...  \n",
       "15  Both Assistant A and Assistant B provided simi...  \n",
       "16  Swapped prediction: Assistant A provides a det...  \n",
       "17  Both assistants provide coherent, relevant, an...  \n",
       "18  Both Assistant A and Assistant B provide coher...  \n",
       "19  Swapped prediction: Assistant A provides a det...  \n",
       "20  Both Assistant A and Assistant B provided cohe...  \n",
       "21  Swapped prediction: Both Assistant A and Assis...  \n",
       "22  Swapped prediction: Both assistants provide re...  "
      ],
      "text/html": [
       "<div>\n",
       "<style scoped>\n",
       "    .dataframe tbody tr th:only-of-type {\n",
       "        vertical-align: middle;\n",
       "    }\n",
       "\n",
       "    .dataframe tbody tr th {\n",
       "        vertical-align: top;\n",
       "    }\n",
       "\n",
       "    .dataframe thead th {\n",
       "        text-align: right;\n",
       "    }\n",
       "</style>\n",
       "<table border=\"1\" class=\"dataframe\">\n",
       "  <thead>\n",
       "    <tr style=\"text-align: right;\">\n",
       "      <th></th>\n",
       "      <th>choice</th>\n",
       "      <th>question</th>\n",
       "      <th>prediction_A</th>\n",
       "      <th>prediction_B</th>\n",
       "      <th>value</th>\n",
       "      <th>score</th>\n",
       "      <th>reasoning</th>\n",
       "    </tr>\n",
       "  </thead>\n",
       "  <tbody>\n",
       "    <tr>\n",
       "      <th>0</th>\n",
       "      <td>True</td>\n",
       "      <td>Write me example of using blobs?</td>\n",
       "      <td>To use blobs in CrateDB, you first need to cre...</td>\n",
       "      <td>To use blobs in Crate, you first need to creat...</td>\n",
       "      <td>B</td>\n",
       "      <td>1.0</td>\n",
       "      <td>Swapped prediction: Both Assistant A and Assis...</td>\n",
       "    </tr>\n",
       "    <tr>\n",
       "      <th>1</th>\n",
       "      <td>False</td>\n",
       "      <td>How to use BLOB store in CrateDB? and what are...</td>\n",
       "      <td>To use BLOB storage in CrateDB, you can store ...</td>\n",
       "      <td>To use BLOB storage in CrateDB, you can store ...</td>\n",
       "      <td>A</td>\n",
       "      <td>1.0</td>\n",
       "      <td>Both Assistant A and Assistant B provided cohe...</td>\n",
       "    </tr>\n",
       "    <tr>\n",
       "      <th>2</th>\n",
       "      <td>True</td>\n",
       "      <td>How to limit permissions?</td>\n",
       "      <td>To limit permissions in CrateDB, it is recomme...</td>\n",
       "      <td>To limit permissions in CrateDB, it is recomme...</td>\n",
       "      <td>A</td>\n",
       "      <td>0.0</td>\n",
       "      <td>Swapped prediction: Both assistants provide re...</td>\n",
       "    </tr>\n",
       "    <tr>\n",
       "      <th>3</th>\n",
       "      <td>True</td>\n",
       "      <td>How AWS marketplace works, and why I cannot se...</td>\n",
       "      <td>To deploy a cluster on CrateDB Cloud via AWS M...</td>\n",
       "      <td>To deploy a cluster on CrateDB Cloud via AWS M...</td>\n",
       "      <td>A</td>\n",
       "      <td>0.0</td>\n",
       "      <td>Swapped prediction: Both assistants provide co...</td>\n",
       "    </tr>\n",
       "    <tr>\n",
       "      <th>4</th>\n",
       "      <td>True</td>\n",
       "      <td>What are edge regions and how to use them?</td>\n",
       "      <td>Edge regions are components of a deployed Edge...</td>\n",
       "      <td>Edge regions are components that need to be up...</td>\n",
       "      <td>A</td>\n",
       "      <td>0.0</td>\n",
       "      <td>Swapped prediction: Both assistants provide co...</td>\n",
       "    </tr>\n",
       "    <tr>\n",
       "      <th>5</th>\n",
       "      <td>False</td>\n",
       "      <td>What are recent blog posts about CrateDB?</td>\n",
       "      <td>Recent blog posts about CrateDB include:\\n\\n1....</td>\n",
       "      <td>The recent blog posts about CrateDB include:\\n...</td>\n",
       "      <td>A</td>\n",
       "      <td>1.0</td>\n",
       "      <td>Both Assistant A and Assistant B provided cohe...</td>\n",
       "    </tr>\n",
       "    <tr>\n",
       "      <th>6</th>\n",
       "      <td>False</td>\n",
       "      <td>Write me example python code to use CrateDB?</td>\n",
       "      <td>To write example python code to use CrateDB, y...</td>\n",
       "      <td>To use CrateDB with Python, you can refer to t...</td>\n",
       "      <td>B</td>\n",
       "      <td>0.0</td>\n",
       "      <td>Both Assistant A and Assistant B provided rele...</td>\n",
       "    </tr>\n",
       "    <tr>\n",
       "      <th>7</th>\n",
       "      <td>True</td>\n",
       "      <td>Write me example golang code to use CrateDB?</td>\n",
       "      <td>To connect to CrateDB using Go, you can utiliz...</td>\n",
       "      <td>To use CrateDB with Go, you can utilize the `p...</td>\n",
       "      <td>None</td>\n",
       "      <td>0.5</td>\n",
       "      <td>Swapped prediction: Both Assistant A and Assis...</td>\n",
       "    </tr>\n",
       "    <tr>\n",
       "      <th>8</th>\n",
       "      <td>True</td>\n",
       "      <td>create RAG search with CrateDB and OpenAI?</td>\n",
       "      <td>To create a RAG search with CrateDB and OpenAI...</td>\n",
       "      <td>To create a RAG (Retrieval Augmented Generatio...</td>\n",
       "      <td>B</td>\n",
       "      <td>1.0</td>\n",
       "      <td>Swapped prediction: Both Assistant A and Assis...</td>\n",
       "    </tr>\n",
       "    <tr>\n",
       "      <th>9</th>\n",
       "      <td>True</td>\n",
       "      <td>how to alter table and add fulltext index?</td>\n",
       "      <td>To alter a table and add a fulltext index, you...</td>\n",
       "      <td>To alter a table and add a fulltext index, you...</td>\n",
       "      <td>A</td>\n",
       "      <td>0.0</td>\n",
       "      <td>Swapped prediction: Both assistants provide co...</td>\n",
       "    </tr>\n",
       "    <tr>\n",
       "      <th>10</th>\n",
       "      <td>False</td>\n",
       "      <td>how to alter table and add vector type field t...</td>\n",
       "      <td>To alter a table and add a vector type field t...</td>\n",
       "      <td>To alter a table and add a vector type field t...</td>\n",
       "      <td>None</td>\n",
       "      <td>0.5</td>\n",
       "      <td>Both Assistant A and Assistant B provided cohe...</td>\n",
       "    </tr>\n",
       "    <tr>\n",
       "      <th>11</th>\n",
       "      <td>True</td>\n",
       "      <td>create table with fields ID, name, vector, and...</td>\n",
       "      <td>To create a table with fields ID, name, vector...</td>\n",
       "      <td>To create a table with fields ID, name, vector...</td>\n",
       "      <td>B</td>\n",
       "      <td>1.0</td>\n",
       "      <td>Swapped prediction: Both Assistant A and Assis...</td>\n",
       "    </tr>\n",
       "    <tr>\n",
       "      <th>12</th>\n",
       "      <td>False</td>\n",
       "      <td>What are limits and limitations of CrateDB?</td>\n",
       "      <td>The limitations of CrateDB include the fact th...</td>\n",
       "      <td>The limitations of CrateDB include the lack of...</td>\n",
       "      <td>B</td>\n",
       "      <td>0.0</td>\n",
       "      <td>Both assistants provide coherent, relevant, an...</td>\n",
       "    </tr>\n",
       "    <tr>\n",
       "      <th>13</th>\n",
       "      <td>False</td>\n",
       "      <td>What are the benefits of using CrateDB?</td>\n",
       "      <td>The benefits of using CrateDB include high per...</td>\n",
       "      <td>The benefits of using CrateDB include high per...</td>\n",
       "      <td>B</td>\n",
       "      <td>0.0</td>\n",
       "      <td>Both Assistant A and Assistant B provided comp...</td>\n",
       "    </tr>\n",
       "    <tr>\n",
       "      <th>14</th>\n",
       "      <td>False</td>\n",
       "      <td>Does index creation block write operations?</td>\n",
       "      <td>Yes, index creation can block write operations...</td>\n",
       "      <td>Based on the context provided, if the `write.w...</td>\n",
       "      <td>B</td>\n",
       "      <td>0.0</td>\n",
       "      <td>Both Assistant A and Assistant B provided cohe...</td>\n",
       "    </tr>\n",
       "    <tr>\n",
       "      <th>15</th>\n",
       "      <td>False</td>\n",
       "      <td>Does crate supports conditional indices</td>\n",
       "      <td>Based on the context provided, there is no spe...</td>\n",
       "      <td>Based on the provided context, there is no spe...</td>\n",
       "      <td>None</td>\n",
       "      <td>0.5</td>\n",
       "      <td>Both Assistant A and Assistant B provided simi...</td>\n",
       "    </tr>\n",
       "    <tr>\n",
       "      <th>16</th>\n",
       "      <td>True</td>\n",
       "      <td>How to create ID field that is autoincremented?</td>\n",
       "      <td>Based on the provided context and sources, it ...</td>\n",
       "      <td>The provided context does not mention anything...</td>\n",
       "      <td>B</td>\n",
       "      <td>1.0</td>\n",
       "      <td>Swapped prediction: Assistant A provides a det...</td>\n",
       "    </tr>\n",
       "    <tr>\n",
       "      <th>17</th>\n",
       "      <td>False</td>\n",
       "      <td>how to create analysers for fulltext search?</td>\n",
       "      <td>To create analyzers for fulltext search in Cra...</td>\n",
       "      <td>To create analyzers for fulltext search, you c...</td>\n",
       "      <td>B</td>\n",
       "      <td>0.0</td>\n",
       "      <td>Both assistants provide coherent, relevant, an...</td>\n",
       "    </tr>\n",
       "    <tr>\n",
       "      <th>18</th>\n",
       "      <td>False</td>\n",
       "      <td>give me information about password and admin</td>\n",
       "      <td>The password authentication method in CrateDB ...</td>\n",
       "      <td>Based on the provided context, password authen...</td>\n",
       "      <td>A</td>\n",
       "      <td>1.0</td>\n",
       "      <td>Both Assistant A and Assistant B provide coher...</td>\n",
       "    </tr>\n",
       "    <tr>\n",
       "      <th>19</th>\n",
       "      <td>True</td>\n",
       "      <td>Shared file system implementation of the BlobS...</td>\n",
       "      <td>The shared file system implementation of the B...</td>\n",
       "      <td>Based on the context provided, it seems the qu...</td>\n",
       "      <td>B</td>\n",
       "      <td>1.0</td>\n",
       "      <td>Swapped prediction: Assistant A provides a det...</td>\n",
       "    </tr>\n",
       "    <tr>\n",
       "      <th>20</th>\n",
       "      <td>False</td>\n",
       "      <td>Is Cloud UI opensource?</td>\n",
       "      <td>Based on the provided context and sources, the...</td>\n",
       "      <td>Based on the provided context, the Cloud UI me...</td>\n",
       "      <td>A</td>\n",
       "      <td>1.0</td>\n",
       "      <td>Both Assistant A and Assistant B provided cohe...</td>\n",
       "    </tr>\n",
       "    <tr>\n",
       "      <th>21</th>\n",
       "      <td>True</td>\n",
       "      <td>How to do fusion search and connect vector sea...</td>\n",
       "      <td>To perform fusion search and connect vector se...</td>\n",
       "      <td>To perform fusion search and connect vector se...</td>\n",
       "      <td>None</td>\n",
       "      <td>0.5</td>\n",
       "      <td>Swapped prediction: Both Assistant A and Assis...</td>\n",
       "    </tr>\n",
       "    <tr>\n",
       "      <th>22</th>\n",
       "      <td>True</td>\n",
       "      <td>How to MATH fulltext Benchmarks of CrateDB</td>\n",
       "      <td>To get more information on how to benchmark Cr...</td>\n",
       "      <td>To benchmark the full-text search capabilities...</td>\n",
       "      <td>A</td>\n",
       "      <td>0.0</td>\n",
       "      <td>Swapped prediction: Both assistants provide re...</td>\n",
       "    </tr>\n",
       "  </tbody>\n",
       "</table>\n",
       "</div>"
      ]
     },
     "execution_count": 35,
     "metadata": {},
     "output_type": "execute_result"
    }
   ],
   "execution_count": 35
  },
  {
   "cell_type": "code",
   "source": [
    "evaluation_results_ac_df = pd.DataFrame(eval(questions, chain_a, chain_c))\n",
    "evaluation_results_ac_df"
   ],
   "metadata": {
    "collapsed": false,
    "ExecuteTime": {
     "end_time": "2024-04-27T20:43:54.584040Z",
     "start_time": "2024-04-27T20:39:18.787782Z"
    }
   },
   "id": "9aaf108ff4d63d71",
   "outputs": [
    {
     "data": {
      "text/plain": [
       "    choice                                           question  \\\n",
       "0    False                   Write me example of using blobs?   \n",
       "1    False  How to use BLOB store in CrateDB? and what are...   \n",
       "2     True                          How to limit permissions?   \n",
       "3     True  How AWS marketplace works, and why I cannot se...   \n",
       "4    False         What are edge regions and how to use them?   \n",
       "5    False          What are recent blog posts about CrateDB?   \n",
       "6    False       Write me example python code to use CrateDB?   \n",
       "7     True       Write me example golang code to use CrateDB?   \n",
       "8     True         create RAG search with CrateDB and OpenAI?   \n",
       "9     True         how to alter table and add fulltext index?   \n",
       "10    True  how to alter table and add vector type field t...   \n",
       "11    True  create table with fields ID, name, vector, and...   \n",
       "12    True        What are limits and limitations of CrateDB?   \n",
       "13    True            What are the benefits of using CrateDB?   \n",
       "14    True        Does index creation block write operations?   \n",
       "15    True            Does crate supports conditional indices   \n",
       "16    True    How to create ID field that is autoincremented?   \n",
       "17    True       how to create analysers for fulltext search?   \n",
       "18   False       give me information about password and admin   \n",
       "19   False  Shared file system implementation of the BlobS...   \n",
       "20   False                            Is Cloud UI opensource?   \n",
       "21   False  How to do fusion search and connect vector sea...   \n",
       "22    True         How to MATH fulltext Benchmarks of CrateDB   \n",
       "\n",
       "                                         prediction_A  \\\n",
       "0   To use blobs in Crate, you can create a blob t...   \n",
       "1   To use BLOB store in CrateDB, you can store bi...   \n",
       "2   To limit permissions in CrateDB, users need to...   \n",
       "3   To subscribe to CrateDB Cloud's offering on AW...   \n",
       "4   Edge regions are custom regions created within...   \n",
       "5   Recent blog posts about CrateDB include:\\n1. [...   \n",
       "6   To use CrateDB with Python, you can refer to t...   \n",
       "7   To use CrateDB with Golang, you can refer to t...   \n",
       "8   To create a RAG search with CrateDB and OpenAI...   \n",
       "9   To alter a table and add a fulltext index, you...   \n",
       "10  To alter a table and add a vector type field t...   \n",
       "11  To create a table with fields ID, name, vector...   \n",
       "12  The limitations of CrateDB's single-node CRFEE...   \n",
       "13  Some benefits of using CrateDB include high pe...   \n",
       "14  Yes, index creation can block write operations...   \n",
       "15  Based on the provided context, CrateDB automat...   \n",
       "16  Based on the provided context, it seems that i...   \n",
       "17  To create analyzers for fulltext search in Cra...   \n",
       "18  Based on the provided context, password authen...   \n",
       "19  The shared file system implementation of the B...   \n",
       "20  Based on the provided context, it is not expli...   \n",
       "21  To do fusion search and connect vector search ...   \n",
       "22  The post discusses benchmarking performance be...   \n",
       "\n",
       "                                         prediction_B  \\\n",
       "0   To use blobs in CrateDB, first, a blob table m...   \n",
       "1   To use BLOB storage in CrateDB, you can store ...   \n",
       "2   To limit permissions in CrateDB, it is recomme...   \n",
       "3   To deploy a cluster on CrateDB Cloud through A...   \n",
       "4   Edge regions are components of a deployed Edge...   \n",
       "5   Recent blog posts about CrateDB include:\\n1. [...   \n",
       "6   To write example python code to use CrateDB, y...   \n",
       "7   To use CrateDB with Go, you can utilize the pg...   \n",
       "8   To create a RAG (Retrieval Augmented Generatio...   \n",
       "9   To alter a table and add a fulltext index in C...   \n",
       "10  To alter a table and add a vector type field t...   \n",
       "11  To create a table with fields ID, name, vector...   \n",
       "12  The limitations of CrateDB include the fact th...   \n",
       "13  The benefits of using CrateDB include high per...   \n",
       "14  Based on the provided context, the setting `wr...   \n",
       "15  Based on the provided context, CrateDB automat...   \n",
       "16  Based on the provided context, it seems that i...   \n",
       "17  To create analyzers for fulltext search in Cra...   \n",
       "18  Based on the provided context, password authen...   \n",
       "19  The BlobStoreRepository can define a custom di...   \n",
       "20  Based on the context provided, the Cloud UI me...   \n",
       "21  To do fusion search and connect vector search ...   \n",
       "22  To benchmark the full-text search capabilities...   \n",
       "\n",
       "                                            reasoning value  score  \n",
       "0   Both Assistant A and Assistant B provided cohe...     B    0.0  \n",
       "1   Both Assistant A and Assistant B provided cohe...     A    1.0  \n",
       "2   Swapped prediction: Both Assistant A and Assis...     B    1.0  \n",
       "3   Swapped prediction: Both Assistant A and Assis...     B    1.0  \n",
       "4   Both Assistant A and Assistant B provide coher...     B    0.0  \n",
       "5   Both Assistant A and Assistant B provided cohe...     B    0.0  \n",
       "6   Both assistants provided relevant and helpful ...     B    0.0  \n",
       "7   Swapped prediction: Both Assistant A and Assis...  None    0.5  \n",
       "8   Swapped prediction: Both assistants provide re...     B    1.0  \n",
       "9   Swapped prediction: Both assistants provide re...     B    1.0  \n",
       "10  Swapped prediction: Both Assistant A and Assis...     B    1.0  \n",
       "11  Swapped prediction: Both Assistant A and Assis...     A    0.0  \n",
       "12  Swapped prediction: Both Assistant A and Assis...  None    0.5  \n",
       "13  Swapped prediction: Both Assistant A and Assis...     B    1.0  \n",
       "14  Swapped prediction: Both Assistant A and Assis...     A    0.0  \n",
       "15  Swapped prediction: Both assistants provide re...     B    1.0  \n",
       "16  Swapped prediction: Both assistants provide co...     B    1.0  \n",
       "17  Swapped prediction: Both Assistant A and Assis...     B    1.0  \n",
       "18  Both Assistant A and Assistant B provided cohe...     A    1.0  \n",
       "19  Both Assistant A and Assistant B provided cohe...     A    1.0  \n",
       "20  Both Assistant A and Assistant B provided cohe...     B    0.0  \n",
       "21  Both Assistant A and Assistant B provided cohe...  None    0.5  \n",
       "22  Swapped prediction: Assistant B's response is ...     A    0.0  "
      ],
      "text/html": [
       "<div>\n",
       "<style scoped>\n",
       "    .dataframe tbody tr th:only-of-type {\n",
       "        vertical-align: middle;\n",
       "    }\n",
       "\n",
       "    .dataframe tbody tr th {\n",
       "        vertical-align: top;\n",
       "    }\n",
       "\n",
       "    .dataframe thead th {\n",
       "        text-align: right;\n",
       "    }\n",
       "</style>\n",
       "<table border=\"1\" class=\"dataframe\">\n",
       "  <thead>\n",
       "    <tr style=\"text-align: right;\">\n",
       "      <th></th>\n",
       "      <th>choice</th>\n",
       "      <th>question</th>\n",
       "      <th>prediction_A</th>\n",
       "      <th>prediction_B</th>\n",
       "      <th>reasoning</th>\n",
       "      <th>value</th>\n",
       "      <th>score</th>\n",
       "    </tr>\n",
       "  </thead>\n",
       "  <tbody>\n",
       "    <tr>\n",
       "      <th>0</th>\n",
       "      <td>False</td>\n",
       "      <td>Write me example of using blobs?</td>\n",
       "      <td>To use blobs in Crate, you can create a blob t...</td>\n",
       "      <td>To use blobs in CrateDB, first, a blob table m...</td>\n",
       "      <td>Both Assistant A and Assistant B provided cohe...</td>\n",
       "      <td>B</td>\n",
       "      <td>0.0</td>\n",
       "    </tr>\n",
       "    <tr>\n",
       "      <th>1</th>\n",
       "      <td>False</td>\n",
       "      <td>How to use BLOB store in CrateDB? and what are...</td>\n",
       "      <td>To use BLOB store in CrateDB, you can store bi...</td>\n",
       "      <td>To use BLOB storage in CrateDB, you can store ...</td>\n",
       "      <td>Both Assistant A and Assistant B provided cohe...</td>\n",
       "      <td>A</td>\n",
       "      <td>1.0</td>\n",
       "    </tr>\n",
       "    <tr>\n",
       "      <th>2</th>\n",
       "      <td>True</td>\n",
       "      <td>How to limit permissions?</td>\n",
       "      <td>To limit permissions in CrateDB, users need to...</td>\n",
       "      <td>To limit permissions in CrateDB, it is recomme...</td>\n",
       "      <td>Swapped prediction: Both Assistant A and Assis...</td>\n",
       "      <td>B</td>\n",
       "      <td>1.0</td>\n",
       "    </tr>\n",
       "    <tr>\n",
       "      <th>3</th>\n",
       "      <td>True</td>\n",
       "      <td>How AWS marketplace works, and why I cannot se...</td>\n",
       "      <td>To subscribe to CrateDB Cloud's offering on AW...</td>\n",
       "      <td>To deploy a cluster on CrateDB Cloud through A...</td>\n",
       "      <td>Swapped prediction: Both Assistant A and Assis...</td>\n",
       "      <td>B</td>\n",
       "      <td>1.0</td>\n",
       "    </tr>\n",
       "    <tr>\n",
       "      <th>4</th>\n",
       "      <td>False</td>\n",
       "      <td>What are edge regions and how to use them?</td>\n",
       "      <td>Edge regions are custom regions created within...</td>\n",
       "      <td>Edge regions are components of a deployed Edge...</td>\n",
       "      <td>Both Assistant A and Assistant B provide coher...</td>\n",
       "      <td>B</td>\n",
       "      <td>0.0</td>\n",
       "    </tr>\n",
       "    <tr>\n",
       "      <th>5</th>\n",
       "      <td>False</td>\n",
       "      <td>What are recent blog posts about CrateDB?</td>\n",
       "      <td>Recent blog posts about CrateDB include:\\n1. [...</td>\n",
       "      <td>Recent blog posts about CrateDB include:\\n1. [...</td>\n",
       "      <td>Both Assistant A and Assistant B provided cohe...</td>\n",
       "      <td>B</td>\n",
       "      <td>0.0</td>\n",
       "    </tr>\n",
       "    <tr>\n",
       "      <th>6</th>\n",
       "      <td>False</td>\n",
       "      <td>Write me example python code to use CrateDB?</td>\n",
       "      <td>To use CrateDB with Python, you can refer to t...</td>\n",
       "      <td>To write example python code to use CrateDB, y...</td>\n",
       "      <td>Both assistants provided relevant and helpful ...</td>\n",
       "      <td>B</td>\n",
       "      <td>0.0</td>\n",
       "    </tr>\n",
       "    <tr>\n",
       "      <th>7</th>\n",
       "      <td>True</td>\n",
       "      <td>Write me example golang code to use CrateDB?</td>\n",
       "      <td>To use CrateDB with Golang, you can refer to t...</td>\n",
       "      <td>To use CrateDB with Go, you can utilize the pg...</td>\n",
       "      <td>Swapped prediction: Both Assistant A and Assis...</td>\n",
       "      <td>None</td>\n",
       "      <td>0.5</td>\n",
       "    </tr>\n",
       "    <tr>\n",
       "      <th>8</th>\n",
       "      <td>True</td>\n",
       "      <td>create RAG search with CrateDB and OpenAI?</td>\n",
       "      <td>To create a RAG search with CrateDB and OpenAI...</td>\n",
       "      <td>To create a RAG (Retrieval Augmented Generatio...</td>\n",
       "      <td>Swapped prediction: Both assistants provide re...</td>\n",
       "      <td>B</td>\n",
       "      <td>1.0</td>\n",
       "    </tr>\n",
       "    <tr>\n",
       "      <th>9</th>\n",
       "      <td>True</td>\n",
       "      <td>how to alter table and add fulltext index?</td>\n",
       "      <td>To alter a table and add a fulltext index, you...</td>\n",
       "      <td>To alter a table and add a fulltext index in C...</td>\n",
       "      <td>Swapped prediction: Both assistants provide re...</td>\n",
       "      <td>B</td>\n",
       "      <td>1.0</td>\n",
       "    </tr>\n",
       "    <tr>\n",
       "      <th>10</th>\n",
       "      <td>True</td>\n",
       "      <td>how to alter table and add vector type field t...</td>\n",
       "      <td>To alter a table and add a vector type field t...</td>\n",
       "      <td>To alter a table and add a vector type field t...</td>\n",
       "      <td>Swapped prediction: Both Assistant A and Assis...</td>\n",
       "      <td>B</td>\n",
       "      <td>1.0</td>\n",
       "    </tr>\n",
       "    <tr>\n",
       "      <th>11</th>\n",
       "      <td>True</td>\n",
       "      <td>create table with fields ID, name, vector, and...</td>\n",
       "      <td>To create a table with fields ID, name, vector...</td>\n",
       "      <td>To create a table with fields ID, name, vector...</td>\n",
       "      <td>Swapped prediction: Both Assistant A and Assis...</td>\n",
       "      <td>A</td>\n",
       "      <td>0.0</td>\n",
       "    </tr>\n",
       "    <tr>\n",
       "      <th>12</th>\n",
       "      <td>True</td>\n",
       "      <td>What are limits and limitations of CrateDB?</td>\n",
       "      <td>The limitations of CrateDB's single-node CRFEE...</td>\n",
       "      <td>The limitations of CrateDB include the fact th...</td>\n",
       "      <td>Swapped prediction: Both Assistant A and Assis...</td>\n",
       "      <td>None</td>\n",
       "      <td>0.5</td>\n",
       "    </tr>\n",
       "    <tr>\n",
       "      <th>13</th>\n",
       "      <td>True</td>\n",
       "      <td>What are the benefits of using CrateDB?</td>\n",
       "      <td>Some benefits of using CrateDB include high pe...</td>\n",
       "      <td>The benefits of using CrateDB include high per...</td>\n",
       "      <td>Swapped prediction: Both Assistant A and Assis...</td>\n",
       "      <td>B</td>\n",
       "      <td>1.0</td>\n",
       "    </tr>\n",
       "    <tr>\n",
       "      <th>14</th>\n",
       "      <td>True</td>\n",
       "      <td>Does index creation block write operations?</td>\n",
       "      <td>Yes, index creation can block write operations...</td>\n",
       "      <td>Based on the provided context, the setting `wr...</td>\n",
       "      <td>Swapped prediction: Both Assistant A and Assis...</td>\n",
       "      <td>A</td>\n",
       "      <td>0.0</td>\n",
       "    </tr>\n",
       "    <tr>\n",
       "      <th>15</th>\n",
       "      <td>True</td>\n",
       "      <td>Does crate supports conditional indices</td>\n",
       "      <td>Based on the provided context, CrateDB automat...</td>\n",
       "      <td>Based on the provided context, CrateDB automat...</td>\n",
       "      <td>Swapped prediction: Both assistants provide re...</td>\n",
       "      <td>B</td>\n",
       "      <td>1.0</td>\n",
       "    </tr>\n",
       "    <tr>\n",
       "      <th>16</th>\n",
       "      <td>True</td>\n",
       "      <td>How to create ID field that is autoincremented?</td>\n",
       "      <td>Based on the provided context, it seems that i...</td>\n",
       "      <td>Based on the provided context, it seems that i...</td>\n",
       "      <td>Swapped prediction: Both assistants provide co...</td>\n",
       "      <td>B</td>\n",
       "      <td>1.0</td>\n",
       "    </tr>\n",
       "    <tr>\n",
       "      <th>17</th>\n",
       "      <td>True</td>\n",
       "      <td>how to create analysers for fulltext search?</td>\n",
       "      <td>To create analyzers for fulltext search in Cra...</td>\n",
       "      <td>To create analyzers for fulltext search in Cra...</td>\n",
       "      <td>Swapped prediction: Both Assistant A and Assis...</td>\n",
       "      <td>B</td>\n",
       "      <td>1.0</td>\n",
       "    </tr>\n",
       "    <tr>\n",
       "      <th>18</th>\n",
       "      <td>False</td>\n",
       "      <td>give me information about password and admin</td>\n",
       "      <td>Based on the provided context, password authen...</td>\n",
       "      <td>Based on the provided context, password authen...</td>\n",
       "      <td>Both Assistant A and Assistant B provided cohe...</td>\n",
       "      <td>A</td>\n",
       "      <td>1.0</td>\n",
       "    </tr>\n",
       "    <tr>\n",
       "      <th>19</th>\n",
       "      <td>False</td>\n",
       "      <td>Shared file system implementation of the BlobS...</td>\n",
       "      <td>The shared file system implementation of the B...</td>\n",
       "      <td>The BlobStoreRepository can define a custom di...</td>\n",
       "      <td>Both Assistant A and Assistant B provided cohe...</td>\n",
       "      <td>A</td>\n",
       "      <td>1.0</td>\n",
       "    </tr>\n",
       "    <tr>\n",
       "      <th>20</th>\n",
       "      <td>False</td>\n",
       "      <td>Is Cloud UI opensource?</td>\n",
       "      <td>Based on the provided context, it is not expli...</td>\n",
       "      <td>Based on the context provided, the Cloud UI me...</td>\n",
       "      <td>Both Assistant A and Assistant B provided cohe...</td>\n",
       "      <td>B</td>\n",
       "      <td>0.0</td>\n",
       "    </tr>\n",
       "    <tr>\n",
       "      <th>21</th>\n",
       "      <td>False</td>\n",
       "      <td>How to do fusion search and connect vector sea...</td>\n",
       "      <td>To do fusion search and connect vector search ...</td>\n",
       "      <td>To do fusion search and connect vector search ...</td>\n",
       "      <td>Both Assistant A and Assistant B provided cohe...</td>\n",
       "      <td>None</td>\n",
       "      <td>0.5</td>\n",
       "    </tr>\n",
       "    <tr>\n",
       "      <th>22</th>\n",
       "      <td>True</td>\n",
       "      <td>How to MATH fulltext Benchmarks of CrateDB</td>\n",
       "      <td>The post discusses benchmarking performance be...</td>\n",
       "      <td>To benchmark the full-text search capabilities...</td>\n",
       "      <td>Swapped prediction: Assistant B's response is ...</td>\n",
       "      <td>A</td>\n",
       "      <td>0.0</td>\n",
       "    </tr>\n",
       "  </tbody>\n",
       "</table>\n",
       "</div>"
      ]
     },
     "execution_count": 36,
     "metadata": {},
     "output_type": "execute_result"
    }
   ],
   "execution_count": 36
  },
  {
   "cell_type": "code",
   "source": [
    "evaluation_results_bc_df = pd.DataFrame(eval(questions, chain_b, chain_c))\n",
    "evaluation_results_bc_df"
   ],
   "metadata": {
    "collapsed": false,
    "ExecuteTime": {
     "end_time": "2024-04-27T20:48:31.529429Z",
     "start_time": "2024-04-27T20:43:54.585020Z"
    }
   },
   "id": "5ec3d661513e4aaf",
   "outputs": [
    {
     "data": {
      "text/plain": [
       "    choice                                           question  \\\n",
       "0    False                   Write me example of using blobs?   \n",
       "1     True  How to use BLOB store in CrateDB? and what are...   \n",
       "2    False                          How to limit permissions?   \n",
       "3    False  How AWS marketplace works, and why I cannot se...   \n",
       "4     True         What are edge regions and how to use them?   \n",
       "5    False          What are recent blog posts about CrateDB?   \n",
       "6     True       Write me example python code to use CrateDB?   \n",
       "7    False       Write me example golang code to use CrateDB?   \n",
       "8    False         create RAG search with CrateDB and OpenAI?   \n",
       "9    False         how to alter table and add fulltext index?   \n",
       "10    True  how to alter table and add vector type field t...   \n",
       "11   False  create table with fields ID, name, vector, and...   \n",
       "12    True        What are limits and limitations of CrateDB?   \n",
       "13   False            What are the benefits of using CrateDB?   \n",
       "14    True        Does index creation block write operations?   \n",
       "15    True            Does crate supports conditional indices   \n",
       "16    True    How to create ID field that is autoincremented?   \n",
       "17   False       how to create analysers for fulltext search?   \n",
       "18    True       give me information about password and admin   \n",
       "19    True  Shared file system implementation of the BlobS...   \n",
       "20    True                            Is Cloud UI opensource?   \n",
       "21   False  How to do fusion search and connect vector sea...   \n",
       "22   False         How to MATH fulltext Benchmarks of CrateDB   \n",
       "\n",
       "                                         prediction_A  \\\n",
       "0   To use blobs in CrateDB, you first need to cre...   \n",
       "1   To use BLOB storage in CrateDB, you can store ...   \n",
       "2   To limit permissions in CrateDB, users can uti...   \n",
       "3   To subscribe to CrateDB Cloud's offering on AW...   \n",
       "4   Edge regions are custom regions that can be cr...   \n",
       "5   Recent blog posts about CrateDB include:\\n1. [...   \n",
       "6   You can find example Python code to use CrateD...   \n",
       "7   To use CrateDB with Go, you can follow the exa...   \n",
       "8   To create a RAG search with CrateDB and OpenAI...   \n",
       "9   Based on the context provided, to add a fullte...   \n",
       "10  To alter a table and add a vector type field t...   \n",
       "11  To create a table with fields ID, name, vector...   \n",
       "12  The limitations of CrateDB's single-node CRFEE...   \n",
       "13  Some benefits of using CrateDB include high pe...   \n",
       "14  Based on the provided context, index creation ...   \n",
       "15  Based on the provided context, CrateDB automat...   \n",
       "16  To create an autoincremented ID field in Crate...   \n",
       "17  To create analyzers for fulltext search in Cra...   \n",
       "18  The provided information includes details abou...   \n",
       "19  The shared file system implementation of the B...   \n",
       "20  Based on the provided context, the Cloud UI me...   \n",
       "21  To perform fusion search and connect vector se...   \n",
       "22  To math fulltext benchmarks of CrateDB, you ca...   \n",
       "\n",
       "                                         prediction_B  \\\n",
       "0   To upload a blob using Crate, you can issue a ...   \n",
       "1   To use BLOB storage in CrateDB, you can store ...   \n",
       "2   To limit permissions in CrateDB, it is recomme...   \n",
       "3   To subscribe to CrateDB Cloud's offering on AW...   \n",
       "4   Edge regions are components of a deployed Edge...   \n",
       "5   Recent blog posts about CrateDB include:\\n1. [...   \n",
       "6   To write example Python code to use CrateDB, y...   \n",
       "7   To connect to CrateDB using Go, you can use th...   \n",
       "8   To create a RAG (Retrieval Augmented Generatio...   \n",
       "9   To alter a table and add a fulltext index in C...   \n",
       "10  To alter a table and add a vector type field t...   \n",
       "11  To create a table with fields ID, name, vector...   \n",
       "12  The limitations of CrateDB include the fact th...   \n",
       "13  The benefits of using CrateDB include high per...   \n",
       "14  Yes, index creation can block write operations...   \n",
       "15  Based on the provided context, CrateDB automat...   \n",
       "16  The provided context and sources do not mentio...   \n",
       "17  To create analyzers for fulltext search, you c...   \n",
       "18  Based on the provided context, passwords are u...   \n",
       "19  The shared file system implementation of the B...   \n",
       "20  Based on the provided context, the Cloud UI me...   \n",
       "21  To perform fusion search and connect vector se...   \n",
       "22  To benchmark the full-text search capabilities...   \n",
       "\n",
       "                                            reasoning value  score  \n",
       "0   Both assistants provide coherent, relevant, an...     B    0.0  \n",
       "1   Swapped prediction: Both assistants provided c...     B    1.0  \n",
       "2   Both assistants provide relevant and coherent ...     B    0.0  \n",
       "3   Both Assistant A and Assistant B provide coher...     B    0.0  \n",
       "4   Swapped prediction: Both assistants provide co...     B    1.0  \n",
       "5   Both Assistant A and Assistant B provided cohe...     B    0.0  \n",
       "6   Swapped prediction: Both assistants provided r...     A    0.0  \n",
       "7   Both assistants provided coherent, relevant, a...     B    0.0  \n",
       "8   Both Assistant A and Assistant B provided cohe...     B    0.0  \n",
       "9   Both Assistant A and Assistant B provided cohe...     A    1.0  \n",
       "10  Swapped prediction: Both assistants provide co...     A    0.0  \n",
       "11  Both assistants provide coherent, relevant, an...     A    1.0  \n",
       "12  Swapped prediction: Both Assistant A and Assis...  None    0.5  \n",
       "13  Both Assistant A and Assistant B provided comp...     A    1.0  \n",
       "14  Swapped prediction: Both Assistant A and Assis...     A    0.0  \n",
       "15  Swapped prediction: Both assistants provide co...     A    0.0  \n",
       "16  Swapped prediction: Assistant A provides a det...     B    1.0  \n",
       "17  Both Assistant A and Assistant B provided rele...     B    0.0  \n",
       "18  Swapped prediction: Both Assistant A and Assis...     B    1.0  \n",
       "19  Swapped prediction: Both Assistant A and Assis...     A    0.0  \n",
       "20  Swapped prediction: Both Assistant A and Assis...  None    0.5  \n",
       "21  Both assistants provided coherent, relevant, a...     B    0.0  \n",
       "22  Both Assistant A and Assistant B provide relev...     A    1.0  "
      ],
      "text/html": [
       "<div>\n",
       "<style scoped>\n",
       "    .dataframe tbody tr th:only-of-type {\n",
       "        vertical-align: middle;\n",
       "    }\n",
       "\n",
       "    .dataframe tbody tr th {\n",
       "        vertical-align: top;\n",
       "    }\n",
       "\n",
       "    .dataframe thead th {\n",
       "        text-align: right;\n",
       "    }\n",
       "</style>\n",
       "<table border=\"1\" class=\"dataframe\">\n",
       "  <thead>\n",
       "    <tr style=\"text-align: right;\">\n",
       "      <th></th>\n",
       "      <th>choice</th>\n",
       "      <th>question</th>\n",
       "      <th>prediction_A</th>\n",
       "      <th>prediction_B</th>\n",
       "      <th>reasoning</th>\n",
       "      <th>value</th>\n",
       "      <th>score</th>\n",
       "    </tr>\n",
       "  </thead>\n",
       "  <tbody>\n",
       "    <tr>\n",
       "      <th>0</th>\n",
       "      <td>False</td>\n",
       "      <td>Write me example of using blobs?</td>\n",
       "      <td>To use blobs in CrateDB, you first need to cre...</td>\n",
       "      <td>To upload a blob using Crate, you can issue a ...</td>\n",
       "      <td>Both assistants provide coherent, relevant, an...</td>\n",
       "      <td>B</td>\n",
       "      <td>0.0</td>\n",
       "    </tr>\n",
       "    <tr>\n",
       "      <th>1</th>\n",
       "      <td>True</td>\n",
       "      <td>How to use BLOB store in CrateDB? and what are...</td>\n",
       "      <td>To use BLOB storage in CrateDB, you can store ...</td>\n",
       "      <td>To use BLOB storage in CrateDB, you can store ...</td>\n",
       "      <td>Swapped prediction: Both assistants provided c...</td>\n",
       "      <td>B</td>\n",
       "      <td>1.0</td>\n",
       "    </tr>\n",
       "    <tr>\n",
       "      <th>2</th>\n",
       "      <td>False</td>\n",
       "      <td>How to limit permissions?</td>\n",
       "      <td>To limit permissions in CrateDB, users can uti...</td>\n",
       "      <td>To limit permissions in CrateDB, it is recomme...</td>\n",
       "      <td>Both assistants provide relevant and coherent ...</td>\n",
       "      <td>B</td>\n",
       "      <td>0.0</td>\n",
       "    </tr>\n",
       "    <tr>\n",
       "      <th>3</th>\n",
       "      <td>False</td>\n",
       "      <td>How AWS marketplace works, and why I cannot se...</td>\n",
       "      <td>To subscribe to CrateDB Cloud's offering on AW...</td>\n",
       "      <td>To subscribe to CrateDB Cloud's offering on AW...</td>\n",
       "      <td>Both Assistant A and Assistant B provide coher...</td>\n",
       "      <td>B</td>\n",
       "      <td>0.0</td>\n",
       "    </tr>\n",
       "    <tr>\n",
       "      <th>4</th>\n",
       "      <td>True</td>\n",
       "      <td>What are edge regions and how to use them?</td>\n",
       "      <td>Edge regions are custom regions that can be cr...</td>\n",
       "      <td>Edge regions are components of a deployed Edge...</td>\n",
       "      <td>Swapped prediction: Both assistants provide co...</td>\n",
       "      <td>B</td>\n",
       "      <td>1.0</td>\n",
       "    </tr>\n",
       "    <tr>\n",
       "      <th>5</th>\n",
       "      <td>False</td>\n",
       "      <td>What are recent blog posts about CrateDB?</td>\n",
       "      <td>Recent blog posts about CrateDB include:\\n1. [...</td>\n",
       "      <td>Recent blog posts about CrateDB include:\\n1. [...</td>\n",
       "      <td>Both Assistant A and Assistant B provided cohe...</td>\n",
       "      <td>B</td>\n",
       "      <td>0.0</td>\n",
       "    </tr>\n",
       "    <tr>\n",
       "      <th>6</th>\n",
       "      <td>True</td>\n",
       "      <td>Write me example python code to use CrateDB?</td>\n",
       "      <td>You can find example Python code to use CrateD...</td>\n",
       "      <td>To write example Python code to use CrateDB, y...</td>\n",
       "      <td>Swapped prediction: Both assistants provided r...</td>\n",
       "      <td>A</td>\n",
       "      <td>0.0</td>\n",
       "    </tr>\n",
       "    <tr>\n",
       "      <th>7</th>\n",
       "      <td>False</td>\n",
       "      <td>Write me example golang code to use CrateDB?</td>\n",
       "      <td>To use CrateDB with Go, you can follow the exa...</td>\n",
       "      <td>To connect to CrateDB using Go, you can use th...</td>\n",
       "      <td>Both assistants provided coherent, relevant, a...</td>\n",
       "      <td>B</td>\n",
       "      <td>0.0</td>\n",
       "    </tr>\n",
       "    <tr>\n",
       "      <th>8</th>\n",
       "      <td>False</td>\n",
       "      <td>create RAG search with CrateDB and OpenAI?</td>\n",
       "      <td>To create a RAG search with CrateDB and OpenAI...</td>\n",
       "      <td>To create a RAG (Retrieval Augmented Generatio...</td>\n",
       "      <td>Both Assistant A and Assistant B provided cohe...</td>\n",
       "      <td>B</td>\n",
       "      <td>0.0</td>\n",
       "    </tr>\n",
       "    <tr>\n",
       "      <th>9</th>\n",
       "      <td>False</td>\n",
       "      <td>how to alter table and add fulltext index?</td>\n",
       "      <td>Based on the context provided, to add a fullte...</td>\n",
       "      <td>To alter a table and add a fulltext index in C...</td>\n",
       "      <td>Both Assistant A and Assistant B provided cohe...</td>\n",
       "      <td>A</td>\n",
       "      <td>1.0</td>\n",
       "    </tr>\n",
       "    <tr>\n",
       "      <th>10</th>\n",
       "      <td>True</td>\n",
       "      <td>how to alter table and add vector type field t...</td>\n",
       "      <td>To alter a table and add a vector type field t...</td>\n",
       "      <td>To alter a table and add a vector type field t...</td>\n",
       "      <td>Swapped prediction: Both assistants provide co...</td>\n",
       "      <td>A</td>\n",
       "      <td>0.0</td>\n",
       "    </tr>\n",
       "    <tr>\n",
       "      <th>11</th>\n",
       "      <td>False</td>\n",
       "      <td>create table with fields ID, name, vector, and...</td>\n",
       "      <td>To create a table with fields ID, name, vector...</td>\n",
       "      <td>To create a table with fields ID, name, vector...</td>\n",
       "      <td>Both assistants provide coherent, relevant, an...</td>\n",
       "      <td>A</td>\n",
       "      <td>1.0</td>\n",
       "    </tr>\n",
       "    <tr>\n",
       "      <th>12</th>\n",
       "      <td>True</td>\n",
       "      <td>What are limits and limitations of CrateDB?</td>\n",
       "      <td>The limitations of CrateDB's single-node CRFEE...</td>\n",
       "      <td>The limitations of CrateDB include the fact th...</td>\n",
       "      <td>Swapped prediction: Both Assistant A and Assis...</td>\n",
       "      <td>None</td>\n",
       "      <td>0.5</td>\n",
       "    </tr>\n",
       "    <tr>\n",
       "      <th>13</th>\n",
       "      <td>False</td>\n",
       "      <td>What are the benefits of using CrateDB?</td>\n",
       "      <td>Some benefits of using CrateDB include high pe...</td>\n",
       "      <td>The benefits of using CrateDB include high per...</td>\n",
       "      <td>Both Assistant A and Assistant B provided comp...</td>\n",
       "      <td>A</td>\n",
       "      <td>1.0</td>\n",
       "    </tr>\n",
       "    <tr>\n",
       "      <th>14</th>\n",
       "      <td>True</td>\n",
       "      <td>Does index creation block write operations?</td>\n",
       "      <td>Based on the provided context, index creation ...</td>\n",
       "      <td>Yes, index creation can block write operations...</td>\n",
       "      <td>Swapped prediction: Both Assistant A and Assis...</td>\n",
       "      <td>A</td>\n",
       "      <td>0.0</td>\n",
       "    </tr>\n",
       "    <tr>\n",
       "      <th>15</th>\n",
       "      <td>True</td>\n",
       "      <td>Does crate supports conditional indices</td>\n",
       "      <td>Based on the provided context, CrateDB automat...</td>\n",
       "      <td>Based on the provided context, CrateDB automat...</td>\n",
       "      <td>Swapped prediction: Both assistants provide co...</td>\n",
       "      <td>A</td>\n",
       "      <td>0.0</td>\n",
       "    </tr>\n",
       "    <tr>\n",
       "      <th>16</th>\n",
       "      <td>True</td>\n",
       "      <td>How to create ID field that is autoincremented?</td>\n",
       "      <td>To create an autoincremented ID field in Crate...</td>\n",
       "      <td>The provided context and sources do not mentio...</td>\n",
       "      <td>Swapped prediction: Assistant A provides a det...</td>\n",
       "      <td>B</td>\n",
       "      <td>1.0</td>\n",
       "    </tr>\n",
       "    <tr>\n",
       "      <th>17</th>\n",
       "      <td>False</td>\n",
       "      <td>how to create analysers for fulltext search?</td>\n",
       "      <td>To create analyzers for fulltext search in Cra...</td>\n",
       "      <td>To create analyzers for fulltext search, you c...</td>\n",
       "      <td>Both Assistant A and Assistant B provided rele...</td>\n",
       "      <td>B</td>\n",
       "      <td>0.0</td>\n",
       "    </tr>\n",
       "    <tr>\n",
       "      <th>18</th>\n",
       "      <td>True</td>\n",
       "      <td>give me information about password and admin</td>\n",
       "      <td>The provided information includes details abou...</td>\n",
       "      <td>Based on the provided context, passwords are u...</td>\n",
       "      <td>Swapped prediction: Both Assistant A and Assis...</td>\n",
       "      <td>B</td>\n",
       "      <td>1.0</td>\n",
       "    </tr>\n",
       "    <tr>\n",
       "      <th>19</th>\n",
       "      <td>True</td>\n",
       "      <td>Shared file system implementation of the BlobS...</td>\n",
       "      <td>The shared file system implementation of the B...</td>\n",
       "      <td>The shared file system implementation of the B...</td>\n",
       "      <td>Swapped prediction: Both Assistant A and Assis...</td>\n",
       "      <td>A</td>\n",
       "      <td>0.0</td>\n",
       "    </tr>\n",
       "    <tr>\n",
       "      <th>20</th>\n",
       "      <td>True</td>\n",
       "      <td>Is Cloud UI opensource?</td>\n",
       "      <td>Based on the provided context, the Cloud UI me...</td>\n",
       "      <td>Based on the provided context, the Cloud UI me...</td>\n",
       "      <td>Swapped prediction: Both Assistant A and Assis...</td>\n",
       "      <td>None</td>\n",
       "      <td>0.5</td>\n",
       "    </tr>\n",
       "    <tr>\n",
       "      <th>21</th>\n",
       "      <td>False</td>\n",
       "      <td>How to do fusion search and connect vector sea...</td>\n",
       "      <td>To perform fusion search and connect vector se...</td>\n",
       "      <td>To perform fusion search and connect vector se...</td>\n",
       "      <td>Both assistants provided coherent, relevant, a...</td>\n",
       "      <td>B</td>\n",
       "      <td>0.0</td>\n",
       "    </tr>\n",
       "    <tr>\n",
       "      <th>22</th>\n",
       "      <td>False</td>\n",
       "      <td>How to MATH fulltext Benchmarks of CrateDB</td>\n",
       "      <td>To math fulltext benchmarks of CrateDB, you ca...</td>\n",
       "      <td>To benchmark the full-text search capabilities...</td>\n",
       "      <td>Both Assistant A and Assistant B provide relev...</td>\n",
       "      <td>A</td>\n",
       "      <td>1.0</td>\n",
       "    </tr>\n",
       "  </tbody>\n",
       "</table>\n",
       "</div>"
      ]
     },
     "execution_count": 37,
     "metadata": {},
     "output_type": "execute_result"
    }
   ],
   "execution_count": 37
  },
  {
   "cell_type": "markdown",
   "source": [
    "# Analysis of evaluation results\n",
    "- Which variant was preferred more?\n",
    "- What is probability that people presented with a variant A over B will be more happy?\n",
    "- Which prediction variant on average performed better?\n",
    "- What is distribution of scores for each prediction variant?"
   ],
   "metadata": {
    "collapsed": false
   },
   "id": "cc763f269763d1cc"
  },
  {
   "cell_type": "markdown",
   "source": [
    "## Which variant was preferred more? as percentage"
   ],
   "metadata": {
    "collapsed": false
   },
   "id": "ea6105151cd06598"
  },
  {
   "metadata": {
    "ExecuteTime": {
     "end_time": "2024-04-28T18:20:06.699208Z",
     "start_time": "2024-04-28T18:20:06.697379Z"
    }
   },
   "cell_type": "code",
   "source": "",
   "id": "c265ee30e401f375",
   "outputs": [],
   "execution_count": 37
  },
  {
   "cell_type": "code",
   "source": [
    "total = len(questions)\n",
    "# value can be A, B, None, None means that both predictions are equal, show None as C\n",
    "# dived by total to get percentage contribution from all evaluations \n",
    "# multiply by 100 to get percentage\n",
    "ab_res = evaluation_results_ab_df['value'].fillna(\"X\").value_counts() / total * 100\n",
    "ab_res"
   ],
   "metadata": {
    "collapsed": false,
    "ExecuteTime": {
     "end_time": "2024-04-28T18:40:32.455381Z",
     "start_time": "2024-04-28T18:40:32.452169Z"
    }
   },
   "id": "50cd9d3abf735e99",
   "outputs": [
    {
     "data": {
      "text/plain": [
       "value\n",
       "B    43.478261\n",
       "A    39.130435\n",
       "X    17.391304\n",
       "Name: count, dtype: float64"
      ]
     },
     "execution_count": 53,
     "metadata": {},
     "output_type": "execute_result"
    }
   ],
   "execution_count": 53
  },
  {
   "cell_type": "code",
   "source": [
    "ac_res = evaluation_results_ac_df['value'].fillna(\"X\").replace('B', 'C').value_counts() / total * 100\n",
    "ac_res"
   ],
   "metadata": {
    "collapsed": false,
    "ExecuteTime": {
     "end_time": "2024-04-28T18:40:33.225739Z",
     "start_time": "2024-04-28T18:40:33.222716Z"
    }
   },
   "id": "9344108bc2d6d3bf",
   "outputs": [
    {
     "data": {
      "text/plain": [
       "value\n",
       "C    60.869565\n",
       "A    26.086957\n",
       "X    13.043478\n",
       "Name: count, dtype: float64"
      ]
     },
     "execution_count": 54,
     "metadata": {},
     "output_type": "execute_result"
    }
   ],
   "execution_count": 54
  },
  {
   "cell_type": "code",
   "source": [
    "bc_res = evaluation_results_bc_df['value'].fillna(\"X\").replace(\"B\", \"C\").replace(\"A\", \"B\").value_counts() / total * 100\n",
    "bc_res"
   ],
   "metadata": {
    "collapsed": false,
    "ExecuteTime": {
     "end_time": "2024-04-28T18:40:33.975981Z",
     "start_time": "2024-04-28T18:40:33.972774Z"
    }
   },
   "id": "d651f59942916324",
   "outputs": [
    {
     "data": {
      "text/plain": [
       "value\n",
       "C    52.173913\n",
       "B    39.130435\n",
       "X     8.695652\n",
       "Name: count, dtype: float64"
      ]
     },
     "execution_count": 55,
     "metadata": {},
     "output_type": "execute_result"
    }
   ],
   "execution_count": 55
  },
  {
   "cell_type": "markdown",
   "source": [
    "# Conclusion\n",
    "From the results we can see that the variant C(knn+fulltext) was preferred more often, \n",
    "and the variant A(knn) was preferred the least."
   ],
   "metadata": {
    "collapsed": false
   },
   "id": "81887b1fe68a9379"
  },
  {
   "cell_type": "code",
   "source": [
    "joined = pd.concat([evaluation_results_bc_df['value'].replace(\"B\", \"C\").replace(\"A\", \"B\"), \n",
    "                    evaluation_results_ac_df['value'].replace('B', 'C'), \n",
    "                    evaluation_results_ab_df['value']], axis=0)\n",
    "joined.fillna(\"X\", inplace=True)\n",
    "joined"
   ],
   "metadata": {
    "collapsed": false,
    "ExecuteTime": {
     "end_time": "2024-04-28T18:47:48.463769Z",
     "start_time": "2024-04-28T18:47:48.458266Z"
    }
   },
   "id": "bd6b2e4751bbb5cb",
   "outputs": [
    {
     "data": {
      "text/plain": [
       "0     C\n",
       "1     C\n",
       "2     C\n",
       "3     C\n",
       "4     C\n",
       "     ..\n",
       "18    A\n",
       "19    B\n",
       "20    A\n",
       "21    X\n",
       "22    A\n",
       "Name: value, Length: 69, dtype: object"
      ]
     },
     "execution_count": 68,
     "metadata": {},
     "output_type": "execute_result"
    }
   ],
   "execution_count": 68
  },
  {
   "metadata": {
    "ExecuteTime": {
     "end_time": "2024-04-28T18:47:50.548744Z",
     "start_time": "2024-04-28T18:47:50.545944Z"
    }
   },
   "cell_type": "code",
   "source": [
    "# statistics\n",
    "joined.describe()"
   ],
   "id": "a5a180d93cd6393e",
   "outputs": [
    {
     "data": {
      "text/plain": [
       "count     69\n",
       "unique     4\n",
       "top        C\n",
       "freq      26\n",
       "Name: value, dtype: object"
      ]
     },
     "execution_count": 69,
     "metadata": {},
     "output_type": "execute_result"
    }
   ],
   "execution_count": 69
  },
  {
   "metadata": {
    "ExecuteTime": {
     "end_time": "2024-04-28T18:48:50.667741Z",
     "start_time": "2024-04-28T18:48:50.614247Z"
    }
   },
   "cell_type": "code",
   "source": "joined.value_counts().plot.bar()",
   "id": "ed043316af7670bd",
   "outputs": [
    {
     "data": {
      "text/plain": [
       "<Axes: xlabel='value'>"
      ]
     },
     "execution_count": 73,
     "metadata": {},
     "output_type": "execute_result"
    },
    {
     "data": {
      "text/plain": [
       "<Figure size 640x480 with 1 Axes>"
      ],
      "image/png": "[encoded data removed]"
     },
     "metadata": {},
     "output_type": "display_data"
    }
   ],
   "execution_count": 73
  },
  {
   "metadata": {},
   "cell_type": "code",
   "outputs": [],
   "execution_count": null,
   "source": "",
   "id": "ffa44dd96c3b610e"
  }
 ],
 "metadata": {
  "kernelspec": {
   "display_name": "Python 3",
   "language": "python",
   "name": "python3"
  },
  "language_info": {
   "codemirror_mode": {
    "name": "ipython",
    "version": 2
   },
   "file_extension": ".py",
   "mimetype": "text/x-python",
   "name": "python",
   "nbconvert_exporter": "python",
   "pygments_lexer": "ipython2",
   "version": "2.7.6"
  }
 },
 "nbformat": 4,
 "nbformat_minor": 5
}
