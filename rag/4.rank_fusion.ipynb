{
 "cells": [
  {
   "cell_type": "code",
   "outputs": [
    {
     "name": "stdout",
     "output_type": "stream",
     "text": [
      "Note: you may need to restart the kernel to use updated packages.\n",
      "Note: you may need to restart the kernel to use updated packages.\n",
      "Note: you may need to restart the kernel to use updated packages.\n"
     ]
    }
   ],
   "source": [
    "%pip install --upgrade --quiet pip setuptools wheel\n",
    "%pip install --upgrade --quiet  langchain langchain-openai faiss-cpu tiktoken crate 'crate[sqlalchemy]' pandas jq \n",
    "%pip install --use-pep517 --quiet python-dotenv"
   ],
   "metadata": {
    "collapsed": false,
    "ExecuteTime": {
     "end_time": "2024-04-06T13:18:30.989408Z",
     "start_time": "2024-04-06T13:18:27.267233Z"
    }
   },
   "id": "initial_id",
   "execution_count": 1
  },
  {
   "cell_type": "markdown",
   "source": [
    "# Use CrateDB as fulltext search retriver and Mistral-7B as language model"
   ],
   "metadata": {
    "collapsed": false
   },
   "id": "dc24a7253f30ab45"
  },
  {
   "cell_type": "markdown",
   "source": [
    "## Setup environment variables"
   ],
   "metadata": {
    "collapsed": false
   },
   "id": "b175df042b6daa6c"
  },
  {
   "cell_type": "code",
   "outputs": [
    {
     "data": {
      "text/plain": "True"
     },
     "execution_count": 2,
     "metadata": {},
     "output_type": "execute_result"
    }
   ],
   "source": [
    "import os\n",
    "\n",
    "from dotenv import load_dotenv\n",
    "\n",
    "load_dotenv()"
   ],
   "metadata": {
    "collapsed": false,
    "ExecuteTime": {
     "end_time": "2024-04-06T13:18:30.996879Z",
     "start_time": "2024-04-06T13:18:30.990663Z"
    }
   },
   "id": "748584363db94776",
   "execution_count": 2
  },
  {
   "cell_type": "markdown",
   "source": [
    "## setup embeddings"
   ],
   "metadata": {
    "collapsed": false
   },
   "id": "d55a23d79479bbe0"
  },
  {
   "cell_type": "code",
   "outputs": [
    {
     "data": {
      "text/plain": "1536"
     },
     "execution_count": 3,
     "metadata": {},
     "output_type": "execute_result"
    }
   ],
   "source": [
    "from langchain_openai import OpenAIEmbeddings\n",
    "\n",
    "embeddings = OpenAIEmbeddings()\n",
    "len(embeddings.embed_query(\"a\"))"
   ],
   "metadata": {
    "collapsed": false,
    "ExecuteTime": {
     "end_time": "2024-04-06T13:18:31.740283Z",
     "start_time": "2024-04-06T13:18:30.997528Z"
    }
   },
   "id": "3310aa17c0d6b9a2",
   "execution_count": 3
  },
  {
   "cell_type": "code",
   "outputs": [
    {
     "data": {
      "text/plain": "'crate://crate:@localhost:4201'"
     },
     "execution_count": 4,
     "metadata": {},
     "output_type": "execute_result"
    }
   ],
   "source": [
    "conn_url = \"crate://{user}:{password}@{server}\".format(\n",
    "    user=os.environ[\"CRATEDB_USER\"],\n",
    "    password=os.environ[\"CRATEDB_PASS\"],\n",
    "    server=os.environ[\"CRATEDB_SERVER\"],\n",
    ")\n",
    "conn_url"
   ],
   "metadata": {
    "collapsed": false,
    "ExecuteTime": {
     "end_time": "2024-04-06T13:18:31.744939Z",
     "start_time": "2024-04-06T13:18:31.742071Z"
    }
   },
   "id": "5411eeb9ad125937",
   "execution_count": 4
  },
  {
   "cell_type": "code",
   "outputs": [],
   "source": [
    "# open file\n",
    "from langchain_community.document_loaders import JSONLoader, DirectoryLoader\n",
    "\n",
    "\n",
    "def metadata_func(record: dict, metadata: dict) -> dict:\n",
    "    metadata[\"source_url\"] = record.get(\"url\")\n",
    "    metadata[\"source_title\"] = record.get(\"title\")\n",
    "\n",
    "    if \"source\" in metadata:\n",
    "        metadata[\"source\"] = metadata[\"source_url\"]\n",
    "\n",
    "    return metadata\n",
    "\n",
    "\n",
    "loader = DirectoryLoader(\n",
    "    './',\n",
    "    glob=\"everything-*.json\",\n",
    "    loader_cls=JSONLoader,\n",
    "    loader_kwargs={\n",
    "        \"jq_schema\": \".[]\",\n",
    "        \"text_content\": False,\n",
    "        \"content_key\": \"html\",\n",
    "        \"metadata_func\": metadata_func,\n",
    "    }\n",
    ")\n",
    "\n",
    "data = loader.load()\n",
    "# data[:1]"
   ],
   "metadata": {
    "collapsed": false,
    "ExecuteTime": {
     "end_time": "2024-04-06T13:18:32.999385Z",
     "start_time": "2024-04-06T13:18:31.745736Z"
    }
   },
   "id": "ea0659ca5e6fb4af",
   "execution_count": 5
  },
  {
   "cell_type": "code",
   "outputs": [],
   "source": [
    "# split documents\n",
    "from langchain_text_splitters import RecursiveCharacterTextSplitter\n",
    "\n",
    "text_splitter = RecursiveCharacterTextSplitter(\n",
    "    separators=[\n",
    "        \"\\n\\n\",\n",
    "        \"\\n\",\n",
    "        \" \",\n",
    "        \".\",\n",
    "        \",\",\n",
    "    ],\n",
    "    chunk_size=500,\n",
    "    chunk_overlap=50,\n",
    "    length_function=len,\n",
    "    is_separator_regex=False,\n",
    ")\n",
    "\n",
    "docs_splits = text_splitter.split_documents(data)\n",
    "# docs_splits[:2]"
   ],
   "metadata": {
    "collapsed": false,
    "ExecuteTime": {
     "end_time": "2024-04-06T13:18:33.613604Z",
     "start_time": "2024-04-06T13:18:33.000107Z"
    }
   },
   "id": "2a88dee98868148f",
   "execution_count": 6
  },
  {
   "cell_type": "markdown",
   "source": [
    "## RAG search, indexing pipeline"
   ],
   "metadata": {
    "collapsed": false
   },
   "id": "eaad0fd23f459d41"
  },
  {
   "cell_type": "code",
   "outputs": [],
   "source": [
    "from langchain_core.output_parsers import StrOutputParser\n",
    "from langchain_core.prompts import ChatPromptTemplate\n",
    "from langchain_core.runnables import RunnablePassthrough\n",
    "from langchain_openai import ChatOpenAI"
   ],
   "metadata": {
    "collapsed": false,
    "ExecuteTime": {
     "end_time": "2024-04-06T13:18:33.630395Z",
     "start_time": "2024-04-06T13:18:33.614480Z"
    }
   },
   "id": "6aac71ef0f6c8ac",
   "execution_count": 7
  },
  {
   "cell_type": "code",
   "outputs": [
    {
     "data": {
      "text/plain": "<rag.vectorstore.crate.CrateVectorStore at 0x31d0d6750>"
     },
     "execution_count": 8,
     "metadata": {},
     "output_type": "execute_result"
    }
   ],
   "source": [
    "from rag.vectorstore.crate import CrateVectorStore\n",
    "\n",
    "vectorstore = CrateVectorStore.from_documents(\n",
    "    # assumes that data was imported already\n",
    "    # allow faster recomputation of notebook, without need of reindexing\n",
    "    documents=[],\n",
    "    # documents=docs_splits,\n",
    "    embedding=embeddings,\n",
    "    database_kwargs={\n",
    "        \"database_uri\": conn_url,\n",
    "    },\n",
    "    # vectorstore_kwargs={\n",
    "    #    \"drop_if_exists\" : True,\n",
    "    # },\n",
    ")\n",
    "vectorstore"
   ],
   "metadata": {
    "collapsed": false,
    "ExecuteTime": {
     "end_time": "2024-04-06T13:18:34.084988Z",
     "start_time": "2024-04-06T13:18:33.631031Z"
    }
   },
   "id": "7ef204c60490189",
   "execution_count": 8
  },
  {
   "cell_type": "code",
   "outputs": [],
   "source": [
    "from langchain.retrievers import EnsembleRetriever\n",
    "\n",
    "retriever = EnsembleRetriever(\n",
    "    retrievers=[\n",
    "        vectorstore.as_retriever(\n",
    "            search_kwargs={'k': 10, 'fetch_k': 100, \"algorith\": \"knn\"}\n",
    "        ),\n",
    "        vectorstore.as_retriever(\n",
    "            search_kwargs={'k': 10, 'fetch_k': 100, \"algorith\": \"fulltext\"}\n",
    "        )\n",
    "    ],\n",
    "    weights=[0.5, 0.5],\n",
    ")"
   ],
   "metadata": {
    "collapsed": false,
    "ExecuteTime": {
     "end_time": "2024-04-06T13:28:49.726778Z",
     "start_time": "2024-04-06T13:28:49.723257Z"
    }
   },
   "id": "9008cfc6727133a9",
   "execution_count": 35
  },
  {
   "cell_type": "code",
   "outputs": [],
   "source": [
    "import json"
   ],
   "metadata": {
    "collapsed": false,
    "ExecuteTime": {
     "end_time": "2024-04-06T13:28:50.461064Z",
     "start_time": "2024-04-06T13:28:50.458680Z"
    }
   },
   "id": "3f36ec393120ea67",
   "execution_count": 36
  },
  {
   "cell_type": "code",
   "outputs": [
    {
     "data": {
      "text/plain": "'To use blobs in CrateDB, you first need to create a blob table using the Crate Shell. You can issue a SQL statement like this:\\n\\n```sh\\ncrash -c \"create blob table myblobs clustered into 3 shards with (number_of_replicas=1)\"\\n```\\n\\nAfter creating the blob table, you can upload a blob by issuing a PUT request like this:\\n\\n```sh\\ncurl -isSX PUT \\'127.0.0.1:4200/_blobs/myblobs/your_blob_id\\' -d \\'contents\\'\\n```\\n\\nTo retrieve a blob, you can use a GET request:\\n\\n```sh\\ncurl -sS \\'127.0.0.1:4200/_blobs/myblobs/your_blob_id\\' contents\\n```\\n\\nAnd to delete a blob, you can use a DELETE request:\\n\\n```sh\\ncurl -isS -XDELETE \\'127.0.0.1:4200/_blobs/myblobs/your_blob_id\\'\\n```\\n\\nFor more information on using blobs in CrateDB, you can refer to the [official documentation](https://cratedb.com/docs/python/en/latest/blobs.html).'"
     },
     "execution_count": 37,
     "metadata": {},
     "output_type": "execute_result"
    }
   ],
   "source": [
    "template = \"\"\"Answer the question based only on the following context, if possible use links inside answer to reference the source, use markdown:\n",
    "\n",
    "today date is 2024 April 3rd\n",
    "\n",
    "{context}\n",
    "\n",
    "Question: {question}\n",
    "\"\"\"\n",
    "prompt = ChatPromptTemplate.from_template(template)\n",
    "model = ChatOpenAI()\n",
    "\n",
    "\n",
    "def format_docs(docs):\n",
    "    breakpoint()\n",
    "    return json.dumps([{\"text\": d.page_content, \"source\": d.metadata.get('source')} for d in docs])\n",
    "\n",
    "\n",
    "chain = (\n",
    "        {\"context\": retriever | format_docs,\n",
    "         \"question\": RunnablePassthrough()}\n",
    "        | prompt\n",
    "        | model\n",
    "        | StrOutputParser()\n",
    ")\n",
    "\n",
    "# result = chain.invoke(\"How to limit permissions?\")\n",
    "# result = chain.invoke(\" How AWS marketplace works, and why I cannot see deployment in my account?\")\n",
    "# result = chain.invoke(\"What are edge regions and how to use them?\")\n",
    "result = chain.invoke(\"Write me example of using blobs?\")\n",
    "# result = chain.invoke(\"How to use BLOB store in CrateDB? and what are the benefits?\")\n",
    "result\n"
   ],
   "metadata": {
    "collapsed": false,
    "ExecuteTime": {
     "end_time": "2024-04-06T13:28:55.050540Z",
     "start_time": "2024-04-06T13:28:50.845078Z"
    }
   },
   "id": "8e28d490652fe3ff",
   "execution_count": 37
  },
  {
   "cell_type": "code",
   "outputs": [
    {
     "data": {
      "text/plain": "<IPython.core.display.Markdown object>",
      "text/markdown": "To use blobs in CrateDB, you first need to create a blob table using the Crate Shell. You can issue a SQL statement like this:\n\n```sh\ncrash -c \"create blob table myblobs clustered into 3 shards with (number_of_replicas=1)\"\n```\n\nAfter creating the blob table, you can upload a blob by issuing a PUT request like this:\n\n```sh\ncurl -isSX PUT '127.0.0.1:4200/_blobs/myblobs/your_blob_id' -d 'contents'\n```\n\nTo retrieve a blob, you can use a GET request:\n\n```sh\ncurl -sS '127.0.0.1:4200/_blobs/myblobs/your_blob_id' contents\n```\n\nAnd to delete a blob, you can use a DELETE request:\n\n```sh\ncurl -isS -XDELETE '127.0.0.1:4200/_blobs/myblobs/your_blob_id'\n```\n\nFor more information on using blobs in CrateDB, you can refer to the [official documentation](https://cratedb.com/docs/python/en/latest/blobs.html)."
     },
     "metadata": {},
     "output_type": "display_data"
    }
   ],
   "source": [
    "from IPython.display import display, Markdown\n",
    "\n",
    "display(Markdown(result))"
   ],
   "metadata": {
    "collapsed": false,
    "ExecuteTime": {
     "end_time": "2024-04-06T13:28:55.053477Z",
     "start_time": "2024-04-06T13:28:55.051415Z"
    }
   },
   "id": "4f13e0a365536776",
   "execution_count": 38
  },
  {
   "cell_type": "code",
   "outputs": [
    {
     "data": {
      "text/plain": "<IPython.core.display.Markdown object>",
      "text/markdown": "Edge regions are custom regions created for hosting CrateDB Edge clusters either locally or on existing cloud providers without relying on the default cloud regions. To create an edge region, users can follow these steps:\n\n1. **Creating a Custom Region**: \n   - Users can create a custom region by signing up or logging into the CrateDB Cloud Console and going to the Regions tab in the Subscription overview.\n   - Click on \"Create Edge region\" to create a custom edge region.\n   - Once the region appears in the regions list, a script will be provided that can be copied into the CLI for installation confirmation.\n   - The script may prompt for installation of prerequisite tools as needed.\n   - To configure necessary storage classes, users can follow the instructions provided. \n   - Source: [CrateDB Edge Regions Creation](https://cratedb.com/docs/cloud/en/latest/tutorials/edge/managed-kubernetes.html#edge-providers)\n\n2. **Deploying CrateDB Cloud on Kubernetes**:\n   - For users with access to CrateDB Cloud on Kubernetes, the Regions tab allows the deployment of CrateDB Cloud on Kubernetes clusters in a custom region.\n   - Provide a name for the custom region and click \"Create edge region\" to deploy the cluster.\n   - Once created, the custom region will appear for further configuration.\n   - Source: [CrateDB Cloud on Kubernetes Deployment](https://cratedb.com/docs/cloud/en/latest/reference/overview.html#import)\n\n3. **Upgrading Edge Regions**:\n   - Components of deployed Edge Regions are not updated automatically, and users should update their edge regions regularly for new features, bug fixes, and security updates.\n   - If an edge region is outdated, users will see an \"Upgrade this Edge region\" button next to the region.\n   - Clicking it will display a command that updates the Edge Region, which should be pasted into the environment where the Edge cluster is deployed.\n   - Source: [Edge Regions Upgradation](https://cratedb.com/docs/cloud/en/latest/tutorials/edge/introduction.html#edge-disclaimer)\n\nBy following these steps, users can effectively create, deploy, and maintain custom edge regions for hosting CrateDB Edge clusters based on their infrastructure requirements."
     },
     "metadata": {},
     "output_type": "display_data"
    }
   ],
   "source": [
    "display(Markdown(chain.invoke(\"What are edge regions and how to use them?\")))"
   ],
   "metadata": {
    "collapsed": false,
    "ExecuteTime": {
     "end_time": "2024-04-06T13:29:03.246038Z",
     "start_time": "2024-04-06T13:28:55.053900Z"
    }
   },
   "id": "b0f11d9a603e7889",
   "execution_count": 39
  },
  {
   "cell_type": "code",
   "outputs": [
    {
     "data": {
      "text/plain": "<IPython.core.display.Markdown object>",
      "text/markdown": "To deploy a cluster on CrateDB Cloud via AWS Marketplace, you will need to sign up for an AWS Marketplace account. The hourly usage is billed directly by Amazon, not by Crate.io. You can find the CrateDB Cloud offer on the AWS Marketplace page by searching for \"CrateDB Cloud\" in the search bar or going directly to the AWS offer page. Once you subscribe to the CrateDB Cloud offering, it may take up to 10 minutes for the subscription to be confirmed and usable in the CrateDB Cloud console. \n\nIf you are unable to see the deployment in your account, it may be because the subscription process is still pending or has not been completed. Additionally, to delete a cluster created via AWS Marketplace, you must unsubscribe from the offer on the AWS Marketplace website. Make sure you are logged in with the account used to subscribe to the offer, find your account name in the top right corner, and select \"Your Marketplace Software\" from the dropdown menu.\n\nFor more information, you can refer to the source documentation on [AWS Marketplace deployment with CrateDB Cloud](https://cratedb.com/docs/cloud/en/latest/tutorials/deploy/marketplace/subscribe-aws.html) and [deleting a cluster via AWS Marketplace](https://cratedb.com/docs/cloud/en/latest/howtos/delete-cluster.html)."
     },
     "metadata": {},
     "output_type": "display_data"
    }
   ],
   "source": [
    "display(Markdown(chain.invoke(\"How AWS marketplace works, and why I cannot see deployment in my account?\")))"
   ],
   "metadata": {
    "collapsed": false,
    "ExecuteTime": {
     "end_time": "2024-04-06T13:29:08.482986Z",
     "start_time": "2024-04-06T13:29:03.248518Z"
    }
   },
   "id": "888399f130295d26",
   "execution_count": 40
  },
  {
   "cell_type": "code",
   "outputs": [
    {
     "data": {
      "text/plain": "<IPython.core.display.Markdown object>",
      "text/markdown": "Recent blog posts about CrateDB include topics such as setting up a small CrateDB cluster with Docker and useful Docker commands for performance analysis. Additionally, there are posts discussing distributed query execution in CrateDB, indexing and storage in CrateDB, and handling dynamic objects in CrateDB. \n\nSources: \n- [Setting up a CrateDB cluster with Docker](https://cratedb.com/blog/tag/metrics)\n- [Distributed query execution in CrateDB](https://cratedb.com/blog/how-to-automatically-create-and-manage-database-backups)\n- [Indexing and Storage in CrateDB](https://cratedb.com/product/features/indexing-columnar-storage-aggregations)"
     },
     "metadata": {},
     "output_type": "display_data"
    }
   ],
   "source": [
    "display(Markdown(chain.invoke(\"What are recent blog posts about CrateDB?\")))"
   ],
   "metadata": {
    "collapsed": false,
    "ExecuteTime": {
     "end_time": "2024-04-06T13:29:12.384174Z",
     "start_time": "2024-04-06T13:29:08.484774Z"
    }
   },
   "id": "bedae49045683aab",
   "execution_count": 41
  },
  {
   "cell_type": "code",
   "outputs": [
    {
     "data": {
      "text/plain": "<IPython.core.display.Markdown object>",
      "text/markdown": "To use CrateDB with Python, you can follow the example code provided in the [CrateDB Python driver documentation](https://cratedb.com/connect/python). Here is a basic example of how you can connect to CrateDB using the Python driver:\n\n```python\nfrom crate.client import connect\n\n# Establish connection to CrateDB\nconnection = connect(\"http://localhost:4200/\")\n\n# Create a cursor object\ncursor = connection.cursor()\n\n# Execute a query\ncursor.execute(\"SELECT * FROM my_table\")\n\n# Fetch the results\nresults = cursor.fetchall()\n\n# Print the results\nfor row in results:\n    print(row)\n\n# Close the cursor and connection\ncursor.close()\nconnection.close()\n```\n\nThis code snippet demonstrates how to connect to CrateDB, execute a query, fetch the results, and then print them out. Make sure to replace `\"http://localhost:4200/\"` with the actual connection string for your CrateDB instance."
     },
     "metadata": {},
     "output_type": "display_data"
    }
   ],
   "source": [
    "display(Markdown(chain.invoke(\"Write me example python code to use CrateDB?\")))"
   ],
   "metadata": {
    "collapsed": false,
    "ExecuteTime": {
     "end_time": "2024-04-06T13:29:15.593567Z",
     "start_time": "2024-04-06T13:29:12.384726Z"
    }
   },
   "id": "ec0e108567d9641a",
   "execution_count": 42
  },
  {
   "cell_type": "code",
   "outputs": [
    {
     "data": {
      "text/plain": "<IPython.core.display.Markdown object>",
      "text/markdown": "To use CrateDB with Go, you can utilize the pgx driver specifically designed for PostgreSQL. Here is an example of Go code that demonstrates how to connect to CrateDB using pgx:\n\n```go\npackage main\n\nimport (\n    \"context\"\n    \"fmt\"\n    \"os\"\n\n    \"github.com/jackc/pgx/v4\"\n)\n\nfunc main() {\n    // Define the connection string\n    connString := \"postgres://crate@localhost:5432/mydb\"\n\n    // Establish a connection to CrateDB\n    conn, err := pgx.Connect(context.Background(), connString)\n    if err != nil {\n        fmt.Fprintf(os.Stderr, \"Unable to connect to database: %v\\n\", err)\n        os.Exit(1)\n    }\n    defer conn.Close(context.Background())\n\n    // Perform database operations\n    // Example: Querying data\n    rows, err := conn.Query(context.Background(), \"SELECT * FROM my_table\")\n    if err != nil {\n        fmt.Fprintf(os.Stderr, \"Query failed: %v\\n\", err)\n        os.Exit(1)\n    }\n    defer rows.Close()\n\n    for rows.Next() {\n        var id int\n        var name string\n        if err := rows.Scan(&id, &name); err != nil {\n            fmt.Fprintf(os.Stderr, \"Scan failed: %v\\n\", err)\n            os.Exit(1)\n        }\n        fmt.Printf(\"ID: %d, Name: %s\\n\", id, name)\n    }\n}\n```\n\nFor further details and more examples, you can refer to the [CrateDB documentation on connecting to CrateDB with Go](https://cratedb.com/connect/go)."
     },
     "metadata": {},
     "output_type": "display_data"
    }
   ],
   "source": [
    "display(Markdown(chain.invoke(\"Write me example golang code to use CrateDB?\")))"
   ],
   "metadata": {
    "collapsed": false,
    "ExecuteTime": {
     "end_time": "2024-04-06T13:29:20.831633Z",
     "start_time": "2024-04-06T13:29:15.594167Z"
    }
   },
   "id": "78ca6aea3a80b38a",
   "execution_count": 43
  },
  {
   "cell_type": "code",
   "outputs": [
    {
     "data": {
      "text/plain": "<IPython.core.display.Markdown object>",
      "text/markdown": "To create a Retrieval Augmented Generation (RAG) search using CrateDB and OpenAI, you can leverage vector search to use embeddings and generative AI. The RAG approach is based on using CrateDB as a vector store and the OpenAI embedding model. By following the RAG workflow with CrateDB, you can identify key data sets for training, create a high-quality prompt for content generation, build a knowledge-based index, and optimize retrieval of information from a large collection of data.\n\nFor more detailed information on how to implement RAG search with CrateDB and OpenAI, you can refer to the following sources:\n\n1. [Leverage Vector Search to Use Embeddings and Generative AI: Retrieval Augmented Generation (RAG) with CrateDB](https://cratedb.com/blog/leverage-vector-search-to-use-embeddings-and-generative-ai-retrieval-augmented-generation-rag-with-cratedb)\n2. [Figure 1: RAG workflow with CrateDB](https://cratedb.com/blog/leverage-vector-search-to-use-embeddings-and-generative-ai-retrieval-augmented-generation-rag-with-cratedb)\n3. [The role of vector store and vector similarity search](https://cratedb.com/blog/leverage-vector-search-to-use-embeddings-and-generative-ai-retrieval-augmented-generation-rag-with-cratedb)\n4. [In this post, we will introduce the RAG approach based on CrateDB as a vector store and the OpenAI embedding model](https://cratedb.com/blog/leverage-vector-search-to-use-embeddings-and-generative-ai-retrieval-augmented-generation-rag-with-cratedb)"
     },
     "metadata": {},
     "output_type": "display_data"
    }
   ],
   "source": [
    "display(Markdown(chain.invoke(\"create RAG search with CrateDB and OpenAI?\")))"
   ],
   "metadata": {
    "collapsed": false,
    "ExecuteTime": {
     "end_time": "2024-04-06T13:29:25.973575Z",
     "start_time": "2024-04-06T13:29:20.832415Z"
    }
   },
   "id": "3fb4c53c61d1d4a6",
   "execution_count": 44
  },
  {
   "cell_type": "code",
   "outputs": [
    {
     "data": {
      "text/plain": "<IPython.core.display.Markdown object>",
      "text/markdown": "To alter a table and add a fulltext index in CrateDB, you can follow the syntax provided in the documentation. First, you need to create a table with the desired columns. Then, you can alter the table to add a fulltext index using the `ALTER TABLE` statement with the `ADD INDEX` clause.\n\nHere is an example of how to add a fulltext index to a table in CrateDB:\n\n```sql\nALTER TABLE table_name ADD INDEX index_name USING FULLTEXT(columns) WITH (analyzer = 'english');\n```\n\nMake sure to replace `table_name` with the name of your table, `index_name` with the desired name for the index, and `columns` with the column(s) you want to include in the fulltext index.\n\nFor more information on creating fulltext indices in CrateDB, you can refer to the official documentation [here](https://cratedb.com/docs/crate/reference/en/master/general/ddl/fulltext-indices.html)."
     },
     "metadata": {},
     "output_type": "display_data"
    }
   ],
   "source": [
    "display(Markdown(chain.invoke(\"how to alter table and add fulltext index?\")))"
   ],
   "metadata": {
    "collapsed": false,
    "ExecuteTime": {
     "end_time": "2024-04-06T13:29:29.353731Z",
     "start_time": "2024-04-06T13:29:25.974219Z"
    }
   },
   "id": "fc18f3aecbc06573",
   "execution_count": 45
  },
  {
   "cell_type": "code",
   "outputs": [
    {
     "data": {
      "text/plain": "<IPython.core.display.Markdown object>",
      "text/markdown": "To alter a table and add a vector type field that allows for KNN search in CrateDB, you can follow the steps below:\n\n1. Make sure you are using CrateDB version 5.5 or higher, as this version introduced the vector support and KNN search functionality.\n\n2. Create a new table or use an existing table where you want to add the vector type field. For example, you can create a table named `my_data` with a field `xs` of type `FLOAT_VECTOR(2)`.\n\n```sql\nCREATE TABLE my_data (\n  xs FLOAT_VECTOR(2)\n);\n```\n\n3. Use the `ALTER TABLE` command to add a new field of type `FLOAT_VECTOR(n)` to the existing table. Replace `n` with the desired length of the vector. For example, to add a new field named `new_vector_field` of type `FLOAT_VECTOR(3)` to the `my_data` table, you can use the following command:\n\n```sql\nALTER TABLE my_data ADD COLUMN new_vector_field FLOAT_VECTOR(3);\n```\n\n4. Once you have added the vector type field to the table, you can insert vector data into the table. For example:\n\n```sql\nINSERT INTO my_data VALUES ([1.6, 2.7]), ([4.6, 7.8]);\n```\n\n5. You can then perform KNN search queries on the vector data stored in the table using the `knn_match` function. For example, to find the k-nearest neighbors of a query vector `[3.14, 8]` in the `xs` field of the `my_data` table, you can use the following query:\n\n```sql\nSELECT xs, _score FROM my_data\nWHERE knn_match(xs, [3.14, 8], 2)\nORDER BY _score DESC;\n```\n\nBy following these steps, you can alter a table in CrateDB and add a vector type field that allows for KNN search. You can find more information about vector support and KNN search in CrateDB in the [official documentation](https://cratedb.com/blog/unlocking-the-power-of-vector-support-and-knn-search-in-cratedb)."
     },
     "metadata": {},
     "output_type": "display_data"
    }
   ],
   "source": [
    "display(Markdown(chain.invoke(\"how to alter table and add vector type field that allows for KNN search?\")))"
   ],
   "metadata": {
    "collapsed": false,
    "ExecuteTime": {
     "end_time": "2024-04-06T13:29:35.390601Z",
     "start_time": "2024-04-06T13:29:29.355551Z"
    }
   },
   "id": "977d9dc3062ded68",
   "execution_count": 46
  },
  {
   "cell_type": "code",
   "outputs": [
    {
     "data": {
      "text/plain": "<IPython.core.display.Markdown object>",
      "text/markdown": "To create a table with fields ID, name, vector, and index the vector field for KNN search in CrateDB, you can use the following SQL commands:\n\n```sql\nCREATE TABLE my_table (\n  ID INTEGER PRIMARY KEY,\n  name TEXT,\n  vector FLOAT_VECTOR(2),\n  INDEX vector_ft USING FULLTEXT(vector)\n);\n```\n\nThis SQL statement creates a table called `my_table` with fields `ID` as the primary key, `name` as text, `vector` as a float vector with two components, and an index `vector_ft` on the `vector` field for full-text search to enable KNN search in CrateDB.\n\nFor more information, you can refer to the source: [CrateDB Multi-Model Database Solutions](https://cratedb.com/solutions/multi-model-database)"
     },
     "metadata": {},
     "output_type": "display_data"
    }
   ],
   "source": [
    "display(Markdown(chain.invoke(\"create table with fields ID, name, vector, and index vector field for KNN search?\")))"
   ],
   "metadata": {
    "collapsed": false,
    "ExecuteTime": {
     "end_time": "2024-04-06T13:29:38.603290Z",
     "start_time": "2024-04-06T13:29:35.391161Z"
    }
   },
   "id": "7c0bcabd6f3afc7b",
   "execution_count": 47
  },
  {
   "cell_type": "code",
   "outputs": [
    {
     "data": {
      "text/plain": "<IPython.core.display.Markdown object>",
      "text/markdown": "The limitations of the single-node CRFEE plan for CrateDB include the lack of capabilities such as high speed, scalability, and high-availability that are typically found in a standard distributed cluster. However, it is possible to easily create a new cluster with another plan from within the Cloud Console. \n\nSource: [CrateDB Limitations](https://cratedb.com/lp-crfree?hsCtaTracking=43b563de-8b00-42d1-b008-73ca8a3353a1|398e0b9d-de53-4207-9b91-a092772b42e3#main-content)"
     },
     "metadata": {},
     "output_type": "display_data"
    }
   ],
   "source": [
    "display(Markdown(chain.invoke(\"What are limits and limitations of CrateDB?\")))"
   ],
   "metadata": {
    "collapsed": false,
    "ExecuteTime": {
     "end_time": "2024-04-06T13:29:41.217550Z",
     "start_time": "2024-04-06T13:29:38.603892Z"
    }
   },
   "id": "7e0231f91aa3881a",
   "execution_count": 48
  },
  {
   "cell_type": "code",
   "outputs": [
    {
     "data": {
      "text/plain": "<IPython.core.display.Markdown object>",
      "text/markdown": "The benefits of using CrateDB include:\n\n- **High performance**: CrateDB provides high-performance capabilities with query response time in milliseconds to process and analyze data efficiently. It offers a high-performance distributed query engine, writes, and reads, enhancing query performance significantly. ([source](https://cratedb.com/product/features/query-performance))\n\n- **Scalability**: CrateDB offers horizontal scalability, allowing users to add as many nodes as needed. It is a multi-model database engine with support for structured, semi-structured, and unstructured schemas. It also provides multi-platform support, as it can run anywhere. ([source](https://cratedb.com/customers/abb))\n\n- **Flexibility**: CrateDB is an open-source, multi-model, and distributed database that offers flexibility in managing extensive concurrent reads and writes efficiently. It supports multiple data types and provides a single source of truth updated in near real-time. ([source](https://cratedb.com/solutions/database-consolidation))\n\n- **Simplicity**: CrateDB simplifies data infrastructure and helps overcome the challenges of growing complexity and technical debt. It uses native SQL as its query language, reducing the learning curve and allowing users to focus on query logic. The fully distributed query engine and columnar storage bring benefits such as immediate data availability for queries, hyper-fast aggregations, and in-memory SQL query performance. ([source](https://cratedb.com/product/features/distributed-database), [source](https://cratedb.com/product/features/query-performance))\n\n- **Cost-effectiveness**: CrateDB reduces total cost of ownership (TCO) by delivering high performance, scalability, and flexibility. It simplifies management and maintenance, provides data synchronization, and empowers data applications with support for AI/ML. ([source](https://cratedb.com/blog/what-is-data-consolidation-an-overview))\n\n- **Real-time capabilities**: CrateDB supports real-time full-text search over millions of documents in just a few seconds. It provides a powerful REST API for managing and accessing various aspects of CrateDB programmatically. ([source](https://cratedb.com/blog/automating-export-of-cratedb-data-to-s3-using-apache-airflow), [source](https://cratedb.com/product/features/rest-api))\n\nOverall, using CrateDB can offer significant benefits in terms of performance, scalability, flexibility, simplicity, cost-effectiveness, and real-time capabilities."
     },
     "metadata": {},
     "output_type": "display_data"
    }
   ],
   "source": [
    "display(Markdown(chain.invoke(\"What are the benefits of using CrateDB?\")))"
   ],
   "metadata": {
    "collapsed": false,
    "ExecuteTime": {
     "end_time": "2024-04-06T13:29:49.596973Z",
     "start_time": "2024-04-06T13:29:41.219058Z"
    }
   },
   "id": "1c43ba2f2d639f2d",
   "execution_count": 49
  },
  {
   "cell_type": "code",
   "outputs": [
    {
     "data": {
      "text/plain": "<IPython.core.display.Markdown object>",
      "text/markdown": "Technical limitations include the size and complexity of machine-generated data, diverse architecture of machine data pipelines, dated or proprietary communication protocols used by historians, specialized client applications required by some historians, and constraints on database capacity and performance due to strong consistency in relational databases. These limitations can hinder the realization of modern architectural design, real-time analytics requirements, and integration with other systems and tools. For more information, you can refer to the sources [here](https://cratedb.com/blog/new-partner-on-board-welcome-roosi), [here](https://cratedb.com/blog/time-series-databases-operational-historians), and [here](https://cratedb.com/blog/myths-relational-databases-operational-historians)."
     },
     "metadata": {},
     "output_type": "display_data"
    }
   ],
   "source": [
    "display(Markdown(chain.invoke(\"What are technical limitations?\")))"
   ],
   "metadata": {
    "collapsed": false,
    "ExecuteTime": {
     "end_time": "2024-04-06T13:29:52.652672Z",
     "start_time": "2024-04-06T13:29:49.598126Z"
    }
   },
   "id": "cf70df429d8d5462",
   "execution_count": 50
  },
  {
   "cell_type": "code",
   "outputs": [
    {
     "data": {
      "text/plain": "<IPython.core.display.Markdown object>",
      "text/markdown": "Yes, according to the CrateDB documentation, if the `write.wait_for_active_shards` setting is set to 1 and a node is stopped, the write operations would block until the replica is fully replicated again or the write operations would timeout. This means that index creation can indeed block write operations. You can read more about this in the CrateDB documentation [here](https://cratedb.com/docs/crate/reference/en/5.6/sql/statements/create-table.html)."
     },
     "metadata": {},
     "output_type": "display_data"
    }
   ],
   "source": [
    "display(Markdown(chain.invoke(\"Does index creation block write operations?\")))"
   ],
   "metadata": {
    "collapsed": false,
    "ExecuteTime": {
     "end_time": "2024-04-06T13:29:54.672650Z",
     "start_time": "2024-04-06T13:29:52.653237Z"
    }
   },
   "id": "eaf84e086725de7c",
   "execution_count": 51
  },
  {
   "cell_type": "code",
   "outputs": [
    {
     "data": {
      "text/plain": "<IPython.core.display.Markdown object>",
      "text/markdown": "Based on the information provided, CrateDB automatically indexes every attribute by default, utilizing strategies like Inverted Index for text values, Block k-d trees for numeric, date, and geospatial values, and Hierarchical Navigable Small World (HNSW) graphs for high dimensional vectors ([source](https://cratedb.com/product/features/data-storage)). Additionally, CrateDB's indexing strategy, based on a Lucene index, automatically generates indexes for all attributes regardless of their depth, enabling rapid search capabilities for stored objects and facilitating efficient updates ([source](https://cratedb.com/solutions/json-database)). \n\nTherefore, it seems that CrateDB does not support conditional indices in the traditional sense, as it automatically indexes attributes based on predefined strategies."
     },
     "metadata": {},
     "output_type": "display_data"
    }
   ],
   "source": [
    "display(Markdown(chain.invoke(\"Does crate supports conditional indices\")))"
   ],
   "metadata": {
    "collapsed": false,
    "ExecuteTime": {
     "end_time": "2024-04-06T13:29:57.311304Z",
     "start_time": "2024-04-06T13:29:54.675328Z"
    }
   },
   "id": "1e51b14f0898070",
   "execution_count": 52
  },
  {
   "cell_type": "code",
   "outputs": [
    {
     "data": {
      "text/plain": "<IPython.core.display.Markdown object>",
      "text/markdown": "To create an auto-incremented ID field in CrateDB, you can use the `_id` system column as a primary key. This column contains a unique identifier for each record and its value is deterministic. This means that two individual records in different tables with the same primary key values will also have identical `_id` values. You can refer to the CrateDB documentation on [performance and selects](https://cratedb.com/docs/guide/performance/selects.html) for more information."
     },
     "metadata": {},
     "output_type": "display_data"
    }
   ],
   "source": [
    "display(Markdown(chain.invoke(\"How to create ID field that is autoincremented?\")))"
   ],
   "metadata": {
    "collapsed": false,
    "ExecuteTime": {
     "end_time": "2024-04-06T13:29:59.495819Z",
     "start_time": "2024-04-06T13:29:57.312025Z"
    }
   },
   "id": "6c8ad4ce31c410db",
   "execution_count": 53
  },
  {
   "cell_type": "code",
   "outputs": [
    {
     "data": {
      "text/plain": "<IPython.core.display.Markdown object>",
      "text/markdown": "To create analyzers for fulltext search in CrateDB, you can use language-specific analyzers, tokenizers, and token-filters. You can get proper search results for data provided in a certain language by utilizing these elements. \n\nOne way to create an analyzer is by defining a fulltext index with an analyzer. CrateDB provides the option to use the built-in English analyzer or create custom analyzers. \n\nFor more information on creating analyzers for fulltext search in CrateDB, you can refer to the documentation on [Fulltext Indices](https://cratedb.com/docs/crate/reference/en/4.8/general/ddl/fulltext-indices.html) and [Analyzers](https://cratedb.com/docs/crate/reference/en/3.3/general/ddl/analyzers.html). \n\nAdditionally, you can also check out the [CrateDB blog](https://cratedb.com/blog/crate-for-pythonistas-with-sqlalchemy) for practical examples and guidance on creating analyzers for fulltext search."
     },
     "metadata": {},
     "output_type": "display_data"
    }
   ],
   "source": [
    "display(Markdown(chain.invoke(\"how to create analysers for fulltext search?\")))"
   ],
   "metadata": {
    "collapsed": false,
    "ExecuteTime": {
     "end_time": "2024-04-06T13:30:03.746105Z",
     "start_time": "2024-04-06T13:29:59.496559Z"
    }
   },
   "id": "a5493db9b74c0f36",
   "execution_count": 54
  },
  {
   "cell_type": "code",
   "outputs": [
    {
     "data": {
      "text/plain": "<IPython.core.display.Markdown object>",
      "text/markdown": "Based on the provided context, password authentication is required for accessing the Admin UI in CrateDB. Users need to provide a password in addition to their username when using the password authentication method. The Admin UI allows users to display cluster health, monitoring, checks, list available nodes in the cluster, list tables, and control access via the CrateDB REST and PostgreSQL wire protocol interfaces and command line tools.\n\nFor more information about password authentication and the Admin UI in CrateDB, you can refer to the following sources:\n- [CrateDB Documentation on Authentication Methods](https://cratedb.com/docs/crate/reference/en/5.6/admin/auth/methods.html)\n- [CrateDB Blog Announcing CrateDB 2.3](https://cratedb.com/blog/announcing-cratedb-2-3)\n- [CrateDB Blog on Visualizing Time Series Data with Grafana and CrateDB](https://cratedb.com/blog/visualizing-time-series-data-with-grafana-and-cratedb)\n- [CrateDB Documentation on Deletion Protection, Credentials, and Upgrading CrateDB](https://cratedb.com/docs/cloud/en/latest/reference/overview.html#import)"
     },
     "metadata": {},
     "output_type": "display_data"
    }
   ],
   "source": [
    "display(Markdown(chain.invoke(\"give me information about password and admin\")))"
   ],
   "metadata": {
    "collapsed": false,
    "ExecuteTime": {
     "end_time": "2024-04-06T13:30:08.099427Z",
     "start_time": "2024-04-06T13:30:03.746894Z"
    }
   },
   "id": "d0ff879f8faea476",
   "execution_count": 55
  },
  {
   "cell_type": "code",
   "outputs": [
    {
     "data": {
      "text/plain": "<IPython.core.display.Markdown object>",
      "text/markdown": "The shared file system implementation of the BlobStoreRepository in CrateDB allows for defining a custom directory path for storing blob data, separate from the normal data path. This enables storing normal data on a fast SSD and blob data on a large, cost-effective spinning disk. This feature simplifies data management and optimizes storage resources. You can learn more about this feature in the CrateDB documentation on [Custom location for storing blob data](https://cratedb.com/docs/crate/reference/en/5.6/general/blobs.html)."
     },
     "metadata": {},
     "output_type": "display_data"
    }
   ],
   "source": [
    "display(Markdown(chain.invoke(\"Shared file system implementation of the BlobStoreRepository\")))"
   ],
   "metadata": {
    "collapsed": false,
    "ExecuteTime": {
     "end_time": "2024-04-06T13:30:10.604794Z",
     "start_time": "2024-04-06T13:30:08.100002Z"
    }
   },
   "id": "6ee39cf1942c7708",
   "execution_count": 56
  },
  {
   "cell_type": "code",
   "outputs": [
    {
     "data": {
      "text/plain": "<IPython.core.display.Markdown object>",
      "text/markdown": "Based on the information provided, the Cloud UI offered by CrateDB is not open source. The blog post mentions that despite not being a good match for a specific use case, they loved the Cloud UI and its various features. Additionally, the blog post discussing the farewell to the CrateDB Enterprise License FAQ also states that the future is moving towards fully managed SaaS solutions, indicating that the Cloud UI is not open source. \n\nSources:\n- [Comparing Databases in Industrial IoT Use Case](https://cratedb.com/blog/comparing-databases-industrial-iot-use-case)\n- [Farewell to the CrateDB Enterprise License FAQ](https://cratedb.com/blog/farewell-to-the-cratedb-enterprise-license-faq)"
     },
     "metadata": {},
     "output_type": "display_data"
    }
   ],
   "source": [
    "display(Markdown(chain.invoke(\"Is Cloud UI opensource?\")))"
   ],
   "metadata": {
    "collapsed": false,
    "ExecuteTime": {
     "end_time": "2024-04-06T13:30:13.505860Z",
     "start_time": "2024-04-06T13:30:10.605316Z"
    }
   },
   "id": "770c08e36defac56",
   "execution_count": 57
  },
  {
   "cell_type": "code",
   "outputs": [
    {
     "data": {
      "text/plain": "<IPython.core.display.Markdown object>",
      "text/markdown": "To perform fusion search and connect vector search with full-text search, you can leverage the advanced search capabilities offered by CrateDB. This includes combining vector, full-text, and keyword searches to improve semantic similarity and keyword matching, enhancing search precision and relevance. By utilizing these features, you can integrate vector search with full-text search seamlessly, enhancing the overall search experience. For more information on how CrateDB facilitates this fusion search, you can refer to the source [here](https://cratedb.com/blog/open-source-vector-database)."
     },
     "metadata": {},
     "output_type": "display_data"
    }
   ],
   "source": [
    "display(Markdown(chain.invoke(\"How to do fusion search and connect vector search with fulltext search\")))"
   ],
   "metadata": {
    "collapsed": false,
    "ExecuteTime": {
     "end_time": "2024-04-06T13:30:15.982496Z",
     "start_time": "2024-04-06T13:30:13.507263Z"
    }
   },
   "id": "38267f655cdf9f98",
   "execution_count": 58
  },
  {
   "cell_type": "code",
   "outputs": [
    {
     "data": {
      "text/plain": "<IPython.core.display.Markdown object>",
      "text/markdown": "To use fulltext search in CrateDB, you need to create a fulltext index with an analyzer for the column you want to search. Different types of fulltext indices exist with different goals. However, it's not possible to query multiple index columns with different index types within the same MATCH predicate. More information can be found in the CrateDB documentation on [fulltext searches](https://cratedb.com/docs/crate/reference/en/5.6/general/dql/fulltext.html)."
     },
     "metadata": {},
     "output_type": "display_data"
    }
   ],
   "source": [
    "display(Markdown(chain.invoke(\"How to MATH fulltext \")))"
   ],
   "metadata": {
    "collapsed": false,
    "ExecuteTime": {
     "end_time": "2024-04-06T13:31:03.136365Z",
     "start_time": "2024-04-06T13:31:00.739125Z"
    }
   },
   "id": "5a02a60b242d49ef",
   "execution_count": 60
  }
 ],
 "metadata": {
  "kernelspec": {
   "display_name": "Python 3",
   "language": "python",
   "name": "python3"
  },
  "language_info": {
   "codemirror_mode": {
    "name": "ipython",
    "version": 2
   },
   "file_extension": ".py",
   "mimetype": "text/x-python",
   "name": "python",
   "nbconvert_exporter": "python",
   "pygments_lexer": "ipython2",
   "version": "2.7.6"
  }
 },
 "nbformat": 4,
 "nbformat_minor": 5
}
